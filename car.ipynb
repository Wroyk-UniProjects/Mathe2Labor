{
 "cells": [
  {
   "cell_type": "markdown",
   "metadata": {
    "toc": true
   },
   "source": [
    "<h1>Projekt \"Car\"<span class=\"tocSkip\"></span></h1>\n",
    "<div class=\"toc\"><ul class=\"toc-item\"><li><span><a href=\"#Aufgabe-1\" data-toc-modified-id=\"Aufgabe-1-1\"><span class=\"toc-item-num\">1&nbsp;&nbsp;</span>Aufgabe 1</a></span></li><li><span><a href=\"#Aufgabe-2\" data-toc-modified-id=\"Aufgabe-2-2\"><span class=\"toc-item-num\">2&nbsp;&nbsp;</span>Aufgabe 2</a></span></li><li><span><a href=\"#Aufgabe-3\" data-toc-modified-id=\"Aufgabe-3-3\"><span class=\"toc-item-num\">3&nbsp;&nbsp;</span>Aufgabe 3</a></span></li><li><span><a href=\"#Aufgabe-4\" data-toc-modified-id=\"Aufgabe-4-4\"><span class=\"toc-item-num\">4&nbsp;&nbsp;</span>Aufgabe 4</a></span></li><li><span><a href=\"#Aufgabe-5\" data-toc-modified-id=\"Aufgabe-5-5\"><span class=\"toc-item-num\">5&nbsp;&nbsp;</span>Aufgabe 5</a></span></li><li><span><a href=\"#Zusatzaufgabe\" data-toc-modified-id=\"Zusatzaufgabe-6\"><span class=\"toc-item-num\">6&nbsp;&nbsp;</span>Zusatzaufgabe</a></span></li></ul></div>"
   ]
  },
  {
   "cell_type": "markdown",
   "metadata": {},
   "source": [
    "# Lernziele\n",
    "Die Studierenden lernen\n",
    "- Grafikbefehle anzuwenden\n",
    "- Schaubilder von Funktionen und parametrisierten Kurven zu erstellen\n",
    "- Vektoren und Matrizen zu erzeugen und damit zu rechnen\n",
    "- Lineare Gleichungssysteme zu lösen\n",
    "- Interpolationspolynome durch vorgegebene Punkte zu ermitteln\n",
    "- Transformationsmatrizen in der Ebene anzuwenden"
   ]
  },
  {
   "cell_type": "markdown",
   "metadata": {},
   "source": [
    "# Aufgabenstellung\n",
    "Die abgebildete Grafik soll erstellt werden."
   ]
  },
  {
   "cell_type": "code",
   "execution_count": 3,
   "metadata": {},
   "outputs": [],
   "source": [
    "from IPython.display import IFrame\n",
    "#IFrame('https://www.dropbox.com/s/1k9stbmr8mlrwzn/car5.png?raw=1', width=600, height=330)"
   ]
  },
  {
   "cell_type": "markdown",
   "metadata": {},
   "source": [
    "# Vorgehensweise\n",
    "Die Vorgehensweise kann in den folgenden Schritten erfolgen:\n",
    "- Grafik mit Gitterlinien\n",
    "- Linien für Boden und Heck\n",
    "- Räder\n",
    "- Dach\n",
    "- Profilkurve\n",
    "- Transformation\n",
    "- Animation (optional)"
   ]
  },
  {
   "cell_type": "markdown",
   "metadata": {},
   "source": [
    "# Bibliotheken\n",
    "Für die Berechnungen wird die Bibliothek `numpy` verwendet.\n",
    "Das Erstellen der Grafiken erfolgt mit der Bibliothek `matplotlib` und `pyplot`.\n",
    "Für `pyplot` verwendet man üblicherweise die Abkürzung `plt`."
   ]
  },
  {
   "cell_type": "code",
   "execution_count": 5,
   "metadata": {},
   "outputs": [],
   "source": [
    "import numpy as np\n",
    "import matplotlib.pyplot as plt"
   ]
  },
  {
   "cell_type": "markdown",
   "metadata": {},
   "source": [
    "# Grafik mit Gitterlinien\n",
    "Zunächst werden die Werte für den Bereich der $x$- und $y$-Werte festgelegt.\n",
    "Dabei kann man in Python die Mehrfachzuweisung mit durch Kommata getrennten Elementen verwenden.   "
   ]
  },
  {
   "source": [
    "x_min, x_max, y_min, y_max = -20.0, 20.0, -10.0, 12.0"
   ],
   "cell_type": "markdown",
   "metadata": {}
  },
  {
   "cell_type": "code",
   "execution_count": 7,
   "metadata": {},
   "outputs": [],
   "source": [
    "plot_settings= {\n",
    "    \"x_min\": -20.0,\n",
    "    \"x_max\": 20.0,\n",
    "    \"y_min\": -10.0,\n",
    "    \"y_max\": 12.0,\n",
    "    \"aspect\": 'equal',\n",
    "    \"x_ticks_step\": 2,\n",
    "    \"y_ticks_step\": 2,\n",
    "    \"grid_minor_alpha\": 0.1,\n",
    "    \"grid_major_alpha\": 0.5,\n",
    "}"
   ]
  },
  {
   "cell_type": "markdown",
   "metadata": {},
   "source": [
    "Nun wird ein Fenster vom Typ `figure` und darin ein Achsenkreuz vom Typ `axes` erzeugt.\n",
    "Die Größe des Fensters wird auf den Bereich der $x$- und $y$-Werte angepasst.\n",
    "Mit der Funktion `subplots()` ist es auch möglich, mehrere Achsenkreuze in einem Fenster zu platzieren."
   ]
  },
  {
   "source": [
    "fig, ax = plt.subplots(figsize=((x_max-x_min)/4,(y_max-y_min)/4))"
   ],
   "cell_type": "markdown",
   "metadata": {}
  },
  {
   "cell_type": "markdown",
   "metadata": {},
   "source": [
    "Die Funktion `set_aspect('equal')` stellt sicher, dass die Skalierung der $x$- und $y$-Werte im Verhältnis $1:1$ erfolgt.\n",
    "Dadurch werden die Räder später als Kreis und nicht als Ellipse dargestellt."
   ]
  },
  {
   "source": [
    "ax.set_aspect('equal')\n",
    "display(fig)"
   ],
   "cell_type": "markdown",
   "metadata": {}
  },
  {
   "cell_type": "markdown",
   "metadata": {},
   "source": [
    "Standardmäßig verläuft der Bereich der $x$- und $y$-Werte zwischen $0.0$ und $1.0$.\n",
    "Er kann durch die Funktion `axis()` angepasst werden.\n",
    "Die Funktion `display()` zeigt das veränderte Fenster an."
   ]
  },
  {
   "source": [
    "ax.axis([x_min,x_max,y_min,y_max])\n",
    "display(fig)"
   ],
   "cell_type": "markdown",
   "metadata": {}
  },
  {
   "cell_type": "markdown",
   "metadata": {},
   "source": [
    "Die Beschriftung der Achsen wird durch die Funktionen `set_xticks()` und `set_yticks()` angepasst.\n",
    "Die Zahlenwerte für die Positionen der Achsenbeschriftungen werden durch einen `numpy`-Vektor festgelegt.\n",
    "Die Vektoren werden durch die Funktion `arange()` erzeugt."
   ]
  },
  {
   "cell_type": "markdown",
   "metadata": {},
   "source": [
    "<div class=\"alert alert-block alert-danger\">\n",
    "    \n",
    "<b>Merke</b>\n",
    "    \n",
    "Mit der Funktion `arange(start,stop,step)` aus der Bibliothek `numpy` lassen sich Sequenzen von Zahlen, die bei `start` beginnen, vor `stop` enden und eine Schrittweite `step` besitzen erzeugen.\n",
    "Ähnliche Möglichkeiten bietet die Funktion `linspace(start,stop,num)`.\n",
    "    \n",
    "\n",
    "- https://numpy.org/devdocs/reference/generated/numpy.arange.html\n",
    "- https://numpy.org/devdocs/reference/generated/numpy.linspace.html"
   ]
  },
  {
   "source": [
    "x_ticks = np.arange(x_min,x_max+1,2)\n",
    "print('x_ticks = ',x_ticks)\n",
    "ax.set_xticks(x_ticks)\n",
    "y_ticks = np.arange(y_min,y_max+1,2)\n",
    "print('y_ticks = ',y_ticks)\n",
    "ax.set_yticks(y_ticks)\n",
    "display(fig)"
   ],
   "cell_type": "markdown",
   "metadata": {}
  },
  {
   "cell_type": "markdown",
   "metadata": {},
   "source": [
    "Die Gitterlinien können durch die Funktion `grid()` eingeblendet werden."
   ]
  },
  {
   "source": [
    "ax.grid(True)\n",
    "display(fig)"
   ],
   "cell_type": "markdown",
   "metadata": {}
  },
  {
   "cell_type": "markdown",
   "metadata": {},
   "source": [
    "Eine bessere optische Wirkung lässt sich erzielen, in dem man zusätzlich zu dem sogenannten `major` Gitter auch noch das sogenannte `minor` Gitter, mit geringeren Farbintensitäten, einblendet. "
   ]
  },
  {
   "source": [
    "ax.set_xticks(np.arange(x_min,x_max+1),minor=True)\n",
    "ax.set_yticks(np.arange(y_min,y_max+1),minor=True)\n",
    "ax.grid(which='minor', alpha=0.1)\n",
    "ax.grid(which='major', alpha=0.5)\n",
    "display(fig)"
   ],
   "cell_type": "markdown",
   "metadata": {}
  },
  {
   "cell_type": "code",
   "execution_count": 9,
   "metadata": {},
   "outputs": [],
   "source": [
    "def new_plot(settings):\n",
    "    fig, ax = plt.subplots(figsize=((settings[\"x_max\"]-settings[\"x_min\"])/4,(settings[\"y_max\"]-settings[\"y_min\"])/4))\n",
    "\n",
    "    #Achsen Verhältings\n",
    "    ax.set_aspect(settings[\"aspect\"])\n",
    "\n",
    "    #Achsen Skala\n",
    "    ax.axis([settings[\"x_min\"],settings[\"x_max\"],settings[\"y_min\"],settings[\"y_max\"]])\n",
    "\n",
    "    #Achsen Beschriftung\n",
    "    ax.set_xticks(np.arange(settings[\"x_min\"],settings[\"x_max\"]+1,settings[\"x_ticks_step\"]))\n",
    "    ax.set_yticks(np.arange(settings[\"y_min\"],settings[\"y_max\"]+1,settings[\"y_ticks_step\"]))\n",
    "\n",
    "    #Gitter \n",
    "    ax.set_xticks(np.arange(settings[\"x_min\"],settings[\"x_max\"]+1),minor=True)\n",
    "    ax.set_yticks(np.arange(settings[\"y_min\"],settings[\"y_max\"]+1),minor=True)\n",
    "    ax.grid(which='minor', alpha=settings[\"grid_minor_alpha\"])\n",
    "    ax.grid(which='major', alpha=settings[\"grid_major_alpha\"])\n",
    "    return fig, ax"
   ]
  },
  {
   "cell_type": "code",
   "execution_count": 11,
   "metadata": {},
   "outputs": [],
   "source": [
    "def draw_plot(x,y,color,settings):\n",
    "    fig, ax = new_plot(settings)\n",
    "    ax.plot(x, y, color)"
   ]
  },
  {
   "cell_type": "markdown",
   "metadata": {},
   "source": [
    "# Linien für Boden und Heck"
   ]
  },
  {
   "cell_type": "markdown",
   "metadata": {},
   "source": [
    "<div class=\"alert alert-block alert-info\">\n",
    "    \n",
    "### Aufgabe 1\n",
    "\n",
    "Ergänzen Sie die Grafik durch die Linien für Boden und Heck des Fahrzeugs.   \n",
    "</div>"
   ]
  },
  {
   "cell_type": "code",
   "execution_count": 13,
   "metadata": {},
   "outputs": [],
   "source": [
    "#IFrame('https://www.dropbox.com/s/s3aoi2pur59gbuo/car1.png?raw=1', width=600, height=330)"
   ]
  },
  {
   "cell_type": "markdown",
   "metadata": {},
   "source": [
    "<div class=\"alert alert-block alert-danger\">\n",
    "    \n",
    "<b>Merke</b>\n",
    "    \n",
    "Mit der Funktion `plot(x,y,...)` aus der Bibliothek `matplotlib` lassen sich die Punkte mit den $x$- und $y$-Koordinaten grafisch darstellen.\n",
    "Die Punkte werden entweder durch gerade Linien verbunden oder einzeln durch Symbole dargestellt.\n",
    "Unterbrochene Linien lassen sich durch Einfügen von `numpy.nan` erzeugen.\n",
    "\n",
    "- https://matplotlib.org/api/_as_gen/matplotlib.pyplot.plot.html#matplotlib.pyplot.plot\n",
    "    \n",
    "</div>"
   ]
  },
  {
   "cell_type": "code",
   "execution_count": 69,
   "metadata": {},
   "outputs": [
    {
     "output_type": "display_data",
     "data": {
      "text/plain": "<Figure size 720x396 with 1 Axes>",
      "image/svg+xml": "<?xml version=\"1.0\" encoding=\"utf-8\" standalone=\"no\"?>\r\n<!DOCTYPE svg PUBLIC \"-//W3C//DTD SVG 1.1//EN\"\r\n  \"http://www.w3.org/Graphics/SVG/1.1/DTD/svg11.dtd\">\r\n<svg height=\"333.857344pt\" version=\"1.1\" viewBox=\"0 0 592.467187 333.857344\" width=\"592.467187pt\" xmlns=\"http://www.w3.org/2000/svg\" xmlns:xlink=\"http://www.w3.org/1999/xlink\">\r\n <metadata>\r\n  <rdf:RDF xmlns:cc=\"http://creativecommons.org/ns#\" xmlns:dc=\"http://purl.org/dc/elements/1.1/\" xmlns:rdf=\"http://www.w3.org/1999/02/22-rdf-syntax-ns#\">\r\n   <cc:Work>\r\n    <dc:type rdf:resource=\"http://purl.org/dc/dcmitype/StillImage\"/>\r\n    <dc:date>2021-04-08T12:02:06.998689</dc:date>\r\n    <dc:format>image/svg+xml</dc:format>\r\n    <dc:creator>\r\n     <cc:Agent>\r\n      <dc:title>Matplotlib v3.4.1, https://matplotlib.org/</dc:title>\r\n     </cc:Agent>\r\n    </dc:creator>\r\n   </cc:Work>\r\n  </rdf:RDF>\r\n </metadata>\r\n <defs>\r\n  <style type=\"text/css\">*{stroke-linecap:butt;stroke-linejoin:round;}</style>\r\n </defs>\r\n <g id=\"figure_1\">\r\n  <g id=\"patch_1\">\r\n   <path d=\"M -0 333.857344 \r\nL 592.467187 333.857344 \r\nL 592.467187 0 \r\nL -0 0 \r\nz\r\n\" style=\"fill:none;\"/>\r\n  </g>\r\n  <g id=\"axes_1\">\r\n   <g id=\"patch_2\">\r\n    <path d=\"M 35.304688 309.979219 \r\nL 578.904687 309.979219 \r\nL 578.904687 10.999219 \r\nL 35.304688 10.999219 \r\nz\r\n\" style=\"fill:#ffffff;\"/>\r\n   </g>\r\n   <g id=\"matplotlib.axis_1\">\r\n    <g id=\"xtick_1\">\r\n     <g id=\"line2d_1\">\r\n      <path clip-path=\"url(#pa2275059d7)\" d=\"M 35.304688 309.979219 \r\nL 35.304688 10.999219 \r\n\" style=\"fill:none;stroke:#b0b0b0;stroke-linecap:square;stroke-opacity:0.5;stroke-width:0.8;\"/>\r\n     </g>\r\n     <g id=\"line2d_2\">\r\n      <defs>\r\n       <path d=\"M 0 0 \r\nL 0 3.5 \r\n\" id=\"m21e3e08412\" style=\"stroke:#000000;stroke-width:0.8;\"/>\r\n      </defs>\r\n      <g>\r\n       <use style=\"stroke:#000000;stroke-width:0.8;\" x=\"35.304688\" xlink:href=\"#m21e3e08412\" y=\"309.979219\"/>\r\n      </g>\r\n     </g>\r\n     <g id=\"text_1\">\r\n      <!-- −20 -->\r\n      <g transform=\"translate(24.752344 324.577656)scale(0.1 -0.1)\">\r\n       <defs>\r\n        <path d=\"M 678 2272 \r\nL 4684 2272 \r\nL 4684 1741 \r\nL 678 1741 \r\nL 678 2272 \r\nz\r\n\" id=\"DejaVuSans-2212\" transform=\"scale(0.015625)\"/>\r\n        <path d=\"M 1228 531 \r\nL 3431 531 \r\nL 3431 0 \r\nL 469 0 \r\nL 469 531 \r\nQ 828 903 1448 1529 \r\nQ 2069 2156 2228 2338 \r\nQ 2531 2678 2651 2914 \r\nQ 2772 3150 2772 3378 \r\nQ 2772 3750 2511 3984 \r\nQ 2250 4219 1831 4219 \r\nQ 1534 4219 1204 4116 \r\nQ 875 4013 500 3803 \r\nL 500 4441 \r\nQ 881 4594 1212 4672 \r\nQ 1544 4750 1819 4750 \r\nQ 2544 4750 2975 4387 \r\nQ 3406 4025 3406 3419 \r\nQ 3406 3131 3298 2873 \r\nQ 3191 2616 2906 2266 \r\nQ 2828 2175 2409 1742 \r\nQ 1991 1309 1228 531 \r\nz\r\n\" id=\"DejaVuSans-32\" transform=\"scale(0.015625)\"/>\r\n        <path d=\"M 2034 4250 \r\nQ 1547 4250 1301 3770 \r\nQ 1056 3291 1056 2328 \r\nQ 1056 1369 1301 889 \r\nQ 1547 409 2034 409 \r\nQ 2525 409 2770 889 \r\nQ 3016 1369 3016 2328 \r\nQ 3016 3291 2770 3770 \r\nQ 2525 4250 2034 4250 \r\nz\r\nM 2034 4750 \r\nQ 2819 4750 3233 4129 \r\nQ 3647 3509 3647 2328 \r\nQ 3647 1150 3233 529 \r\nQ 2819 -91 2034 -91 \r\nQ 1250 -91 836 529 \r\nQ 422 1150 422 2328 \r\nQ 422 3509 836 4129 \r\nQ 1250 4750 2034 4750 \r\nz\r\n\" id=\"DejaVuSans-30\" transform=\"scale(0.015625)\"/>\r\n       </defs>\r\n       <use xlink:href=\"#DejaVuSans-2212\"/>\r\n       <use x=\"83.789062\" xlink:href=\"#DejaVuSans-32\"/>\r\n       <use x=\"147.412109\" xlink:href=\"#DejaVuSans-30\"/>\r\n      </g>\r\n     </g>\r\n    </g>\r\n    <g id=\"xtick_2\">\r\n     <g id=\"line2d_3\">\r\n      <path clip-path=\"url(#pa2275059d7)\" d=\"M 62.484687 309.979219 \r\nL 62.484687 10.999219 \r\n\" style=\"fill:none;stroke:#b0b0b0;stroke-linecap:square;stroke-opacity:0.5;stroke-width:0.8;\"/>\r\n     </g>\r\n     <g id=\"line2d_4\">\r\n      <g>\r\n       <use style=\"stroke:#000000;stroke-width:0.8;\" x=\"62.484687\" xlink:href=\"#m21e3e08412\" y=\"309.979219\"/>\r\n      </g>\r\n     </g>\r\n     <g id=\"text_2\">\r\n      <!-- −18 -->\r\n      <g transform=\"translate(51.932344 324.577656)scale(0.1 -0.1)\">\r\n       <defs>\r\n        <path d=\"M 794 531 \r\nL 1825 531 \r\nL 1825 4091 \r\nL 703 3866 \r\nL 703 4441 \r\nL 1819 4666 \r\nL 2450 4666 \r\nL 2450 531 \r\nL 3481 531 \r\nL 3481 0 \r\nL 794 0 \r\nL 794 531 \r\nz\r\n\" id=\"DejaVuSans-31\" transform=\"scale(0.015625)\"/>\r\n        <path d=\"M 2034 2216 \r\nQ 1584 2216 1326 1975 \r\nQ 1069 1734 1069 1313 \r\nQ 1069 891 1326 650 \r\nQ 1584 409 2034 409 \r\nQ 2484 409 2743 651 \r\nQ 3003 894 3003 1313 \r\nQ 3003 1734 2745 1975 \r\nQ 2488 2216 2034 2216 \r\nz\r\nM 1403 2484 \r\nQ 997 2584 770 2862 \r\nQ 544 3141 544 3541 \r\nQ 544 4100 942 4425 \r\nQ 1341 4750 2034 4750 \r\nQ 2731 4750 3128 4425 \r\nQ 3525 4100 3525 3541 \r\nQ 3525 3141 3298 2862 \r\nQ 3072 2584 2669 2484 \r\nQ 3125 2378 3379 2068 \r\nQ 3634 1759 3634 1313 \r\nQ 3634 634 3220 271 \r\nQ 2806 -91 2034 -91 \r\nQ 1263 -91 848 271 \r\nQ 434 634 434 1313 \r\nQ 434 1759 690 2068 \r\nQ 947 2378 1403 2484 \r\nz\r\nM 1172 3481 \r\nQ 1172 3119 1398 2916 \r\nQ 1625 2713 2034 2713 \r\nQ 2441 2713 2670 2916 \r\nQ 2900 3119 2900 3481 \r\nQ 2900 3844 2670 4047 \r\nQ 2441 4250 2034 4250 \r\nQ 1625 4250 1398 4047 \r\nQ 1172 3844 1172 3481 \r\nz\r\n\" id=\"DejaVuSans-38\" transform=\"scale(0.015625)\"/>\r\n       </defs>\r\n       <use xlink:href=\"#DejaVuSans-2212\"/>\r\n       <use x=\"83.789062\" xlink:href=\"#DejaVuSans-31\"/>\r\n       <use x=\"147.412109\" xlink:href=\"#DejaVuSans-38\"/>\r\n      </g>\r\n     </g>\r\n    </g>\r\n    <g id=\"xtick_3\">\r\n     <g id=\"line2d_5\">\r\n      <path clip-path=\"url(#pa2275059d7)\" d=\"M 89.664687 309.979219 \r\nL 89.664687 10.999219 \r\n\" style=\"fill:none;stroke:#b0b0b0;stroke-linecap:square;stroke-opacity:0.5;stroke-width:0.8;\"/>\r\n     </g>\r\n     <g id=\"line2d_6\">\r\n      <g>\r\n       <use style=\"stroke:#000000;stroke-width:0.8;\" x=\"89.664687\" xlink:href=\"#m21e3e08412\" y=\"309.979219\"/>\r\n      </g>\r\n     </g>\r\n     <g id=\"text_3\">\r\n      <!-- −16 -->\r\n      <g transform=\"translate(79.112344 324.577656)scale(0.1 -0.1)\">\r\n       <defs>\r\n        <path d=\"M 2113 2584 \r\nQ 1688 2584 1439 2293 \r\nQ 1191 2003 1191 1497 \r\nQ 1191 994 1439 701 \r\nQ 1688 409 2113 409 \r\nQ 2538 409 2786 701 \r\nQ 3034 994 3034 1497 \r\nQ 3034 2003 2786 2293 \r\nQ 2538 2584 2113 2584 \r\nz\r\nM 3366 4563 \r\nL 3366 3988 \r\nQ 3128 4100 2886 4159 \r\nQ 2644 4219 2406 4219 \r\nQ 1781 4219 1451 3797 \r\nQ 1122 3375 1075 2522 \r\nQ 1259 2794 1537 2939 \r\nQ 1816 3084 2150 3084 \r\nQ 2853 3084 3261 2657 \r\nQ 3669 2231 3669 1497 \r\nQ 3669 778 3244 343 \r\nQ 2819 -91 2113 -91 \r\nQ 1303 -91 875 529 \r\nQ 447 1150 447 2328 \r\nQ 447 3434 972 4092 \r\nQ 1497 4750 2381 4750 \r\nQ 2619 4750 2861 4703 \r\nQ 3103 4656 3366 4563 \r\nz\r\n\" id=\"DejaVuSans-36\" transform=\"scale(0.015625)\"/>\r\n       </defs>\r\n       <use xlink:href=\"#DejaVuSans-2212\"/>\r\n       <use x=\"83.789062\" xlink:href=\"#DejaVuSans-31\"/>\r\n       <use x=\"147.412109\" xlink:href=\"#DejaVuSans-36\"/>\r\n      </g>\r\n     </g>\r\n    </g>\r\n    <g id=\"xtick_4\">\r\n     <g id=\"line2d_7\">\r\n      <path clip-path=\"url(#pa2275059d7)\" d=\"M 116.844687 309.979219 \r\nL 116.844687 10.999219 \r\n\" style=\"fill:none;stroke:#b0b0b0;stroke-linecap:square;stroke-opacity:0.5;stroke-width:0.8;\"/>\r\n     </g>\r\n     <g id=\"line2d_8\">\r\n      <g>\r\n       <use style=\"stroke:#000000;stroke-width:0.8;\" x=\"116.844687\" xlink:href=\"#m21e3e08412\" y=\"309.979219\"/>\r\n      </g>\r\n     </g>\r\n     <g id=\"text_4\">\r\n      <!-- −14 -->\r\n      <g transform=\"translate(106.292344 324.577656)scale(0.1 -0.1)\">\r\n       <defs>\r\n        <path d=\"M 2419 4116 \r\nL 825 1625 \r\nL 2419 1625 \r\nL 2419 4116 \r\nz\r\nM 2253 4666 \r\nL 3047 4666 \r\nL 3047 1625 \r\nL 3713 1625 \r\nL 3713 1100 \r\nL 3047 1100 \r\nL 3047 0 \r\nL 2419 0 \r\nL 2419 1100 \r\nL 313 1100 \r\nL 313 1709 \r\nL 2253 4666 \r\nz\r\n\" id=\"DejaVuSans-34\" transform=\"scale(0.015625)\"/>\r\n       </defs>\r\n       <use xlink:href=\"#DejaVuSans-2212\"/>\r\n       <use x=\"83.789062\" xlink:href=\"#DejaVuSans-31\"/>\r\n       <use x=\"147.412109\" xlink:href=\"#DejaVuSans-34\"/>\r\n      </g>\r\n     </g>\r\n    </g>\r\n    <g id=\"xtick_5\">\r\n     <g id=\"line2d_9\">\r\n      <path clip-path=\"url(#pa2275059d7)\" d=\"M 144.024687 309.979219 \r\nL 144.024687 10.999219 \r\n\" style=\"fill:none;stroke:#b0b0b0;stroke-linecap:square;stroke-opacity:0.5;stroke-width:0.8;\"/>\r\n     </g>\r\n     <g id=\"line2d_10\">\r\n      <g>\r\n       <use style=\"stroke:#000000;stroke-width:0.8;\" x=\"144.024687\" xlink:href=\"#m21e3e08412\" y=\"309.979219\"/>\r\n      </g>\r\n     </g>\r\n     <g id=\"text_5\">\r\n      <!-- −12 -->\r\n      <g transform=\"translate(133.472344 324.577656)scale(0.1 -0.1)\">\r\n       <use xlink:href=\"#DejaVuSans-2212\"/>\r\n       <use x=\"83.789062\" xlink:href=\"#DejaVuSans-31\"/>\r\n       <use x=\"147.412109\" xlink:href=\"#DejaVuSans-32\"/>\r\n      </g>\r\n     </g>\r\n    </g>\r\n    <g id=\"xtick_6\">\r\n     <g id=\"line2d_11\">\r\n      <path clip-path=\"url(#pa2275059d7)\" d=\"M 171.204687 309.979219 \r\nL 171.204687 10.999219 \r\n\" style=\"fill:none;stroke:#b0b0b0;stroke-linecap:square;stroke-opacity:0.5;stroke-width:0.8;\"/>\r\n     </g>\r\n     <g id=\"line2d_12\">\r\n      <g>\r\n       <use style=\"stroke:#000000;stroke-width:0.8;\" x=\"171.204687\" xlink:href=\"#m21e3e08412\" y=\"309.979219\"/>\r\n      </g>\r\n     </g>\r\n     <g id=\"text_6\">\r\n      <!-- −10 -->\r\n      <g transform=\"translate(160.652344 324.577656)scale(0.1 -0.1)\">\r\n       <use xlink:href=\"#DejaVuSans-2212\"/>\r\n       <use x=\"83.789062\" xlink:href=\"#DejaVuSans-31\"/>\r\n       <use x=\"147.412109\" xlink:href=\"#DejaVuSans-30\"/>\r\n      </g>\r\n     </g>\r\n    </g>\r\n    <g id=\"xtick_7\">\r\n     <g id=\"line2d_13\">\r\n      <path clip-path=\"url(#pa2275059d7)\" d=\"M 198.384687 309.979219 \r\nL 198.384687 10.999219 \r\n\" style=\"fill:none;stroke:#b0b0b0;stroke-linecap:square;stroke-opacity:0.5;stroke-width:0.8;\"/>\r\n     </g>\r\n     <g id=\"line2d_14\">\r\n      <g>\r\n       <use style=\"stroke:#000000;stroke-width:0.8;\" x=\"198.384687\" xlink:href=\"#m21e3e08412\" y=\"309.979219\"/>\r\n      </g>\r\n     </g>\r\n     <g id=\"text_7\">\r\n      <!-- −8 -->\r\n      <g transform=\"translate(191.013594 324.577656)scale(0.1 -0.1)\">\r\n       <use xlink:href=\"#DejaVuSans-2212\"/>\r\n       <use x=\"83.789062\" xlink:href=\"#DejaVuSans-38\"/>\r\n      </g>\r\n     </g>\r\n    </g>\r\n    <g id=\"xtick_8\">\r\n     <g id=\"line2d_15\">\r\n      <path clip-path=\"url(#pa2275059d7)\" d=\"M 225.564687 309.979219 \r\nL 225.564687 10.999219 \r\n\" style=\"fill:none;stroke:#b0b0b0;stroke-linecap:square;stroke-opacity:0.5;stroke-width:0.8;\"/>\r\n     </g>\r\n     <g id=\"line2d_16\">\r\n      <g>\r\n       <use style=\"stroke:#000000;stroke-width:0.8;\" x=\"225.564687\" xlink:href=\"#m21e3e08412\" y=\"309.979219\"/>\r\n      </g>\r\n     </g>\r\n     <g id=\"text_8\">\r\n      <!-- −6 -->\r\n      <g transform=\"translate(218.193594 324.577656)scale(0.1 -0.1)\">\r\n       <use xlink:href=\"#DejaVuSans-2212\"/>\r\n       <use x=\"83.789062\" xlink:href=\"#DejaVuSans-36\"/>\r\n      </g>\r\n     </g>\r\n    </g>\r\n    <g id=\"xtick_9\">\r\n     <g id=\"line2d_17\">\r\n      <path clip-path=\"url(#pa2275059d7)\" d=\"M 252.744687 309.979219 \r\nL 252.744687 10.999219 \r\n\" style=\"fill:none;stroke:#b0b0b0;stroke-linecap:square;stroke-opacity:0.5;stroke-width:0.8;\"/>\r\n     </g>\r\n     <g id=\"line2d_18\">\r\n      <g>\r\n       <use style=\"stroke:#000000;stroke-width:0.8;\" x=\"252.744687\" xlink:href=\"#m21e3e08412\" y=\"309.979219\"/>\r\n      </g>\r\n     </g>\r\n     <g id=\"text_9\">\r\n      <!-- −4 -->\r\n      <g transform=\"translate(245.373594 324.577656)scale(0.1 -0.1)\">\r\n       <use xlink:href=\"#DejaVuSans-2212\"/>\r\n       <use x=\"83.789062\" xlink:href=\"#DejaVuSans-34\"/>\r\n      </g>\r\n     </g>\r\n    </g>\r\n    <g id=\"xtick_10\">\r\n     <g id=\"line2d_19\">\r\n      <path clip-path=\"url(#pa2275059d7)\" d=\"M 279.924687 309.979219 \r\nL 279.924687 10.999219 \r\n\" style=\"fill:none;stroke:#b0b0b0;stroke-linecap:square;stroke-opacity:0.5;stroke-width:0.8;\"/>\r\n     </g>\r\n     <g id=\"line2d_20\">\r\n      <g>\r\n       <use style=\"stroke:#000000;stroke-width:0.8;\" x=\"279.924687\" xlink:href=\"#m21e3e08412\" y=\"309.979219\"/>\r\n      </g>\r\n     </g>\r\n     <g id=\"text_10\">\r\n      <!-- −2 -->\r\n      <g transform=\"translate(272.553594 324.577656)scale(0.1 -0.1)\">\r\n       <use xlink:href=\"#DejaVuSans-2212\"/>\r\n       <use x=\"83.789062\" xlink:href=\"#DejaVuSans-32\"/>\r\n      </g>\r\n     </g>\r\n    </g>\r\n    <g id=\"xtick_11\">\r\n     <g id=\"line2d_21\">\r\n      <path clip-path=\"url(#pa2275059d7)\" d=\"M 307.104687 309.979219 \r\nL 307.104687 10.999219 \r\n\" style=\"fill:none;stroke:#b0b0b0;stroke-linecap:square;stroke-opacity:0.5;stroke-width:0.8;\"/>\r\n     </g>\r\n     <g id=\"line2d_22\">\r\n      <g>\r\n       <use style=\"stroke:#000000;stroke-width:0.8;\" x=\"307.104687\" xlink:href=\"#m21e3e08412\" y=\"309.979219\"/>\r\n      </g>\r\n     </g>\r\n     <g id=\"text_11\">\r\n      <!-- 0 -->\r\n      <g transform=\"translate(303.923437 324.577656)scale(0.1 -0.1)\">\r\n       <use xlink:href=\"#DejaVuSans-30\"/>\r\n      </g>\r\n     </g>\r\n    </g>\r\n    <g id=\"xtick_12\">\r\n     <g id=\"line2d_23\">\r\n      <path clip-path=\"url(#pa2275059d7)\" d=\"M 334.284687 309.979219 \r\nL 334.284687 10.999219 \r\n\" style=\"fill:none;stroke:#b0b0b0;stroke-linecap:square;stroke-opacity:0.5;stroke-width:0.8;\"/>\r\n     </g>\r\n     <g id=\"line2d_24\">\r\n      <g>\r\n       <use style=\"stroke:#000000;stroke-width:0.8;\" x=\"334.284687\" xlink:href=\"#m21e3e08412\" y=\"309.979219\"/>\r\n      </g>\r\n     </g>\r\n     <g id=\"text_12\">\r\n      <!-- 2 -->\r\n      <g transform=\"translate(331.103437 324.577656)scale(0.1 -0.1)\">\r\n       <use xlink:href=\"#DejaVuSans-32\"/>\r\n      </g>\r\n     </g>\r\n    </g>\r\n    <g id=\"xtick_13\">\r\n     <g id=\"line2d_25\">\r\n      <path clip-path=\"url(#pa2275059d7)\" d=\"M 361.464687 309.979219 \r\nL 361.464687 10.999219 \r\n\" style=\"fill:none;stroke:#b0b0b0;stroke-linecap:square;stroke-opacity:0.5;stroke-width:0.8;\"/>\r\n     </g>\r\n     <g id=\"line2d_26\">\r\n      <g>\r\n       <use style=\"stroke:#000000;stroke-width:0.8;\" x=\"361.464687\" xlink:href=\"#m21e3e08412\" y=\"309.979219\"/>\r\n      </g>\r\n     </g>\r\n     <g id=\"text_13\">\r\n      <!-- 4 -->\r\n      <g transform=\"translate(358.283437 324.577656)scale(0.1 -0.1)\">\r\n       <use xlink:href=\"#DejaVuSans-34\"/>\r\n      </g>\r\n     </g>\r\n    </g>\r\n    <g id=\"xtick_14\">\r\n     <g id=\"line2d_27\">\r\n      <path clip-path=\"url(#pa2275059d7)\" d=\"M 388.644687 309.979219 \r\nL 388.644687 10.999219 \r\n\" style=\"fill:none;stroke:#b0b0b0;stroke-linecap:square;stroke-opacity:0.5;stroke-width:0.8;\"/>\r\n     </g>\r\n     <g id=\"line2d_28\">\r\n      <g>\r\n       <use style=\"stroke:#000000;stroke-width:0.8;\" x=\"388.644687\" xlink:href=\"#m21e3e08412\" y=\"309.979219\"/>\r\n      </g>\r\n     </g>\r\n     <g id=\"text_14\">\r\n      <!-- 6 -->\r\n      <g transform=\"translate(385.463437 324.577656)scale(0.1 -0.1)\">\r\n       <use xlink:href=\"#DejaVuSans-36\"/>\r\n      </g>\r\n     </g>\r\n    </g>\r\n    <g id=\"xtick_15\">\r\n     <g id=\"line2d_29\">\r\n      <path clip-path=\"url(#pa2275059d7)\" d=\"M 415.824687 309.979219 \r\nL 415.824687 10.999219 \r\n\" style=\"fill:none;stroke:#b0b0b0;stroke-linecap:square;stroke-opacity:0.5;stroke-width:0.8;\"/>\r\n     </g>\r\n     <g id=\"line2d_30\">\r\n      <g>\r\n       <use style=\"stroke:#000000;stroke-width:0.8;\" x=\"415.824687\" xlink:href=\"#m21e3e08412\" y=\"309.979219\"/>\r\n      </g>\r\n     </g>\r\n     <g id=\"text_15\">\r\n      <!-- 8 -->\r\n      <g transform=\"translate(412.643437 324.577656)scale(0.1 -0.1)\">\r\n       <use xlink:href=\"#DejaVuSans-38\"/>\r\n      </g>\r\n     </g>\r\n    </g>\r\n    <g id=\"xtick_16\">\r\n     <g id=\"line2d_31\">\r\n      <path clip-path=\"url(#pa2275059d7)\" d=\"M 443.004687 309.979219 \r\nL 443.004687 10.999219 \r\n\" style=\"fill:none;stroke:#b0b0b0;stroke-linecap:square;stroke-opacity:0.5;stroke-width:0.8;\"/>\r\n     </g>\r\n     <g id=\"line2d_32\">\r\n      <g>\r\n       <use style=\"stroke:#000000;stroke-width:0.8;\" x=\"443.004687\" xlink:href=\"#m21e3e08412\" y=\"309.979219\"/>\r\n      </g>\r\n     </g>\r\n     <g id=\"text_16\">\r\n      <!-- 10 -->\r\n      <g transform=\"translate(436.642187 324.577656)scale(0.1 -0.1)\">\r\n       <use xlink:href=\"#DejaVuSans-31\"/>\r\n       <use x=\"63.623047\" xlink:href=\"#DejaVuSans-30\"/>\r\n      </g>\r\n     </g>\r\n    </g>\r\n    <g id=\"xtick_17\">\r\n     <g id=\"line2d_33\">\r\n      <path clip-path=\"url(#pa2275059d7)\" d=\"M 470.184687 309.979219 \r\nL 470.184687 10.999219 \r\n\" style=\"fill:none;stroke:#b0b0b0;stroke-linecap:square;stroke-opacity:0.5;stroke-width:0.8;\"/>\r\n     </g>\r\n     <g id=\"line2d_34\">\r\n      <g>\r\n       <use style=\"stroke:#000000;stroke-width:0.8;\" x=\"470.184687\" xlink:href=\"#m21e3e08412\" y=\"309.979219\"/>\r\n      </g>\r\n     </g>\r\n     <g id=\"text_17\">\r\n      <!-- 12 -->\r\n      <g transform=\"translate(463.822187 324.577656)scale(0.1 -0.1)\">\r\n       <use xlink:href=\"#DejaVuSans-31\"/>\r\n       <use x=\"63.623047\" xlink:href=\"#DejaVuSans-32\"/>\r\n      </g>\r\n     </g>\r\n    </g>\r\n    <g id=\"xtick_18\">\r\n     <g id=\"line2d_35\">\r\n      <path clip-path=\"url(#pa2275059d7)\" d=\"M 497.364687 309.979219 \r\nL 497.364687 10.999219 \r\n\" style=\"fill:none;stroke:#b0b0b0;stroke-linecap:square;stroke-opacity:0.5;stroke-width:0.8;\"/>\r\n     </g>\r\n     <g id=\"line2d_36\">\r\n      <g>\r\n       <use style=\"stroke:#000000;stroke-width:0.8;\" x=\"497.364687\" xlink:href=\"#m21e3e08412\" y=\"309.979219\"/>\r\n      </g>\r\n     </g>\r\n     <g id=\"text_18\">\r\n      <!-- 14 -->\r\n      <g transform=\"translate(491.002187 324.577656)scale(0.1 -0.1)\">\r\n       <use xlink:href=\"#DejaVuSans-31\"/>\r\n       <use x=\"63.623047\" xlink:href=\"#DejaVuSans-34\"/>\r\n      </g>\r\n     </g>\r\n    </g>\r\n    <g id=\"xtick_19\">\r\n     <g id=\"line2d_37\">\r\n      <path clip-path=\"url(#pa2275059d7)\" d=\"M 524.544687 309.979219 \r\nL 524.544687 10.999219 \r\n\" style=\"fill:none;stroke:#b0b0b0;stroke-linecap:square;stroke-opacity:0.5;stroke-width:0.8;\"/>\r\n     </g>\r\n     <g id=\"line2d_38\">\r\n      <g>\r\n       <use style=\"stroke:#000000;stroke-width:0.8;\" x=\"524.544687\" xlink:href=\"#m21e3e08412\" y=\"309.979219\"/>\r\n      </g>\r\n     </g>\r\n     <g id=\"text_19\">\r\n      <!-- 16 -->\r\n      <g transform=\"translate(518.182187 324.577656)scale(0.1 -0.1)\">\r\n       <use xlink:href=\"#DejaVuSans-31\"/>\r\n       <use x=\"63.623047\" xlink:href=\"#DejaVuSans-36\"/>\r\n      </g>\r\n     </g>\r\n    </g>\r\n    <g id=\"xtick_20\">\r\n     <g id=\"line2d_39\">\r\n      <path clip-path=\"url(#pa2275059d7)\" d=\"M 551.724687 309.979219 \r\nL 551.724687 10.999219 \r\n\" style=\"fill:none;stroke:#b0b0b0;stroke-linecap:square;stroke-opacity:0.5;stroke-width:0.8;\"/>\r\n     </g>\r\n     <g id=\"line2d_40\">\r\n      <g>\r\n       <use style=\"stroke:#000000;stroke-width:0.8;\" x=\"551.724687\" xlink:href=\"#m21e3e08412\" y=\"309.979219\"/>\r\n      </g>\r\n     </g>\r\n     <g id=\"text_20\">\r\n      <!-- 18 -->\r\n      <g transform=\"translate(545.362188 324.577656)scale(0.1 -0.1)\">\r\n       <use xlink:href=\"#DejaVuSans-31\"/>\r\n       <use x=\"63.623047\" xlink:href=\"#DejaVuSans-38\"/>\r\n      </g>\r\n     </g>\r\n    </g>\r\n    <g id=\"xtick_21\">\r\n     <g id=\"line2d_41\">\r\n      <path clip-path=\"url(#pa2275059d7)\" d=\"M 578.904687 309.979219 \r\nL 578.904687 10.999219 \r\n\" style=\"fill:none;stroke:#b0b0b0;stroke-linecap:square;stroke-opacity:0.5;stroke-width:0.8;\"/>\r\n     </g>\r\n     <g id=\"line2d_42\">\r\n      <g>\r\n       <use style=\"stroke:#000000;stroke-width:0.8;\" x=\"578.904687\" xlink:href=\"#m21e3e08412\" y=\"309.979219\"/>\r\n      </g>\r\n     </g>\r\n     <g id=\"text_21\">\r\n      <!-- 20 -->\r\n      <g transform=\"translate(572.542187 324.577656)scale(0.1 -0.1)\">\r\n       <use xlink:href=\"#DejaVuSans-32\"/>\r\n       <use x=\"63.623047\" xlink:href=\"#DejaVuSans-30\"/>\r\n      </g>\r\n     </g>\r\n    </g>\r\n    <g id=\"xtick_22\">\r\n     <g id=\"line2d_43\">\r\n      <path clip-path=\"url(#pa2275059d7)\" d=\"M 48.894687 309.979219 \r\nL 48.894687 10.999219 \r\n\" style=\"fill:none;stroke:#b0b0b0;stroke-linecap:square;stroke-opacity:0.1;stroke-width:0.8;\"/>\r\n     </g>\r\n     <g id=\"line2d_44\">\r\n      <defs>\r\n       <path d=\"M 0 0 \r\nL 0 2 \r\n\" id=\"m836b619d4e\" style=\"stroke:#000000;stroke-width:0.6;\"/>\r\n      </defs>\r\n      <g>\r\n       <use style=\"stroke:#000000;stroke-width:0.6;\" x=\"48.894687\" xlink:href=\"#m836b619d4e\" y=\"309.979219\"/>\r\n      </g>\r\n     </g>\r\n    </g>\r\n    <g id=\"xtick_23\">\r\n     <g id=\"line2d_45\">\r\n      <path clip-path=\"url(#pa2275059d7)\" d=\"M 76.074687 309.979219 \r\nL 76.074687 10.999219 \r\n\" style=\"fill:none;stroke:#b0b0b0;stroke-linecap:square;stroke-opacity:0.1;stroke-width:0.8;\"/>\r\n     </g>\r\n     <g id=\"line2d_46\">\r\n      <g>\r\n       <use style=\"stroke:#000000;stroke-width:0.6;\" x=\"76.074687\" xlink:href=\"#m836b619d4e\" y=\"309.979219\"/>\r\n      </g>\r\n     </g>\r\n    </g>\r\n    <g id=\"xtick_24\">\r\n     <g id=\"line2d_47\">\r\n      <path clip-path=\"url(#pa2275059d7)\" d=\"M 103.254687 309.979219 \r\nL 103.254687 10.999219 \r\n\" style=\"fill:none;stroke:#b0b0b0;stroke-linecap:square;stroke-opacity:0.1;stroke-width:0.8;\"/>\r\n     </g>\r\n     <g id=\"line2d_48\">\r\n      <g>\r\n       <use style=\"stroke:#000000;stroke-width:0.6;\" x=\"103.254687\" xlink:href=\"#m836b619d4e\" y=\"309.979219\"/>\r\n      </g>\r\n     </g>\r\n    </g>\r\n    <g id=\"xtick_25\">\r\n     <g id=\"line2d_49\">\r\n      <path clip-path=\"url(#pa2275059d7)\" d=\"M 130.434687 309.979219 \r\nL 130.434687 10.999219 \r\n\" style=\"fill:none;stroke:#b0b0b0;stroke-linecap:square;stroke-opacity:0.1;stroke-width:0.8;\"/>\r\n     </g>\r\n     <g id=\"line2d_50\">\r\n      <g>\r\n       <use style=\"stroke:#000000;stroke-width:0.6;\" x=\"130.434687\" xlink:href=\"#m836b619d4e\" y=\"309.979219\"/>\r\n      </g>\r\n     </g>\r\n    </g>\r\n    <g id=\"xtick_26\">\r\n     <g id=\"line2d_51\">\r\n      <path clip-path=\"url(#pa2275059d7)\" d=\"M 157.614687 309.979219 \r\nL 157.614687 10.999219 \r\n\" style=\"fill:none;stroke:#b0b0b0;stroke-linecap:square;stroke-opacity:0.1;stroke-width:0.8;\"/>\r\n     </g>\r\n     <g id=\"line2d_52\">\r\n      <g>\r\n       <use style=\"stroke:#000000;stroke-width:0.6;\" x=\"157.614687\" xlink:href=\"#m836b619d4e\" y=\"309.979219\"/>\r\n      </g>\r\n     </g>\r\n    </g>\r\n    <g id=\"xtick_27\">\r\n     <g id=\"line2d_53\">\r\n      <path clip-path=\"url(#pa2275059d7)\" d=\"M 184.794687 309.979219 \r\nL 184.794687 10.999219 \r\n\" style=\"fill:none;stroke:#b0b0b0;stroke-linecap:square;stroke-opacity:0.1;stroke-width:0.8;\"/>\r\n     </g>\r\n     <g id=\"line2d_54\">\r\n      <g>\r\n       <use style=\"stroke:#000000;stroke-width:0.6;\" x=\"184.794687\" xlink:href=\"#m836b619d4e\" y=\"309.979219\"/>\r\n      </g>\r\n     </g>\r\n    </g>\r\n    <g id=\"xtick_28\">\r\n     <g id=\"line2d_55\">\r\n      <path clip-path=\"url(#pa2275059d7)\" d=\"M 211.974687 309.979219 \r\nL 211.974687 10.999219 \r\n\" style=\"fill:none;stroke:#b0b0b0;stroke-linecap:square;stroke-opacity:0.1;stroke-width:0.8;\"/>\r\n     </g>\r\n     <g id=\"line2d_56\">\r\n      <g>\r\n       <use style=\"stroke:#000000;stroke-width:0.6;\" x=\"211.974687\" xlink:href=\"#m836b619d4e\" y=\"309.979219\"/>\r\n      </g>\r\n     </g>\r\n    </g>\r\n    <g id=\"xtick_29\">\r\n     <g id=\"line2d_57\">\r\n      <path clip-path=\"url(#pa2275059d7)\" d=\"M 239.154687 309.979219 \r\nL 239.154687 10.999219 \r\n\" style=\"fill:none;stroke:#b0b0b0;stroke-linecap:square;stroke-opacity:0.1;stroke-width:0.8;\"/>\r\n     </g>\r\n     <g id=\"line2d_58\">\r\n      <g>\r\n       <use style=\"stroke:#000000;stroke-width:0.6;\" x=\"239.154687\" xlink:href=\"#m836b619d4e\" y=\"309.979219\"/>\r\n      </g>\r\n     </g>\r\n    </g>\r\n    <g id=\"xtick_30\">\r\n     <g id=\"line2d_59\">\r\n      <path clip-path=\"url(#pa2275059d7)\" d=\"M 266.334687 309.979219 \r\nL 266.334687 10.999219 \r\n\" style=\"fill:none;stroke:#b0b0b0;stroke-linecap:square;stroke-opacity:0.1;stroke-width:0.8;\"/>\r\n     </g>\r\n     <g id=\"line2d_60\">\r\n      <g>\r\n       <use style=\"stroke:#000000;stroke-width:0.6;\" x=\"266.334687\" xlink:href=\"#m836b619d4e\" y=\"309.979219\"/>\r\n      </g>\r\n     </g>\r\n    </g>\r\n    <g id=\"xtick_31\">\r\n     <g id=\"line2d_61\">\r\n      <path clip-path=\"url(#pa2275059d7)\" d=\"M 293.514687 309.979219 \r\nL 293.514687 10.999219 \r\n\" style=\"fill:none;stroke:#b0b0b0;stroke-linecap:square;stroke-opacity:0.1;stroke-width:0.8;\"/>\r\n     </g>\r\n     <g id=\"line2d_62\">\r\n      <g>\r\n       <use style=\"stroke:#000000;stroke-width:0.6;\" x=\"293.514687\" xlink:href=\"#m836b619d4e\" y=\"309.979219\"/>\r\n      </g>\r\n     </g>\r\n    </g>\r\n    <g id=\"xtick_32\">\r\n     <g id=\"line2d_63\">\r\n      <path clip-path=\"url(#pa2275059d7)\" d=\"M 320.694687 309.979219 \r\nL 320.694687 10.999219 \r\n\" style=\"fill:none;stroke:#b0b0b0;stroke-linecap:square;stroke-opacity:0.1;stroke-width:0.8;\"/>\r\n     </g>\r\n     <g id=\"line2d_64\">\r\n      <g>\r\n       <use style=\"stroke:#000000;stroke-width:0.6;\" x=\"320.694687\" xlink:href=\"#m836b619d4e\" y=\"309.979219\"/>\r\n      </g>\r\n     </g>\r\n    </g>\r\n    <g id=\"xtick_33\">\r\n     <g id=\"line2d_65\">\r\n      <path clip-path=\"url(#pa2275059d7)\" d=\"M 347.874687 309.979219 \r\nL 347.874687 10.999219 \r\n\" style=\"fill:none;stroke:#b0b0b0;stroke-linecap:square;stroke-opacity:0.1;stroke-width:0.8;\"/>\r\n     </g>\r\n     <g id=\"line2d_66\">\r\n      <g>\r\n       <use style=\"stroke:#000000;stroke-width:0.6;\" x=\"347.874687\" xlink:href=\"#m836b619d4e\" y=\"309.979219\"/>\r\n      </g>\r\n     </g>\r\n    </g>\r\n    <g id=\"xtick_34\">\r\n     <g id=\"line2d_67\">\r\n      <path clip-path=\"url(#pa2275059d7)\" d=\"M 375.054687 309.979219 \r\nL 375.054687 10.999219 \r\n\" style=\"fill:none;stroke:#b0b0b0;stroke-linecap:square;stroke-opacity:0.1;stroke-width:0.8;\"/>\r\n     </g>\r\n     <g id=\"line2d_68\">\r\n      <g>\r\n       <use style=\"stroke:#000000;stroke-width:0.6;\" x=\"375.054687\" xlink:href=\"#m836b619d4e\" y=\"309.979219\"/>\r\n      </g>\r\n     </g>\r\n    </g>\r\n    <g id=\"xtick_35\">\r\n     <g id=\"line2d_69\">\r\n      <path clip-path=\"url(#pa2275059d7)\" d=\"M 402.234687 309.979219 \r\nL 402.234687 10.999219 \r\n\" style=\"fill:none;stroke:#b0b0b0;stroke-linecap:square;stroke-opacity:0.1;stroke-width:0.8;\"/>\r\n     </g>\r\n     <g id=\"line2d_70\">\r\n      <g>\r\n       <use style=\"stroke:#000000;stroke-width:0.6;\" x=\"402.234687\" xlink:href=\"#m836b619d4e\" y=\"309.979219\"/>\r\n      </g>\r\n     </g>\r\n    </g>\r\n    <g id=\"xtick_36\">\r\n     <g id=\"line2d_71\">\r\n      <path clip-path=\"url(#pa2275059d7)\" d=\"M 429.414687 309.979219 \r\nL 429.414687 10.999219 \r\n\" style=\"fill:none;stroke:#b0b0b0;stroke-linecap:square;stroke-opacity:0.1;stroke-width:0.8;\"/>\r\n     </g>\r\n     <g id=\"line2d_72\">\r\n      <g>\r\n       <use style=\"stroke:#000000;stroke-width:0.6;\" x=\"429.414687\" xlink:href=\"#m836b619d4e\" y=\"309.979219\"/>\r\n      </g>\r\n     </g>\r\n    </g>\r\n    <g id=\"xtick_37\">\r\n     <g id=\"line2d_73\">\r\n      <path clip-path=\"url(#pa2275059d7)\" d=\"M 456.594687 309.979219 \r\nL 456.594687 10.999219 \r\n\" style=\"fill:none;stroke:#b0b0b0;stroke-linecap:square;stroke-opacity:0.1;stroke-width:0.8;\"/>\r\n     </g>\r\n     <g id=\"line2d_74\">\r\n      <g>\r\n       <use style=\"stroke:#000000;stroke-width:0.6;\" x=\"456.594687\" xlink:href=\"#m836b619d4e\" y=\"309.979219\"/>\r\n      </g>\r\n     </g>\r\n    </g>\r\n    <g id=\"xtick_38\">\r\n     <g id=\"line2d_75\">\r\n      <path clip-path=\"url(#pa2275059d7)\" d=\"M 483.774687 309.979219 \r\nL 483.774687 10.999219 \r\n\" style=\"fill:none;stroke:#b0b0b0;stroke-linecap:square;stroke-opacity:0.1;stroke-width:0.8;\"/>\r\n     </g>\r\n     <g id=\"line2d_76\">\r\n      <g>\r\n       <use style=\"stroke:#000000;stroke-width:0.6;\" x=\"483.774687\" xlink:href=\"#m836b619d4e\" y=\"309.979219\"/>\r\n      </g>\r\n     </g>\r\n    </g>\r\n    <g id=\"xtick_39\">\r\n     <g id=\"line2d_77\">\r\n      <path clip-path=\"url(#pa2275059d7)\" d=\"M 510.954687 309.979219 \r\nL 510.954687 10.999219 \r\n\" style=\"fill:none;stroke:#b0b0b0;stroke-linecap:square;stroke-opacity:0.1;stroke-width:0.8;\"/>\r\n     </g>\r\n     <g id=\"line2d_78\">\r\n      <g>\r\n       <use style=\"stroke:#000000;stroke-width:0.6;\" x=\"510.954687\" xlink:href=\"#m836b619d4e\" y=\"309.979219\"/>\r\n      </g>\r\n     </g>\r\n    </g>\r\n    <g id=\"xtick_40\">\r\n     <g id=\"line2d_79\">\r\n      <path clip-path=\"url(#pa2275059d7)\" d=\"M 538.134687 309.979219 \r\nL 538.134687 10.999219 \r\n\" style=\"fill:none;stroke:#b0b0b0;stroke-linecap:square;stroke-opacity:0.1;stroke-width:0.8;\"/>\r\n     </g>\r\n     <g id=\"line2d_80\">\r\n      <g>\r\n       <use style=\"stroke:#000000;stroke-width:0.6;\" x=\"538.134687\" xlink:href=\"#m836b619d4e\" y=\"309.979219\"/>\r\n      </g>\r\n     </g>\r\n    </g>\r\n    <g id=\"xtick_41\">\r\n     <g id=\"line2d_81\">\r\n      <path clip-path=\"url(#pa2275059d7)\" d=\"M 565.314687 309.979219 \r\nL 565.314687 10.999219 \r\n\" style=\"fill:none;stroke:#b0b0b0;stroke-linecap:square;stroke-opacity:0.1;stroke-width:0.8;\"/>\r\n     </g>\r\n     <g id=\"line2d_82\">\r\n      <g>\r\n       <use style=\"stroke:#000000;stroke-width:0.6;\" x=\"565.314687\" xlink:href=\"#m836b619d4e\" y=\"309.979219\"/>\r\n      </g>\r\n     </g>\r\n    </g>\r\n   </g>\r\n   <g id=\"matplotlib.axis_2\">\r\n    <g id=\"ytick_1\">\r\n     <g id=\"line2d_83\">\r\n      <path clip-path=\"url(#pa2275059d7)\" d=\"M 35.304688 309.979219 \r\nL 578.904687 309.979219 \r\n\" style=\"fill:none;stroke:#b0b0b0;stroke-linecap:square;stroke-opacity:0.5;stroke-width:0.8;\"/>\r\n     </g>\r\n     <g id=\"line2d_84\">\r\n      <defs>\r\n       <path d=\"M 0 0 \r\nL -3.5 0 \r\n\" id=\"m5906ec0a2c\" style=\"stroke:#000000;stroke-width:0.8;\"/>\r\n      </defs>\r\n      <g>\r\n       <use style=\"stroke:#000000;stroke-width:0.8;\" x=\"35.304688\" xlink:href=\"#m5906ec0a2c\" y=\"309.979219\"/>\r\n      </g>\r\n     </g>\r\n     <g id=\"text_22\">\r\n      <!-- −10 -->\r\n      <g transform=\"translate(7.2 313.778437)scale(0.1 -0.1)\">\r\n       <use xlink:href=\"#DejaVuSans-2212\"/>\r\n       <use x=\"83.789062\" xlink:href=\"#DejaVuSans-31\"/>\r\n       <use x=\"147.412109\" xlink:href=\"#DejaVuSans-30\"/>\r\n      </g>\r\n     </g>\r\n    </g>\r\n    <g id=\"ytick_2\">\r\n     <g id=\"line2d_85\">\r\n      <path clip-path=\"url(#pa2275059d7)\" d=\"M 35.304688 282.799219 \r\nL 578.904687 282.799219 \r\n\" style=\"fill:none;stroke:#b0b0b0;stroke-linecap:square;stroke-opacity:0.5;stroke-width:0.8;\"/>\r\n     </g>\r\n     <g id=\"line2d_86\">\r\n      <g>\r\n       <use style=\"stroke:#000000;stroke-width:0.8;\" x=\"35.304688\" xlink:href=\"#m5906ec0a2c\" y=\"282.799219\"/>\r\n      </g>\r\n     </g>\r\n     <g id=\"text_23\">\r\n      <!-- −8 -->\r\n      <g transform=\"translate(13.5625 286.598437)scale(0.1 -0.1)\">\r\n       <use xlink:href=\"#DejaVuSans-2212\"/>\r\n       <use x=\"83.789062\" xlink:href=\"#DejaVuSans-38\"/>\r\n      </g>\r\n     </g>\r\n    </g>\r\n    <g id=\"ytick_3\">\r\n     <g id=\"line2d_87\">\r\n      <path clip-path=\"url(#pa2275059d7)\" d=\"M 35.304688 255.619219 \r\nL 578.904687 255.619219 \r\n\" style=\"fill:none;stroke:#b0b0b0;stroke-linecap:square;stroke-opacity:0.5;stroke-width:0.8;\"/>\r\n     </g>\r\n     <g id=\"line2d_88\">\r\n      <g>\r\n       <use style=\"stroke:#000000;stroke-width:0.8;\" x=\"35.304688\" xlink:href=\"#m5906ec0a2c\" y=\"255.619219\"/>\r\n      </g>\r\n     </g>\r\n     <g id=\"text_24\">\r\n      <!-- −6 -->\r\n      <g transform=\"translate(13.5625 259.418437)scale(0.1 -0.1)\">\r\n       <use xlink:href=\"#DejaVuSans-2212\"/>\r\n       <use x=\"83.789062\" xlink:href=\"#DejaVuSans-36\"/>\r\n      </g>\r\n     </g>\r\n    </g>\r\n    <g id=\"ytick_4\">\r\n     <g id=\"line2d_89\">\r\n      <path clip-path=\"url(#pa2275059d7)\" d=\"M 35.304688 228.439219 \r\nL 578.904687 228.439219 \r\n\" style=\"fill:none;stroke:#b0b0b0;stroke-linecap:square;stroke-opacity:0.5;stroke-width:0.8;\"/>\r\n     </g>\r\n     <g id=\"line2d_90\">\r\n      <g>\r\n       <use style=\"stroke:#000000;stroke-width:0.8;\" x=\"35.304688\" xlink:href=\"#m5906ec0a2c\" y=\"228.439219\"/>\r\n      </g>\r\n     </g>\r\n     <g id=\"text_25\">\r\n      <!-- −4 -->\r\n      <g transform=\"translate(13.5625 232.238438)scale(0.1 -0.1)\">\r\n       <use xlink:href=\"#DejaVuSans-2212\"/>\r\n       <use x=\"83.789062\" xlink:href=\"#DejaVuSans-34\"/>\r\n      </g>\r\n     </g>\r\n    </g>\r\n    <g id=\"ytick_5\">\r\n     <g id=\"line2d_91\">\r\n      <path clip-path=\"url(#pa2275059d7)\" d=\"M 35.304688 201.259219 \r\nL 578.904687 201.259219 \r\n\" style=\"fill:none;stroke:#b0b0b0;stroke-linecap:square;stroke-opacity:0.5;stroke-width:0.8;\"/>\r\n     </g>\r\n     <g id=\"line2d_92\">\r\n      <g>\r\n       <use style=\"stroke:#000000;stroke-width:0.8;\" x=\"35.304688\" xlink:href=\"#m5906ec0a2c\" y=\"201.259219\"/>\r\n      </g>\r\n     </g>\r\n     <g id=\"text_26\">\r\n      <!-- −2 -->\r\n      <g transform=\"translate(13.5625 205.058437)scale(0.1 -0.1)\">\r\n       <use xlink:href=\"#DejaVuSans-2212\"/>\r\n       <use x=\"83.789062\" xlink:href=\"#DejaVuSans-32\"/>\r\n      </g>\r\n     </g>\r\n    </g>\r\n    <g id=\"ytick_6\">\r\n     <g id=\"line2d_93\">\r\n      <path clip-path=\"url(#pa2275059d7)\" d=\"M 35.304688 174.079219 \r\nL 578.904687 174.079219 \r\n\" style=\"fill:none;stroke:#b0b0b0;stroke-linecap:square;stroke-opacity:0.5;stroke-width:0.8;\"/>\r\n     </g>\r\n     <g id=\"line2d_94\">\r\n      <g>\r\n       <use style=\"stroke:#000000;stroke-width:0.8;\" x=\"35.304688\" xlink:href=\"#m5906ec0a2c\" y=\"174.079219\"/>\r\n      </g>\r\n     </g>\r\n     <g id=\"text_27\">\r\n      <!-- 0 -->\r\n      <g transform=\"translate(21.942187 177.878437)scale(0.1 -0.1)\">\r\n       <use xlink:href=\"#DejaVuSans-30\"/>\r\n      </g>\r\n     </g>\r\n    </g>\r\n    <g id=\"ytick_7\">\r\n     <g id=\"line2d_95\">\r\n      <path clip-path=\"url(#pa2275059d7)\" d=\"M 35.304688 146.899219 \r\nL 578.904687 146.899219 \r\n\" style=\"fill:none;stroke:#b0b0b0;stroke-linecap:square;stroke-opacity:0.5;stroke-width:0.8;\"/>\r\n     </g>\r\n     <g id=\"line2d_96\">\r\n      <g>\r\n       <use style=\"stroke:#000000;stroke-width:0.8;\" x=\"35.304688\" xlink:href=\"#m5906ec0a2c\" y=\"146.899219\"/>\r\n      </g>\r\n     </g>\r\n     <g id=\"text_28\">\r\n      <!-- 2 -->\r\n      <g transform=\"translate(21.942187 150.698437)scale(0.1 -0.1)\">\r\n       <use xlink:href=\"#DejaVuSans-32\"/>\r\n      </g>\r\n     </g>\r\n    </g>\r\n    <g id=\"ytick_8\">\r\n     <g id=\"line2d_97\">\r\n      <path clip-path=\"url(#pa2275059d7)\" d=\"M 35.304688 119.719219 \r\nL 578.904687 119.719219 \r\n\" style=\"fill:none;stroke:#b0b0b0;stroke-linecap:square;stroke-opacity:0.5;stroke-width:0.8;\"/>\r\n     </g>\r\n     <g id=\"line2d_98\">\r\n      <g>\r\n       <use style=\"stroke:#000000;stroke-width:0.8;\" x=\"35.304688\" xlink:href=\"#m5906ec0a2c\" y=\"119.719219\"/>\r\n      </g>\r\n     </g>\r\n     <g id=\"text_29\">\r\n      <!-- 4 -->\r\n      <g transform=\"translate(21.942187 123.518437)scale(0.1 -0.1)\">\r\n       <use xlink:href=\"#DejaVuSans-34\"/>\r\n      </g>\r\n     </g>\r\n    </g>\r\n    <g id=\"ytick_9\">\r\n     <g id=\"line2d_99\">\r\n      <path clip-path=\"url(#pa2275059d7)\" d=\"M 35.304688 92.539219 \r\nL 578.904687 92.539219 \r\n\" style=\"fill:none;stroke:#b0b0b0;stroke-linecap:square;stroke-opacity:0.5;stroke-width:0.8;\"/>\r\n     </g>\r\n     <g id=\"line2d_100\">\r\n      <g>\r\n       <use style=\"stroke:#000000;stroke-width:0.8;\" x=\"35.304688\" xlink:href=\"#m5906ec0a2c\" y=\"92.539219\"/>\r\n      </g>\r\n     </g>\r\n     <g id=\"text_30\">\r\n      <!-- 6 -->\r\n      <g transform=\"translate(21.942187 96.338437)scale(0.1 -0.1)\">\r\n       <use xlink:href=\"#DejaVuSans-36\"/>\r\n      </g>\r\n     </g>\r\n    </g>\r\n    <g id=\"ytick_10\">\r\n     <g id=\"line2d_101\">\r\n      <path clip-path=\"url(#pa2275059d7)\" d=\"M 35.304688 65.359219 \r\nL 578.904687 65.359219 \r\n\" style=\"fill:none;stroke:#b0b0b0;stroke-linecap:square;stroke-opacity:0.5;stroke-width:0.8;\"/>\r\n     </g>\r\n     <g id=\"line2d_102\">\r\n      <g>\r\n       <use style=\"stroke:#000000;stroke-width:0.8;\" x=\"35.304688\" xlink:href=\"#m5906ec0a2c\" y=\"65.359219\"/>\r\n      </g>\r\n     </g>\r\n     <g id=\"text_31\">\r\n      <!-- 8 -->\r\n      <g transform=\"translate(21.942187 69.158437)scale(0.1 -0.1)\">\r\n       <use xlink:href=\"#DejaVuSans-38\"/>\r\n      </g>\r\n     </g>\r\n    </g>\r\n    <g id=\"ytick_11\">\r\n     <g id=\"line2d_103\">\r\n      <path clip-path=\"url(#pa2275059d7)\" d=\"M 35.304688 38.179219 \r\nL 578.904687 38.179219 \r\n\" style=\"fill:none;stroke:#b0b0b0;stroke-linecap:square;stroke-opacity:0.5;stroke-width:0.8;\"/>\r\n     </g>\r\n     <g id=\"line2d_104\">\r\n      <g>\r\n       <use style=\"stroke:#000000;stroke-width:0.8;\" x=\"35.304688\" xlink:href=\"#m5906ec0a2c\" y=\"38.179219\"/>\r\n      </g>\r\n     </g>\r\n     <g id=\"text_32\">\r\n      <!-- 10 -->\r\n      <g transform=\"translate(15.579687 41.978438)scale(0.1 -0.1)\">\r\n       <use xlink:href=\"#DejaVuSans-31\"/>\r\n       <use x=\"63.623047\" xlink:href=\"#DejaVuSans-30\"/>\r\n      </g>\r\n     </g>\r\n    </g>\r\n    <g id=\"ytick_12\">\r\n     <g id=\"line2d_105\">\r\n      <path clip-path=\"url(#pa2275059d7)\" d=\"M 35.304688 10.999219 \r\nL 578.904687 10.999219 \r\n\" style=\"fill:none;stroke:#b0b0b0;stroke-linecap:square;stroke-opacity:0.5;stroke-width:0.8;\"/>\r\n     </g>\r\n     <g id=\"line2d_106\">\r\n      <g>\r\n       <use style=\"stroke:#000000;stroke-width:0.8;\" x=\"35.304688\" xlink:href=\"#m5906ec0a2c\" y=\"10.999219\"/>\r\n      </g>\r\n     </g>\r\n     <g id=\"text_33\">\r\n      <!-- 12 -->\r\n      <g transform=\"translate(15.579687 14.798437)scale(0.1 -0.1)\">\r\n       <use xlink:href=\"#DejaVuSans-31\"/>\r\n       <use x=\"63.623047\" xlink:href=\"#DejaVuSans-32\"/>\r\n      </g>\r\n     </g>\r\n    </g>\r\n    <g id=\"ytick_13\">\r\n     <g id=\"line2d_107\">\r\n      <path clip-path=\"url(#pa2275059d7)\" d=\"M 35.304688 296.389219 \r\nL 578.904687 296.389219 \r\n\" style=\"fill:none;stroke:#b0b0b0;stroke-linecap:square;stroke-opacity:0.1;stroke-width:0.8;\"/>\r\n     </g>\r\n     <g id=\"line2d_108\">\r\n      <defs>\r\n       <path d=\"M 0 0 \r\nL -2 0 \r\n\" id=\"mf413032428\" style=\"stroke:#000000;stroke-width:0.6;\"/>\r\n      </defs>\r\n      <g>\r\n       <use style=\"stroke:#000000;stroke-width:0.6;\" x=\"35.304688\" xlink:href=\"#mf413032428\" y=\"296.389219\"/>\r\n      </g>\r\n     </g>\r\n    </g>\r\n    <g id=\"ytick_14\">\r\n     <g id=\"line2d_109\">\r\n      <path clip-path=\"url(#pa2275059d7)\" d=\"M 35.304688 269.209219 \r\nL 578.904687 269.209219 \r\n\" style=\"fill:none;stroke:#b0b0b0;stroke-linecap:square;stroke-opacity:0.1;stroke-width:0.8;\"/>\r\n     </g>\r\n     <g id=\"line2d_110\">\r\n      <g>\r\n       <use style=\"stroke:#000000;stroke-width:0.6;\" x=\"35.304688\" xlink:href=\"#mf413032428\" y=\"269.209219\"/>\r\n      </g>\r\n     </g>\r\n    </g>\r\n    <g id=\"ytick_15\">\r\n     <g id=\"line2d_111\">\r\n      <path clip-path=\"url(#pa2275059d7)\" d=\"M 35.304688 242.029219 \r\nL 578.904687 242.029219 \r\n\" style=\"fill:none;stroke:#b0b0b0;stroke-linecap:square;stroke-opacity:0.1;stroke-width:0.8;\"/>\r\n     </g>\r\n     <g id=\"line2d_112\">\r\n      <g>\r\n       <use style=\"stroke:#000000;stroke-width:0.6;\" x=\"35.304688\" xlink:href=\"#mf413032428\" y=\"242.029219\"/>\r\n      </g>\r\n     </g>\r\n    </g>\r\n    <g id=\"ytick_16\">\r\n     <g id=\"line2d_113\">\r\n      <path clip-path=\"url(#pa2275059d7)\" d=\"M 35.304688 214.849219 \r\nL 578.904687 214.849219 \r\n\" style=\"fill:none;stroke:#b0b0b0;stroke-linecap:square;stroke-opacity:0.1;stroke-width:0.8;\"/>\r\n     </g>\r\n     <g id=\"line2d_114\">\r\n      <g>\r\n       <use style=\"stroke:#000000;stroke-width:0.6;\" x=\"35.304688\" xlink:href=\"#mf413032428\" y=\"214.849219\"/>\r\n      </g>\r\n     </g>\r\n    </g>\r\n    <g id=\"ytick_17\">\r\n     <g id=\"line2d_115\">\r\n      <path clip-path=\"url(#pa2275059d7)\" d=\"M 35.304688 187.669219 \r\nL 578.904687 187.669219 \r\n\" style=\"fill:none;stroke:#b0b0b0;stroke-linecap:square;stroke-opacity:0.1;stroke-width:0.8;\"/>\r\n     </g>\r\n     <g id=\"line2d_116\">\r\n      <g>\r\n       <use style=\"stroke:#000000;stroke-width:0.6;\" x=\"35.304688\" xlink:href=\"#mf413032428\" y=\"187.669219\"/>\r\n      </g>\r\n     </g>\r\n    </g>\r\n    <g id=\"ytick_18\">\r\n     <g id=\"line2d_117\">\r\n      <path clip-path=\"url(#pa2275059d7)\" d=\"M 35.304688 160.489219 \r\nL 578.904687 160.489219 \r\n\" style=\"fill:none;stroke:#b0b0b0;stroke-linecap:square;stroke-opacity:0.1;stroke-width:0.8;\"/>\r\n     </g>\r\n     <g id=\"line2d_118\">\r\n      <g>\r\n       <use style=\"stroke:#000000;stroke-width:0.6;\" x=\"35.304688\" xlink:href=\"#mf413032428\" y=\"160.489219\"/>\r\n      </g>\r\n     </g>\r\n    </g>\r\n    <g id=\"ytick_19\">\r\n     <g id=\"line2d_119\">\r\n      <path clip-path=\"url(#pa2275059d7)\" d=\"M 35.304688 133.309219 \r\nL 578.904687 133.309219 \r\n\" style=\"fill:none;stroke:#b0b0b0;stroke-linecap:square;stroke-opacity:0.1;stroke-width:0.8;\"/>\r\n     </g>\r\n     <g id=\"line2d_120\">\r\n      <g>\r\n       <use style=\"stroke:#000000;stroke-width:0.6;\" x=\"35.304688\" xlink:href=\"#mf413032428\" y=\"133.309219\"/>\r\n      </g>\r\n     </g>\r\n    </g>\r\n    <g id=\"ytick_20\">\r\n     <g id=\"line2d_121\">\r\n      <path clip-path=\"url(#pa2275059d7)\" d=\"M 35.304688 106.129219 \r\nL 578.904687 106.129219 \r\n\" style=\"fill:none;stroke:#b0b0b0;stroke-linecap:square;stroke-opacity:0.1;stroke-width:0.8;\"/>\r\n     </g>\r\n     <g id=\"line2d_122\">\r\n      <g>\r\n       <use style=\"stroke:#000000;stroke-width:0.6;\" x=\"35.304688\" xlink:href=\"#mf413032428\" y=\"106.129219\"/>\r\n      </g>\r\n     </g>\r\n    </g>\r\n    <g id=\"ytick_21\">\r\n     <g id=\"line2d_123\">\r\n      <path clip-path=\"url(#pa2275059d7)\" d=\"M 35.304688 78.949219 \r\nL 578.904687 78.949219 \r\n\" style=\"fill:none;stroke:#b0b0b0;stroke-linecap:square;stroke-opacity:0.1;stroke-width:0.8;\"/>\r\n     </g>\r\n     <g id=\"line2d_124\">\r\n      <g>\r\n       <use style=\"stroke:#000000;stroke-width:0.6;\" x=\"35.304688\" xlink:href=\"#mf413032428\" y=\"78.949219\"/>\r\n      </g>\r\n     </g>\r\n    </g>\r\n    <g id=\"ytick_22\">\r\n     <g id=\"line2d_125\">\r\n      <path clip-path=\"url(#pa2275059d7)\" d=\"M 35.304688 51.769219 \r\nL 578.904687 51.769219 \r\n\" style=\"fill:none;stroke:#b0b0b0;stroke-linecap:square;stroke-opacity:0.1;stroke-width:0.8;\"/>\r\n     </g>\r\n     <g id=\"line2d_126\">\r\n      <g>\r\n       <use style=\"stroke:#000000;stroke-width:0.6;\" x=\"35.304688\" xlink:href=\"#mf413032428\" y=\"51.769219\"/>\r\n      </g>\r\n     </g>\r\n    </g>\r\n    <g id=\"ytick_23\">\r\n     <g id=\"line2d_127\">\r\n      <path clip-path=\"url(#pa2275059d7)\" d=\"M 35.304688 24.589219 \r\nL 578.904687 24.589219 \r\n\" style=\"fill:none;stroke:#b0b0b0;stroke-linecap:square;stroke-opacity:0.1;stroke-width:0.8;\"/>\r\n     </g>\r\n     <g id=\"line2d_128\">\r\n      <g>\r\n       <use style=\"stroke:#000000;stroke-width:0.6;\" x=\"35.304688\" xlink:href=\"#mf413032428\" y=\"24.589219\"/>\r\n      </g>\r\n     </g>\r\n    </g>\r\n   </g>\r\n   <g id=\"line2d_129\">\r\n    <path clip-path=\"url(#pa2275059d7)\" d=\"M 103.254687 174.079219 \r\nL 144.024687 174.079219 \r\nM 225.564687 174.079219 \r\nL 388.644687 174.079219 \r\nM 470.184687 174.079219 \r\nL 524.544687 171.361219 \r\nL 531.339687 119.719219 \r\nL 279.924687 74.872219 \r\nL 88.305687 133.309219 \r\nL 89.664687 160.489219 \r\nL 103.254687 174.079219 \r\nM 510.954687 172.720219 \r\nL 510.954687 179.515219 \r\nL 520.467687 179.515219 \r\nL 517.749687 187.669219 \r\nL 470.184687 191.746219 \r\nL 470.184687 174.079219 \r\n\" style=\"fill:none;stroke:#000000;stroke-linecap:square;stroke-width:1.5;\"/>\r\n   </g>\r\n   <g id=\"patch_3\">\r\n    <path d=\"M 35.304688 309.979219 \r\nL 35.304688 10.999219 \r\n\" style=\"fill:none;stroke:#000000;stroke-linecap:square;stroke-linejoin:miter;stroke-width:0.8;\"/>\r\n   </g>\r\n   <g id=\"patch_4\">\r\n    <path d=\"M 578.904687 309.979219 \r\nL 578.904687 10.999219 \r\n\" style=\"fill:none;stroke:#000000;stroke-linecap:square;stroke-linejoin:miter;stroke-width:0.8;\"/>\r\n   </g>\r\n   <g id=\"patch_5\">\r\n    <path d=\"M 35.304688 309.979219 \r\nL 578.904687 309.979219 \r\n\" style=\"fill:none;stroke:#000000;stroke-linecap:square;stroke-linejoin:miter;stroke-width:0.8;\"/>\r\n   </g>\r\n   <g id=\"patch_6\">\r\n    <path d=\"M 35.304688 10.999219 \r\nL 578.904687 10.999219 \r\n\" style=\"fill:none;stroke:#000000;stroke-linecap:square;stroke-linejoin:miter;stroke-width:0.8;\"/>\r\n   </g>\r\n  </g>\r\n </g>\r\n <defs>\r\n  <clipPath id=\"pa2275059d7\">\r\n   <rect height=\"298.98\" width=\"543.6\" x=\"35.304688\" y=\"10.999219\"/>\r\n  </clipPath>\r\n </defs>\r\n</svg>\r\n",
      "image/png": "[encoded data removed]"
     },
     "metadata": {
      "needs_background": "light"
     }
    }
   ],
   "source": [
    "#\n",
    "# Ergänzen Sie bitte hier die Python Befehle für Aufgabe 1!\n",
    "#\n",
    "\n",
    "x = [-15,-12,np.nan,-6,6,np.nan,12,16,16.5,-2,-16.1,-16,-15,np.nan,15,15,15.7,15.5,12,12]\n",
    "y = [0,0,np.nan,0,0,np.nan,0,0.2,4,7.3,3,1,0,np.nan,0.1,-0.4,-0.4,-1,-1.3,0]\n",
    "\n",
    "draw_plot(x, y, 'k', plot_settings)"
   ]
  },
  {
   "cell_type": "markdown",
   "metadata": {},
   "source": [
    "# Räder\n",
    "Die Räder werden durch zwei Kreise mit Radius $r=3$ dargestellt.\n",
    "Ein Kreis um den Ursprung mit Radius $r$ besitzt die mathematische Darstellung\n",
    "\n",
    "$$\n",
    "\t\\mathbf{c}(t) =\n",
    "\t\\left(\n",
    "\t\t\\begin{array}{c}\n",
    "\t\t\tr \\cos (t) \\\\\n",
    "\t\t\tr \\sin (t) \\\\\n",
    "\t\t\\end{array}\n",
    "\t\\right),\n",
    "\t\\quad\n",
    "\tt \\in [0, 2 \\pi].\n",
    "$$\n",
    "\n",
    "Wenn das Intervall $[0, 2 \\pi]$ gleichmäßig in $n$ Abschnitte unterteilt wird\n",
    "\n",
    "$$\n",
    "\tt_0 = 0, \\quad t_1 = \\frac{2 \\pi}{n}, \\quad \\ldots, \\quad t_n = 2 \\pi\n",
    "$$\n",
    "\n",
    "und die entsprechenden Punkte durch gerade Strecken verbunden werden, dann entsteht ein $n$-Eck.\n",
    "Für genügend groß gewähles $n$ wirkt das $n$-Eck in der grafischen Darstellung wie ein Kreis.\n",
    "Zur Darstellung der beiden Räder muss das $n$-Eck entsprechend in $x$-Richtung verschoben werden."
   ]
  },
  {
   "cell_type": "markdown",
   "metadata": {},
   "source": [
    "<div class=\"alert alert-block alert-info\">\n",
    "    \n",
    "### Aufgabe 2\n",
    "\n",
    "Ergänzen Sie die Grafik durch die Rädes des Fahrzeugs.   \n",
    "</div>"
   ]
  },
  {
   "cell_type": "code",
   "execution_count": 17,
   "metadata": {},
   "outputs": [],
   "source": [
    "#IFrame('https://www.dropbox.com/s/49hkutb3vut614q/car2.png?raw=1', width=600, height=330)"
   ]
  },
  {
   "cell_type": "code",
   "execution_count": 19,
   "metadata": {},
   "outputs": [],
   "source": [
    "#\n",
    "# Ergänzen Sie bitte hier die Python Befehle für Aufgabe 2!\n",
    "#\n",
    "\n",
    "def circle(radius, x_offset, y_offset, resolution):\n",
    "    t = np.linspace(0, 2*np.pi, resolution)\n",
    "\n",
    "    x = x_offset + radius * np.cos(t)\n",
    "    y = y_offset + radius * np.sin(t)\n",
    "\n",
    "    x = np.append(x, np.nan)\n",
    "    y = np.append(y, np.nan)\n",
    "    \n",
    "    return x,y"
   ]
  },
  {
   "cell_type": "code",
   "execution_count": 52,
   "metadata": {},
   "outputs": [
    {
     "output_type": "display_data",
     "data": {
      "text/plain": "<Figure size 720x396 with 1 Axes>",
      "image/svg+xml": "<?xml version=\"1.0\" encoding=\"utf-8\" standalone=\"no\"?>\r\n<!DOCTYPE svg PUBLIC \"-//W3C//DTD SVG 1.1//EN\"\r\n  \"http://www.w3.org/Graphics/SVG/1.1/DTD/svg11.dtd\">\r\n<svg height=\"333.857344pt\" version=\"1.1\" viewBox=\"0 0 592.467187 333.857344\" width=\"592.467187pt\" xmlns=\"http://www.w3.org/2000/svg\" xmlns:xlink=\"http://www.w3.org/1999/xlink\">\r\n <metadata>\r\n  <rdf:RDF xmlns:cc=\"http://creativecommons.org/ns#\" xmlns:dc=\"http://purl.org/dc/elements/1.1/\" xmlns:rdf=\"http://www.w3.org/1999/02/22-rdf-syntax-ns#\">\r\n   <cc:Work>\r\n    <dc:type rdf:resource=\"http://purl.org/dc/dcmitype/StillImage\"/>\r\n    <dc:date>2021-04-08T11:50:29.709185</dc:date>\r\n    <dc:format>image/svg+xml</dc:format>\r\n    <dc:creator>\r\n     <cc:Agent>\r\n      <dc:title>Matplotlib v3.4.1, https://matplotlib.org/</dc:title>\r\n     </cc:Agent>\r\n    </dc:creator>\r\n   </cc:Work>\r\n  </rdf:RDF>\r\n </metadata>\r\n <defs>\r\n  <style type=\"text/css\">*{stroke-linecap:butt;stroke-linejoin:round;}</style>\r\n </defs>\r\n <g id=\"figure_1\">\r\n  <g id=\"patch_1\">\r\n   <path d=\"M -0 333.857344 \r\nL 592.467187 333.857344 \r\nL 592.467187 0 \r\nL -0 0 \r\nz\r\n\" style=\"fill:none;\"/>\r\n  </g>\r\n  <g id=\"axes_1\">\r\n   <g id=\"patch_2\">\r\n    <path d=\"M 35.304688 309.979219 \r\nL 578.904687 309.979219 \r\nL 578.904687 10.999219 \r\nL 35.304688 10.999219 \r\nz\r\n\" style=\"fill:#ffffff;\"/>\r\n   </g>\r\n   <g id=\"matplotlib.axis_1\">\r\n    <g id=\"xtick_1\">\r\n     <g id=\"line2d_1\">\r\n      <path clip-path=\"url(#p57577808ee)\" d=\"M 35.304688 309.979219 \r\nL 35.304688 10.999219 \r\n\" style=\"fill:none;stroke:#b0b0b0;stroke-linecap:square;stroke-opacity:0.5;stroke-width:0.8;\"/>\r\n     </g>\r\n     <g id=\"line2d_2\">\r\n      <defs>\r\n       <path d=\"M 0 0 \r\nL 0 3.5 \r\n\" id=\"m9a7887738c\" style=\"stroke:#000000;stroke-width:0.8;\"/>\r\n      </defs>\r\n      <g>\r\n       <use style=\"stroke:#000000;stroke-width:0.8;\" x=\"35.304688\" xlink:href=\"#m9a7887738c\" y=\"309.979219\"/>\r\n      </g>\r\n     </g>\r\n     <g id=\"text_1\">\r\n      <!-- −20 -->\r\n      <g transform=\"translate(24.752344 324.577656)scale(0.1 -0.1)\">\r\n       <defs>\r\n        <path d=\"M 678 2272 \r\nL 4684 2272 \r\nL 4684 1741 \r\nL 678 1741 \r\nL 678 2272 \r\nz\r\n\" id=\"DejaVuSans-2212\" transform=\"scale(0.015625)\"/>\r\n        <path d=\"M 1228 531 \r\nL 3431 531 \r\nL 3431 0 \r\nL 469 0 \r\nL 469 531 \r\nQ 828 903 1448 1529 \r\nQ 2069 2156 2228 2338 \r\nQ 2531 2678 2651 2914 \r\nQ 2772 3150 2772 3378 \r\nQ 2772 3750 2511 3984 \r\nQ 2250 4219 1831 4219 \r\nQ 1534 4219 1204 4116 \r\nQ 875 4013 500 3803 \r\nL 500 4441 \r\nQ 881 4594 1212 4672 \r\nQ 1544 4750 1819 4750 \r\nQ 2544 4750 2975 4387 \r\nQ 3406 4025 3406 3419 \r\nQ 3406 3131 3298 2873 \r\nQ 3191 2616 2906 2266 \r\nQ 2828 2175 2409 1742 \r\nQ 1991 1309 1228 531 \r\nz\r\n\" id=\"DejaVuSans-32\" transform=\"scale(0.015625)\"/>\r\n        <path d=\"M 2034 4250 \r\nQ 1547 4250 1301 3770 \r\nQ 1056 3291 1056 2328 \r\nQ 1056 1369 1301 889 \r\nQ 1547 409 2034 409 \r\nQ 2525 409 2770 889 \r\nQ 3016 1369 3016 2328 \r\nQ 3016 3291 2770 3770 \r\nQ 2525 4250 2034 4250 \r\nz\r\nM 2034 4750 \r\nQ 2819 4750 3233 4129 \r\nQ 3647 3509 3647 2328 \r\nQ 3647 1150 3233 529 \r\nQ 2819 -91 2034 -91 \r\nQ 1250 -91 836 529 \r\nQ 422 1150 422 2328 \r\nQ 422 3509 836 4129 \r\nQ 1250 4750 2034 4750 \r\nz\r\n\" id=\"DejaVuSans-30\" transform=\"scale(0.015625)\"/>\r\n       </defs>\r\n       <use xlink:href=\"#DejaVuSans-2212\"/>\r\n       <use x=\"83.789062\" xlink:href=\"#DejaVuSans-32\"/>\r\n       <use x=\"147.412109\" xlink:href=\"#DejaVuSans-30\"/>\r\n      </g>\r\n     </g>\r\n    </g>\r\n    <g id=\"xtick_2\">\r\n     <g id=\"line2d_3\">\r\n      <path clip-path=\"url(#p57577808ee)\" d=\"M 62.484687 309.979219 \r\nL 62.484687 10.999219 \r\n\" style=\"fill:none;stroke:#b0b0b0;stroke-linecap:square;stroke-opacity:0.5;stroke-width:0.8;\"/>\r\n     </g>\r\n     <g id=\"line2d_4\">\r\n      <g>\r\n       <use style=\"stroke:#000000;stroke-width:0.8;\" x=\"62.484687\" xlink:href=\"#m9a7887738c\" y=\"309.979219\"/>\r\n      </g>\r\n     </g>\r\n     <g id=\"text_2\">\r\n      <!-- −18 -->\r\n      <g transform=\"translate(51.932344 324.577656)scale(0.1 -0.1)\">\r\n       <defs>\r\n        <path d=\"M 794 531 \r\nL 1825 531 \r\nL 1825 4091 \r\nL 703 3866 \r\nL 703 4441 \r\nL 1819 4666 \r\nL 2450 4666 \r\nL 2450 531 \r\nL 3481 531 \r\nL 3481 0 \r\nL 794 0 \r\nL 794 531 \r\nz\r\n\" id=\"DejaVuSans-31\" transform=\"scale(0.015625)\"/>\r\n        <path d=\"M 2034 2216 \r\nQ 1584 2216 1326 1975 \r\nQ 1069 1734 1069 1313 \r\nQ 1069 891 1326 650 \r\nQ 1584 409 2034 409 \r\nQ 2484 409 2743 651 \r\nQ 3003 894 3003 1313 \r\nQ 3003 1734 2745 1975 \r\nQ 2488 2216 2034 2216 \r\nz\r\nM 1403 2484 \r\nQ 997 2584 770 2862 \r\nQ 544 3141 544 3541 \r\nQ 544 4100 942 4425 \r\nQ 1341 4750 2034 4750 \r\nQ 2731 4750 3128 4425 \r\nQ 3525 4100 3525 3541 \r\nQ 3525 3141 3298 2862 \r\nQ 3072 2584 2669 2484 \r\nQ 3125 2378 3379 2068 \r\nQ 3634 1759 3634 1313 \r\nQ 3634 634 3220 271 \r\nQ 2806 -91 2034 -91 \r\nQ 1263 -91 848 271 \r\nQ 434 634 434 1313 \r\nQ 434 1759 690 2068 \r\nQ 947 2378 1403 2484 \r\nz\r\nM 1172 3481 \r\nQ 1172 3119 1398 2916 \r\nQ 1625 2713 2034 2713 \r\nQ 2441 2713 2670 2916 \r\nQ 2900 3119 2900 3481 \r\nQ 2900 3844 2670 4047 \r\nQ 2441 4250 2034 4250 \r\nQ 1625 4250 1398 4047 \r\nQ 1172 3844 1172 3481 \r\nz\r\n\" id=\"DejaVuSans-38\" transform=\"scale(0.015625)\"/>\r\n       </defs>\r\n       <use xlink:href=\"#DejaVuSans-2212\"/>\r\n       <use x=\"83.789062\" xlink:href=\"#DejaVuSans-31\"/>\r\n       <use x=\"147.412109\" xlink:href=\"#DejaVuSans-38\"/>\r\n      </g>\r\n     </g>\r\n    </g>\r\n    <g id=\"xtick_3\">\r\n     <g id=\"line2d_5\">\r\n      <path clip-path=\"url(#p57577808ee)\" d=\"M 89.664687 309.979219 \r\nL 89.664687 10.999219 \r\n\" style=\"fill:none;stroke:#b0b0b0;stroke-linecap:square;stroke-opacity:0.5;stroke-width:0.8;\"/>\r\n     </g>\r\n     <g id=\"line2d_6\">\r\n      <g>\r\n       <use style=\"stroke:#000000;stroke-width:0.8;\" x=\"89.664687\" xlink:href=\"#m9a7887738c\" y=\"309.979219\"/>\r\n      </g>\r\n     </g>\r\n     <g id=\"text_3\">\r\n      <!-- −16 -->\r\n      <g transform=\"translate(79.112344 324.577656)scale(0.1 -0.1)\">\r\n       <defs>\r\n        <path d=\"M 2113 2584 \r\nQ 1688 2584 1439 2293 \r\nQ 1191 2003 1191 1497 \r\nQ 1191 994 1439 701 \r\nQ 1688 409 2113 409 \r\nQ 2538 409 2786 701 \r\nQ 3034 994 3034 1497 \r\nQ 3034 2003 2786 2293 \r\nQ 2538 2584 2113 2584 \r\nz\r\nM 3366 4563 \r\nL 3366 3988 \r\nQ 3128 4100 2886 4159 \r\nQ 2644 4219 2406 4219 \r\nQ 1781 4219 1451 3797 \r\nQ 1122 3375 1075 2522 \r\nQ 1259 2794 1537 2939 \r\nQ 1816 3084 2150 3084 \r\nQ 2853 3084 3261 2657 \r\nQ 3669 2231 3669 1497 \r\nQ 3669 778 3244 343 \r\nQ 2819 -91 2113 -91 \r\nQ 1303 -91 875 529 \r\nQ 447 1150 447 2328 \r\nQ 447 3434 972 4092 \r\nQ 1497 4750 2381 4750 \r\nQ 2619 4750 2861 4703 \r\nQ 3103 4656 3366 4563 \r\nz\r\n\" id=\"DejaVuSans-36\" transform=\"scale(0.015625)\"/>\r\n       </defs>\r\n       <use xlink:href=\"#DejaVuSans-2212\"/>\r\n       <use x=\"83.789062\" xlink:href=\"#DejaVuSans-31\"/>\r\n       <use x=\"147.412109\" xlink:href=\"#DejaVuSans-36\"/>\r\n      </g>\r\n     </g>\r\n    </g>\r\n    <g id=\"xtick_4\">\r\n     <g id=\"line2d_7\">\r\n      <path clip-path=\"url(#p57577808ee)\" d=\"M 116.844687 309.979219 \r\nL 116.844687 10.999219 \r\n\" style=\"fill:none;stroke:#b0b0b0;stroke-linecap:square;stroke-opacity:0.5;stroke-width:0.8;\"/>\r\n     </g>\r\n     <g id=\"line2d_8\">\r\n      <g>\r\n       <use style=\"stroke:#000000;stroke-width:0.8;\" x=\"116.844687\" xlink:href=\"#m9a7887738c\" y=\"309.979219\"/>\r\n      </g>\r\n     </g>\r\n     <g id=\"text_4\">\r\n      <!-- −14 -->\r\n      <g transform=\"translate(106.292344 324.577656)scale(0.1 -0.1)\">\r\n       <defs>\r\n        <path d=\"M 2419 4116 \r\nL 825 1625 \r\nL 2419 1625 \r\nL 2419 4116 \r\nz\r\nM 2253 4666 \r\nL 3047 4666 \r\nL 3047 1625 \r\nL 3713 1625 \r\nL 3713 1100 \r\nL 3047 1100 \r\nL 3047 0 \r\nL 2419 0 \r\nL 2419 1100 \r\nL 313 1100 \r\nL 313 1709 \r\nL 2253 4666 \r\nz\r\n\" id=\"DejaVuSans-34\" transform=\"scale(0.015625)\"/>\r\n       </defs>\r\n       <use xlink:href=\"#DejaVuSans-2212\"/>\r\n       <use x=\"83.789062\" xlink:href=\"#DejaVuSans-31\"/>\r\n       <use x=\"147.412109\" xlink:href=\"#DejaVuSans-34\"/>\r\n      </g>\r\n     </g>\r\n    </g>\r\n    <g id=\"xtick_5\">\r\n     <g id=\"line2d_9\">\r\n      <path clip-path=\"url(#p57577808ee)\" d=\"M 144.024687 309.979219 \r\nL 144.024687 10.999219 \r\n\" style=\"fill:none;stroke:#b0b0b0;stroke-linecap:square;stroke-opacity:0.5;stroke-width:0.8;\"/>\r\n     </g>\r\n     <g id=\"line2d_10\">\r\n      <g>\r\n       <use style=\"stroke:#000000;stroke-width:0.8;\" x=\"144.024687\" xlink:href=\"#m9a7887738c\" y=\"309.979219\"/>\r\n      </g>\r\n     </g>\r\n     <g id=\"text_5\">\r\n      <!-- −12 -->\r\n      <g transform=\"translate(133.472344 324.577656)scale(0.1 -0.1)\">\r\n       <use xlink:href=\"#DejaVuSans-2212\"/>\r\n       <use x=\"83.789062\" xlink:href=\"#DejaVuSans-31\"/>\r\n       <use x=\"147.412109\" xlink:href=\"#DejaVuSans-32\"/>\r\n      </g>\r\n     </g>\r\n    </g>\r\n    <g id=\"xtick_6\">\r\n     <g id=\"line2d_11\">\r\n      <path clip-path=\"url(#p57577808ee)\" d=\"M 171.204687 309.979219 \r\nL 171.204687 10.999219 \r\n\" style=\"fill:none;stroke:#b0b0b0;stroke-linecap:square;stroke-opacity:0.5;stroke-width:0.8;\"/>\r\n     </g>\r\n     <g id=\"line2d_12\">\r\n      <g>\r\n       <use style=\"stroke:#000000;stroke-width:0.8;\" x=\"171.204687\" xlink:href=\"#m9a7887738c\" y=\"309.979219\"/>\r\n      </g>\r\n     </g>\r\n     <g id=\"text_6\">\r\n      <!-- −10 -->\r\n      <g transform=\"translate(160.652344 324.577656)scale(0.1 -0.1)\">\r\n       <use xlink:href=\"#DejaVuSans-2212\"/>\r\n       <use x=\"83.789062\" xlink:href=\"#DejaVuSans-31\"/>\r\n       <use x=\"147.412109\" xlink:href=\"#DejaVuSans-30\"/>\r\n      </g>\r\n     </g>\r\n    </g>\r\n    <g id=\"xtick_7\">\r\n     <g id=\"line2d_13\">\r\n      <path clip-path=\"url(#p57577808ee)\" d=\"M 198.384687 309.979219 \r\nL 198.384687 10.999219 \r\n\" style=\"fill:none;stroke:#b0b0b0;stroke-linecap:square;stroke-opacity:0.5;stroke-width:0.8;\"/>\r\n     </g>\r\n     <g id=\"line2d_14\">\r\n      <g>\r\n       <use style=\"stroke:#000000;stroke-width:0.8;\" x=\"198.384687\" xlink:href=\"#m9a7887738c\" y=\"309.979219\"/>\r\n      </g>\r\n     </g>\r\n     <g id=\"text_7\">\r\n      <!-- −8 -->\r\n      <g transform=\"translate(191.013594 324.577656)scale(0.1 -0.1)\">\r\n       <use xlink:href=\"#DejaVuSans-2212\"/>\r\n       <use x=\"83.789062\" xlink:href=\"#DejaVuSans-38\"/>\r\n      </g>\r\n     </g>\r\n    </g>\r\n    <g id=\"xtick_8\">\r\n     <g id=\"line2d_15\">\r\n      <path clip-path=\"url(#p57577808ee)\" d=\"M 225.564687 309.979219 \r\nL 225.564687 10.999219 \r\n\" style=\"fill:none;stroke:#b0b0b0;stroke-linecap:square;stroke-opacity:0.5;stroke-width:0.8;\"/>\r\n     </g>\r\n     <g id=\"line2d_16\">\r\n      <g>\r\n       <use style=\"stroke:#000000;stroke-width:0.8;\" x=\"225.564687\" xlink:href=\"#m9a7887738c\" y=\"309.979219\"/>\r\n      </g>\r\n     </g>\r\n     <g id=\"text_8\">\r\n      <!-- −6 -->\r\n      <g transform=\"translate(218.193594 324.577656)scale(0.1 -0.1)\">\r\n       <use xlink:href=\"#DejaVuSans-2212\"/>\r\n       <use x=\"83.789062\" xlink:href=\"#DejaVuSans-36\"/>\r\n      </g>\r\n     </g>\r\n    </g>\r\n    <g id=\"xtick_9\">\r\n     <g id=\"line2d_17\">\r\n      <path clip-path=\"url(#p57577808ee)\" d=\"M 252.744687 309.979219 \r\nL 252.744687 10.999219 \r\n\" style=\"fill:none;stroke:#b0b0b0;stroke-linecap:square;stroke-opacity:0.5;stroke-width:0.8;\"/>\r\n     </g>\r\n     <g id=\"line2d_18\">\r\n      <g>\r\n       <use style=\"stroke:#000000;stroke-width:0.8;\" x=\"252.744687\" xlink:href=\"#m9a7887738c\" y=\"309.979219\"/>\r\n      </g>\r\n     </g>\r\n     <g id=\"text_9\">\r\n      <!-- −4 -->\r\n      <g transform=\"translate(245.373594 324.577656)scale(0.1 -0.1)\">\r\n       <use xlink:href=\"#DejaVuSans-2212\"/>\r\n       <use x=\"83.789062\" xlink:href=\"#DejaVuSans-34\"/>\r\n      </g>\r\n     </g>\r\n    </g>\r\n    <g id=\"xtick_10\">\r\n     <g id=\"line2d_19\">\r\n      <path clip-path=\"url(#p57577808ee)\" d=\"M 279.924687 309.979219 \r\nL 279.924687 10.999219 \r\n\" style=\"fill:none;stroke:#b0b0b0;stroke-linecap:square;stroke-opacity:0.5;stroke-width:0.8;\"/>\r\n     </g>\r\n     <g id=\"line2d_20\">\r\n      <g>\r\n       <use style=\"stroke:#000000;stroke-width:0.8;\" x=\"279.924687\" xlink:href=\"#m9a7887738c\" y=\"309.979219\"/>\r\n      </g>\r\n     </g>\r\n     <g id=\"text_10\">\r\n      <!-- −2 -->\r\n      <g transform=\"translate(272.553594 324.577656)scale(0.1 -0.1)\">\r\n       <use xlink:href=\"#DejaVuSans-2212\"/>\r\n       <use x=\"83.789062\" xlink:href=\"#DejaVuSans-32\"/>\r\n      </g>\r\n     </g>\r\n    </g>\r\n    <g id=\"xtick_11\">\r\n     <g id=\"line2d_21\">\r\n      <path clip-path=\"url(#p57577808ee)\" d=\"M 307.104687 309.979219 \r\nL 307.104687 10.999219 \r\n\" style=\"fill:none;stroke:#b0b0b0;stroke-linecap:square;stroke-opacity:0.5;stroke-width:0.8;\"/>\r\n     </g>\r\n     <g id=\"line2d_22\">\r\n      <g>\r\n       <use style=\"stroke:#000000;stroke-width:0.8;\" x=\"307.104687\" xlink:href=\"#m9a7887738c\" y=\"309.979219\"/>\r\n      </g>\r\n     </g>\r\n     <g id=\"text_11\">\r\n      <!-- 0 -->\r\n      <g transform=\"translate(303.923437 324.577656)scale(0.1 -0.1)\">\r\n       <use xlink:href=\"#DejaVuSans-30\"/>\r\n      </g>\r\n     </g>\r\n    </g>\r\n    <g id=\"xtick_12\">\r\n     <g id=\"line2d_23\">\r\n      <path clip-path=\"url(#p57577808ee)\" d=\"M 334.284687 309.979219 \r\nL 334.284687 10.999219 \r\n\" style=\"fill:none;stroke:#b0b0b0;stroke-linecap:square;stroke-opacity:0.5;stroke-width:0.8;\"/>\r\n     </g>\r\n     <g id=\"line2d_24\">\r\n      <g>\r\n       <use style=\"stroke:#000000;stroke-width:0.8;\" x=\"334.284687\" xlink:href=\"#m9a7887738c\" y=\"309.979219\"/>\r\n      </g>\r\n     </g>\r\n     <g id=\"text_12\">\r\n      <!-- 2 -->\r\n      <g transform=\"translate(331.103437 324.577656)scale(0.1 -0.1)\">\r\n       <use xlink:href=\"#DejaVuSans-32\"/>\r\n      </g>\r\n     </g>\r\n    </g>\r\n    <g id=\"xtick_13\">\r\n     <g id=\"line2d_25\">\r\n      <path clip-path=\"url(#p57577808ee)\" d=\"M 361.464687 309.979219 \r\nL 361.464687 10.999219 \r\n\" style=\"fill:none;stroke:#b0b0b0;stroke-linecap:square;stroke-opacity:0.5;stroke-width:0.8;\"/>\r\n     </g>\r\n     <g id=\"line2d_26\">\r\n      <g>\r\n       <use style=\"stroke:#000000;stroke-width:0.8;\" x=\"361.464687\" xlink:href=\"#m9a7887738c\" y=\"309.979219\"/>\r\n      </g>\r\n     </g>\r\n     <g id=\"text_13\">\r\n      <!-- 4 -->\r\n      <g transform=\"translate(358.283437 324.577656)scale(0.1 -0.1)\">\r\n       <use xlink:href=\"#DejaVuSans-34\"/>\r\n      </g>\r\n     </g>\r\n    </g>\r\n    <g id=\"xtick_14\">\r\n     <g id=\"line2d_27\">\r\n      <path clip-path=\"url(#p57577808ee)\" d=\"M 388.644687 309.979219 \r\nL 388.644687 10.999219 \r\n\" style=\"fill:none;stroke:#b0b0b0;stroke-linecap:square;stroke-opacity:0.5;stroke-width:0.8;\"/>\r\n     </g>\r\n     <g id=\"line2d_28\">\r\n      <g>\r\n       <use style=\"stroke:#000000;stroke-width:0.8;\" x=\"388.644687\" xlink:href=\"#m9a7887738c\" y=\"309.979219\"/>\r\n      </g>\r\n     </g>\r\n     <g id=\"text_14\">\r\n      <!-- 6 -->\r\n      <g transform=\"translate(385.463437 324.577656)scale(0.1 -0.1)\">\r\n       <use xlink:href=\"#DejaVuSans-36\"/>\r\n      </g>\r\n     </g>\r\n    </g>\r\n    <g id=\"xtick_15\">\r\n     <g id=\"line2d_29\">\r\n      <path clip-path=\"url(#p57577808ee)\" d=\"M 415.824687 309.979219 \r\nL 415.824687 10.999219 \r\n\" style=\"fill:none;stroke:#b0b0b0;stroke-linecap:square;stroke-opacity:0.5;stroke-width:0.8;\"/>\r\n     </g>\r\n     <g id=\"line2d_30\">\r\n      <g>\r\n       <use style=\"stroke:#000000;stroke-width:0.8;\" x=\"415.824687\" xlink:href=\"#m9a7887738c\" y=\"309.979219\"/>\r\n      </g>\r\n     </g>\r\n     <g id=\"text_15\">\r\n      <!-- 8 -->\r\n      <g transform=\"translate(412.643437 324.577656)scale(0.1 -0.1)\">\r\n       <use xlink:href=\"#DejaVuSans-38\"/>\r\n      </g>\r\n     </g>\r\n    </g>\r\n    <g id=\"xtick_16\">\r\n     <g id=\"line2d_31\">\r\n      <path clip-path=\"url(#p57577808ee)\" d=\"M 443.004687 309.979219 \r\nL 443.004687 10.999219 \r\n\" style=\"fill:none;stroke:#b0b0b0;stroke-linecap:square;stroke-opacity:0.5;stroke-width:0.8;\"/>\r\n     </g>\r\n     <g id=\"line2d_32\">\r\n      <g>\r\n       <use style=\"stroke:#000000;stroke-width:0.8;\" x=\"443.004687\" xlink:href=\"#m9a7887738c\" y=\"309.979219\"/>\r\n      </g>\r\n     </g>\r\n     <g id=\"text_16\">\r\n      <!-- 10 -->\r\n      <g transform=\"translate(436.642187 324.577656)scale(0.1 -0.1)\">\r\n       <use xlink:href=\"#DejaVuSans-31\"/>\r\n       <use x=\"63.623047\" xlink:href=\"#DejaVuSans-30\"/>\r\n      </g>\r\n     </g>\r\n    </g>\r\n    <g id=\"xtick_17\">\r\n     <g id=\"line2d_33\">\r\n      <path clip-path=\"url(#p57577808ee)\" d=\"M 470.184687 309.979219 \r\nL 470.184687 10.999219 \r\n\" style=\"fill:none;stroke:#b0b0b0;stroke-linecap:square;stroke-opacity:0.5;stroke-width:0.8;\"/>\r\n     </g>\r\n     <g id=\"line2d_34\">\r\n      <g>\r\n       <use style=\"stroke:#000000;stroke-width:0.8;\" x=\"470.184687\" xlink:href=\"#m9a7887738c\" y=\"309.979219\"/>\r\n      </g>\r\n     </g>\r\n     <g id=\"text_17\">\r\n      <!-- 12 -->\r\n      <g transform=\"translate(463.822187 324.577656)scale(0.1 -0.1)\">\r\n       <use xlink:href=\"#DejaVuSans-31\"/>\r\n       <use x=\"63.623047\" xlink:href=\"#DejaVuSans-32\"/>\r\n      </g>\r\n     </g>\r\n    </g>\r\n    <g id=\"xtick_18\">\r\n     <g id=\"line2d_35\">\r\n      <path clip-path=\"url(#p57577808ee)\" d=\"M 497.364687 309.979219 \r\nL 497.364687 10.999219 \r\n\" style=\"fill:none;stroke:#b0b0b0;stroke-linecap:square;stroke-opacity:0.5;stroke-width:0.8;\"/>\r\n     </g>\r\n     <g id=\"line2d_36\">\r\n      <g>\r\n       <use style=\"stroke:#000000;stroke-width:0.8;\" x=\"497.364687\" xlink:href=\"#m9a7887738c\" y=\"309.979219\"/>\r\n      </g>\r\n     </g>\r\n     <g id=\"text_18\">\r\n      <!-- 14 -->\r\n      <g transform=\"translate(491.002187 324.577656)scale(0.1 -0.1)\">\r\n       <use xlink:href=\"#DejaVuSans-31\"/>\r\n       <use x=\"63.623047\" xlink:href=\"#DejaVuSans-34\"/>\r\n      </g>\r\n     </g>\r\n    </g>\r\n    <g id=\"xtick_19\">\r\n     <g id=\"line2d_37\">\r\n      <path clip-path=\"url(#p57577808ee)\" d=\"M 524.544687 309.979219 \r\nL 524.544687 10.999219 \r\n\" style=\"fill:none;stroke:#b0b0b0;stroke-linecap:square;stroke-opacity:0.5;stroke-width:0.8;\"/>\r\n     </g>\r\n     <g id=\"line2d_38\">\r\n      <g>\r\n       <use style=\"stroke:#000000;stroke-width:0.8;\" x=\"524.544687\" xlink:href=\"#m9a7887738c\" y=\"309.979219\"/>\r\n      </g>\r\n     </g>\r\n     <g id=\"text_19\">\r\n      <!-- 16 -->\r\n      <g transform=\"translate(518.182187 324.577656)scale(0.1 -0.1)\">\r\n       <use xlink:href=\"#DejaVuSans-31\"/>\r\n       <use x=\"63.623047\" xlink:href=\"#DejaVuSans-36\"/>\r\n      </g>\r\n     </g>\r\n    </g>\r\n    <g id=\"xtick_20\">\r\n     <g id=\"line2d_39\">\r\n      <path clip-path=\"url(#p57577808ee)\" d=\"M 551.724687 309.979219 \r\nL 551.724687 10.999219 \r\n\" style=\"fill:none;stroke:#b0b0b0;stroke-linecap:square;stroke-opacity:0.5;stroke-width:0.8;\"/>\r\n     </g>\r\n     <g id=\"line2d_40\">\r\n      <g>\r\n       <use style=\"stroke:#000000;stroke-width:0.8;\" x=\"551.724687\" xlink:href=\"#m9a7887738c\" y=\"309.979219\"/>\r\n      </g>\r\n     </g>\r\n     <g id=\"text_20\">\r\n      <!-- 18 -->\r\n      <g transform=\"translate(545.362188 324.577656)scale(0.1 -0.1)\">\r\n       <use xlink:href=\"#DejaVuSans-31\"/>\r\n       <use x=\"63.623047\" xlink:href=\"#DejaVuSans-38\"/>\r\n      </g>\r\n     </g>\r\n    </g>\r\n    <g id=\"xtick_21\">\r\n     <g id=\"line2d_41\">\r\n      <path clip-path=\"url(#p57577808ee)\" d=\"M 578.904687 309.979219 \r\nL 578.904687 10.999219 \r\n\" style=\"fill:none;stroke:#b0b0b0;stroke-linecap:square;stroke-opacity:0.5;stroke-width:0.8;\"/>\r\n     </g>\r\n     <g id=\"line2d_42\">\r\n      <g>\r\n       <use style=\"stroke:#000000;stroke-width:0.8;\" x=\"578.904687\" xlink:href=\"#m9a7887738c\" y=\"309.979219\"/>\r\n      </g>\r\n     </g>\r\n     <g id=\"text_21\">\r\n      <!-- 20 -->\r\n      <g transform=\"translate(572.542187 324.577656)scale(0.1 -0.1)\">\r\n       <use xlink:href=\"#DejaVuSans-32\"/>\r\n       <use x=\"63.623047\" xlink:href=\"#DejaVuSans-30\"/>\r\n      </g>\r\n     </g>\r\n    </g>\r\n    <g id=\"xtick_22\">\r\n     <g id=\"line2d_43\">\r\n      <path clip-path=\"url(#p57577808ee)\" d=\"M 48.894687 309.979219 \r\nL 48.894687 10.999219 \r\n\" style=\"fill:none;stroke:#b0b0b0;stroke-linecap:square;stroke-opacity:0.1;stroke-width:0.8;\"/>\r\n     </g>\r\n     <g id=\"line2d_44\">\r\n      <defs>\r\n       <path d=\"M 0 0 \r\nL 0 2 \r\n\" id=\"mb517d29e40\" style=\"stroke:#000000;stroke-width:0.6;\"/>\r\n      </defs>\r\n      <g>\r\n       <use style=\"stroke:#000000;stroke-width:0.6;\" x=\"48.894687\" xlink:href=\"#mb517d29e40\" y=\"309.979219\"/>\r\n      </g>\r\n     </g>\r\n    </g>\r\n    <g id=\"xtick_23\">\r\n     <g id=\"line2d_45\">\r\n      <path clip-path=\"url(#p57577808ee)\" d=\"M 76.074687 309.979219 \r\nL 76.074687 10.999219 \r\n\" style=\"fill:none;stroke:#b0b0b0;stroke-linecap:square;stroke-opacity:0.1;stroke-width:0.8;\"/>\r\n     </g>\r\n     <g id=\"line2d_46\">\r\n      <g>\r\n       <use style=\"stroke:#000000;stroke-width:0.6;\" x=\"76.074687\" xlink:href=\"#mb517d29e40\" y=\"309.979219\"/>\r\n      </g>\r\n     </g>\r\n    </g>\r\n    <g id=\"xtick_24\">\r\n     <g id=\"line2d_47\">\r\n      <path clip-path=\"url(#p57577808ee)\" d=\"M 103.254687 309.979219 \r\nL 103.254687 10.999219 \r\n\" style=\"fill:none;stroke:#b0b0b0;stroke-linecap:square;stroke-opacity:0.1;stroke-width:0.8;\"/>\r\n     </g>\r\n     <g id=\"line2d_48\">\r\n      <g>\r\n       <use style=\"stroke:#000000;stroke-width:0.6;\" x=\"103.254687\" xlink:href=\"#mb517d29e40\" y=\"309.979219\"/>\r\n      </g>\r\n     </g>\r\n    </g>\r\n    <g id=\"xtick_25\">\r\n     <g id=\"line2d_49\">\r\n      <path clip-path=\"url(#p57577808ee)\" d=\"M 130.434687 309.979219 \r\nL 130.434687 10.999219 \r\n\" style=\"fill:none;stroke:#b0b0b0;stroke-linecap:square;stroke-opacity:0.1;stroke-width:0.8;\"/>\r\n     </g>\r\n     <g id=\"line2d_50\">\r\n      <g>\r\n       <use style=\"stroke:#000000;stroke-width:0.6;\" x=\"130.434687\" xlink:href=\"#mb517d29e40\" y=\"309.979219\"/>\r\n      </g>\r\n     </g>\r\n    </g>\r\n    <g id=\"xtick_26\">\r\n     <g id=\"line2d_51\">\r\n      <path clip-path=\"url(#p57577808ee)\" d=\"M 157.614687 309.979219 \r\nL 157.614687 10.999219 \r\n\" style=\"fill:none;stroke:#b0b0b0;stroke-linecap:square;stroke-opacity:0.1;stroke-width:0.8;\"/>\r\n     </g>\r\n     <g id=\"line2d_52\">\r\n      <g>\r\n       <use style=\"stroke:#000000;stroke-width:0.6;\" x=\"157.614687\" xlink:href=\"#mb517d29e40\" y=\"309.979219\"/>\r\n      </g>\r\n     </g>\r\n    </g>\r\n    <g id=\"xtick_27\">\r\n     <g id=\"line2d_53\">\r\n      <path clip-path=\"url(#p57577808ee)\" d=\"M 184.794687 309.979219 \r\nL 184.794687 10.999219 \r\n\" style=\"fill:none;stroke:#b0b0b0;stroke-linecap:square;stroke-opacity:0.1;stroke-width:0.8;\"/>\r\n     </g>\r\n     <g id=\"line2d_54\">\r\n      <g>\r\n       <use style=\"stroke:#000000;stroke-width:0.6;\" x=\"184.794687\" xlink:href=\"#mb517d29e40\" y=\"309.979219\"/>\r\n      </g>\r\n     </g>\r\n    </g>\r\n    <g id=\"xtick_28\">\r\n     <g id=\"line2d_55\">\r\n      <path clip-path=\"url(#p57577808ee)\" d=\"M 211.974687 309.979219 \r\nL 211.974687 10.999219 \r\n\" style=\"fill:none;stroke:#b0b0b0;stroke-linecap:square;stroke-opacity:0.1;stroke-width:0.8;\"/>\r\n     </g>\r\n     <g id=\"line2d_56\">\r\n      <g>\r\n       <use style=\"stroke:#000000;stroke-width:0.6;\" x=\"211.974687\" xlink:href=\"#mb517d29e40\" y=\"309.979219\"/>\r\n      </g>\r\n     </g>\r\n    </g>\r\n    <g id=\"xtick_29\">\r\n     <g id=\"line2d_57\">\r\n      <path clip-path=\"url(#p57577808ee)\" d=\"M 239.154687 309.979219 \r\nL 239.154687 10.999219 \r\n\" style=\"fill:none;stroke:#b0b0b0;stroke-linecap:square;stroke-opacity:0.1;stroke-width:0.8;\"/>\r\n     </g>\r\n     <g id=\"line2d_58\">\r\n      <g>\r\n       <use style=\"stroke:#000000;stroke-width:0.6;\" x=\"239.154687\" xlink:href=\"#mb517d29e40\" y=\"309.979219\"/>\r\n      </g>\r\n     </g>\r\n    </g>\r\n    <g id=\"xtick_30\">\r\n     <g id=\"line2d_59\">\r\n      <path clip-path=\"url(#p57577808ee)\" d=\"M 266.334687 309.979219 \r\nL 266.334687 10.999219 \r\n\" style=\"fill:none;stroke:#b0b0b0;stroke-linecap:square;stroke-opacity:0.1;stroke-width:0.8;\"/>\r\n     </g>\r\n     <g id=\"line2d_60\">\r\n      <g>\r\n       <use style=\"stroke:#000000;stroke-width:0.6;\" x=\"266.334687\" xlink:href=\"#mb517d29e40\" y=\"309.979219\"/>\r\n      </g>\r\n     </g>\r\n    </g>\r\n    <g id=\"xtick_31\">\r\n     <g id=\"line2d_61\">\r\n      <path clip-path=\"url(#p57577808ee)\" d=\"M 293.514687 309.979219 \r\nL 293.514687 10.999219 \r\n\" style=\"fill:none;stroke:#b0b0b0;stroke-linecap:square;stroke-opacity:0.1;stroke-width:0.8;\"/>\r\n     </g>\r\n     <g id=\"line2d_62\">\r\n      <g>\r\n       <use style=\"stroke:#000000;stroke-width:0.6;\" x=\"293.514687\" xlink:href=\"#mb517d29e40\" y=\"309.979219\"/>\r\n      </g>\r\n     </g>\r\n    </g>\r\n    <g id=\"xtick_32\">\r\n     <g id=\"line2d_63\">\r\n      <path clip-path=\"url(#p57577808ee)\" d=\"M 320.694687 309.979219 \r\nL 320.694687 10.999219 \r\n\" style=\"fill:none;stroke:#b0b0b0;stroke-linecap:square;stroke-opacity:0.1;stroke-width:0.8;\"/>\r\n     </g>\r\n     <g id=\"line2d_64\">\r\n      <g>\r\n       <use style=\"stroke:#000000;stroke-width:0.6;\" x=\"320.694687\" xlink:href=\"#mb517d29e40\" y=\"309.979219\"/>\r\n      </g>\r\n     </g>\r\n    </g>\r\n    <g id=\"xtick_33\">\r\n     <g id=\"line2d_65\">\r\n      <path clip-path=\"url(#p57577808ee)\" d=\"M 347.874687 309.979219 \r\nL 347.874687 10.999219 \r\n\" style=\"fill:none;stroke:#b0b0b0;stroke-linecap:square;stroke-opacity:0.1;stroke-width:0.8;\"/>\r\n     </g>\r\n     <g id=\"line2d_66\">\r\n      <g>\r\n       <use style=\"stroke:#000000;stroke-width:0.6;\" x=\"347.874687\" xlink:href=\"#mb517d29e40\" y=\"309.979219\"/>\r\n      </g>\r\n     </g>\r\n    </g>\r\n    <g id=\"xtick_34\">\r\n     <g id=\"line2d_67\">\r\n      <path clip-path=\"url(#p57577808ee)\" d=\"M 375.054687 309.979219 \r\nL 375.054687 10.999219 \r\n\" style=\"fill:none;stroke:#b0b0b0;stroke-linecap:square;stroke-opacity:0.1;stroke-width:0.8;\"/>\r\n     </g>\r\n     <g id=\"line2d_68\">\r\n      <g>\r\n       <use style=\"stroke:#000000;stroke-width:0.6;\" x=\"375.054687\" xlink:href=\"#mb517d29e40\" y=\"309.979219\"/>\r\n      </g>\r\n     </g>\r\n    </g>\r\n    <g id=\"xtick_35\">\r\n     <g id=\"line2d_69\">\r\n      <path clip-path=\"url(#p57577808ee)\" d=\"M 402.234687 309.979219 \r\nL 402.234687 10.999219 \r\n\" style=\"fill:none;stroke:#b0b0b0;stroke-linecap:square;stroke-opacity:0.1;stroke-width:0.8;\"/>\r\n     </g>\r\n     <g id=\"line2d_70\">\r\n      <g>\r\n       <use style=\"stroke:#000000;stroke-width:0.6;\" x=\"402.234687\" xlink:href=\"#mb517d29e40\" y=\"309.979219\"/>\r\n      </g>\r\n     </g>\r\n    </g>\r\n    <g id=\"xtick_36\">\r\n     <g id=\"line2d_71\">\r\n      <path clip-path=\"url(#p57577808ee)\" d=\"M 429.414687 309.979219 \r\nL 429.414687 10.999219 \r\n\" style=\"fill:none;stroke:#b0b0b0;stroke-linecap:square;stroke-opacity:0.1;stroke-width:0.8;\"/>\r\n     </g>\r\n     <g id=\"line2d_72\">\r\n      <g>\r\n       <use style=\"stroke:#000000;stroke-width:0.6;\" x=\"429.414687\" xlink:href=\"#mb517d29e40\" y=\"309.979219\"/>\r\n      </g>\r\n     </g>\r\n    </g>\r\n    <g id=\"xtick_37\">\r\n     <g id=\"line2d_73\">\r\n      <path clip-path=\"url(#p57577808ee)\" d=\"M 456.594687 309.979219 \r\nL 456.594687 10.999219 \r\n\" style=\"fill:none;stroke:#b0b0b0;stroke-linecap:square;stroke-opacity:0.1;stroke-width:0.8;\"/>\r\n     </g>\r\n     <g id=\"line2d_74\">\r\n      <g>\r\n       <use style=\"stroke:#000000;stroke-width:0.6;\" x=\"456.594687\" xlink:href=\"#mb517d29e40\" y=\"309.979219\"/>\r\n      </g>\r\n     </g>\r\n    </g>\r\n    <g id=\"xtick_38\">\r\n     <g id=\"line2d_75\">\r\n      <path clip-path=\"url(#p57577808ee)\" d=\"M 483.774687 309.979219 \r\nL 483.774687 10.999219 \r\n\" style=\"fill:none;stroke:#b0b0b0;stroke-linecap:square;stroke-opacity:0.1;stroke-width:0.8;\"/>\r\n     </g>\r\n     <g id=\"line2d_76\">\r\n      <g>\r\n       <use style=\"stroke:#000000;stroke-width:0.6;\" x=\"483.774687\" xlink:href=\"#mb517d29e40\" y=\"309.979219\"/>\r\n      </g>\r\n     </g>\r\n    </g>\r\n    <g id=\"xtick_39\">\r\n     <g id=\"line2d_77\">\r\n      <path clip-path=\"url(#p57577808ee)\" d=\"M 510.954687 309.979219 \r\nL 510.954687 10.999219 \r\n\" style=\"fill:none;stroke:#b0b0b0;stroke-linecap:square;stroke-opacity:0.1;stroke-width:0.8;\"/>\r\n     </g>\r\n     <g id=\"line2d_78\">\r\n      <g>\r\n       <use style=\"stroke:#000000;stroke-width:0.6;\" x=\"510.954687\" xlink:href=\"#mb517d29e40\" y=\"309.979219\"/>\r\n      </g>\r\n     </g>\r\n    </g>\r\n    <g id=\"xtick_40\">\r\n     <g id=\"line2d_79\">\r\n      <path clip-path=\"url(#p57577808ee)\" d=\"M 538.134687 309.979219 \r\nL 538.134687 10.999219 \r\n\" style=\"fill:none;stroke:#b0b0b0;stroke-linecap:square;stroke-opacity:0.1;stroke-width:0.8;\"/>\r\n     </g>\r\n     <g id=\"line2d_80\">\r\n      <g>\r\n       <use style=\"stroke:#000000;stroke-width:0.6;\" x=\"538.134687\" xlink:href=\"#mb517d29e40\" y=\"309.979219\"/>\r\n      </g>\r\n     </g>\r\n    </g>\r\n    <g id=\"xtick_41\">\r\n     <g id=\"line2d_81\">\r\n      <path clip-path=\"url(#p57577808ee)\" d=\"M 565.314687 309.979219 \r\nL 565.314687 10.999219 \r\n\" style=\"fill:none;stroke:#b0b0b0;stroke-linecap:square;stroke-opacity:0.1;stroke-width:0.8;\"/>\r\n     </g>\r\n     <g id=\"line2d_82\">\r\n      <g>\r\n       <use style=\"stroke:#000000;stroke-width:0.6;\" x=\"565.314687\" xlink:href=\"#mb517d29e40\" y=\"309.979219\"/>\r\n      </g>\r\n     </g>\r\n    </g>\r\n   </g>\r\n   <g id=\"matplotlib.axis_2\">\r\n    <g id=\"ytick_1\">\r\n     <g id=\"line2d_83\">\r\n      <path clip-path=\"url(#p57577808ee)\" d=\"M 35.304688 309.979219 \r\nL 578.904687 309.979219 \r\n\" style=\"fill:none;stroke:#b0b0b0;stroke-linecap:square;stroke-opacity:0.5;stroke-width:0.8;\"/>\r\n     </g>\r\n     <g id=\"line2d_84\">\r\n      <defs>\r\n       <path d=\"M 0 0 \r\nL -3.5 0 \r\n\" id=\"m4a62e29e6c\" style=\"stroke:#000000;stroke-width:0.8;\"/>\r\n      </defs>\r\n      <g>\r\n       <use style=\"stroke:#000000;stroke-width:0.8;\" x=\"35.304688\" xlink:href=\"#m4a62e29e6c\" y=\"309.979219\"/>\r\n      </g>\r\n     </g>\r\n     <g id=\"text_22\">\r\n      <!-- −10 -->\r\n      <g transform=\"translate(7.2 313.778437)scale(0.1 -0.1)\">\r\n       <use xlink:href=\"#DejaVuSans-2212\"/>\r\n       <use x=\"83.789062\" xlink:href=\"#DejaVuSans-31\"/>\r\n       <use x=\"147.412109\" xlink:href=\"#DejaVuSans-30\"/>\r\n      </g>\r\n     </g>\r\n    </g>\r\n    <g id=\"ytick_2\">\r\n     <g id=\"line2d_85\">\r\n      <path clip-path=\"url(#p57577808ee)\" d=\"M 35.304688 282.799219 \r\nL 578.904687 282.799219 \r\n\" style=\"fill:none;stroke:#b0b0b0;stroke-linecap:square;stroke-opacity:0.5;stroke-width:0.8;\"/>\r\n     </g>\r\n     <g id=\"line2d_86\">\r\n      <g>\r\n       <use style=\"stroke:#000000;stroke-width:0.8;\" x=\"35.304688\" xlink:href=\"#m4a62e29e6c\" y=\"282.799219\"/>\r\n      </g>\r\n     </g>\r\n     <g id=\"text_23\">\r\n      <!-- −8 -->\r\n      <g transform=\"translate(13.5625 286.598437)scale(0.1 -0.1)\">\r\n       <use xlink:href=\"#DejaVuSans-2212\"/>\r\n       <use x=\"83.789062\" xlink:href=\"#DejaVuSans-38\"/>\r\n      </g>\r\n     </g>\r\n    </g>\r\n    <g id=\"ytick_3\">\r\n     <g id=\"line2d_87\">\r\n      <path clip-path=\"url(#p57577808ee)\" d=\"M 35.304688 255.619219 \r\nL 578.904687 255.619219 \r\n\" style=\"fill:none;stroke:#b0b0b0;stroke-linecap:square;stroke-opacity:0.5;stroke-width:0.8;\"/>\r\n     </g>\r\n     <g id=\"line2d_88\">\r\n      <g>\r\n       <use style=\"stroke:#000000;stroke-width:0.8;\" x=\"35.304688\" xlink:href=\"#m4a62e29e6c\" y=\"255.619219\"/>\r\n      </g>\r\n     </g>\r\n     <g id=\"text_24\">\r\n      <!-- −6 -->\r\n      <g transform=\"translate(13.5625 259.418437)scale(0.1 -0.1)\">\r\n       <use xlink:href=\"#DejaVuSans-2212\"/>\r\n       <use x=\"83.789062\" xlink:href=\"#DejaVuSans-36\"/>\r\n      </g>\r\n     </g>\r\n    </g>\r\n    <g id=\"ytick_4\">\r\n     <g id=\"line2d_89\">\r\n      <path clip-path=\"url(#p57577808ee)\" d=\"M 35.304688 228.439219 \r\nL 578.904687 228.439219 \r\n\" style=\"fill:none;stroke:#b0b0b0;stroke-linecap:square;stroke-opacity:0.5;stroke-width:0.8;\"/>\r\n     </g>\r\n     <g id=\"line2d_90\">\r\n      <g>\r\n       <use style=\"stroke:#000000;stroke-width:0.8;\" x=\"35.304688\" xlink:href=\"#m4a62e29e6c\" y=\"228.439219\"/>\r\n      </g>\r\n     </g>\r\n     <g id=\"text_25\">\r\n      <!-- −4 -->\r\n      <g transform=\"translate(13.5625 232.238438)scale(0.1 -0.1)\">\r\n       <use xlink:href=\"#DejaVuSans-2212\"/>\r\n       <use x=\"83.789062\" xlink:href=\"#DejaVuSans-34\"/>\r\n      </g>\r\n     </g>\r\n    </g>\r\n    <g id=\"ytick_5\">\r\n     <g id=\"line2d_91\">\r\n      <path clip-path=\"url(#p57577808ee)\" d=\"M 35.304688 201.259219 \r\nL 578.904687 201.259219 \r\n\" style=\"fill:none;stroke:#b0b0b0;stroke-linecap:square;stroke-opacity:0.5;stroke-width:0.8;\"/>\r\n     </g>\r\n     <g id=\"line2d_92\">\r\n      <g>\r\n       <use style=\"stroke:#000000;stroke-width:0.8;\" x=\"35.304688\" xlink:href=\"#m4a62e29e6c\" y=\"201.259219\"/>\r\n      </g>\r\n     </g>\r\n     <g id=\"text_26\">\r\n      <!-- −2 -->\r\n      <g transform=\"translate(13.5625 205.058437)scale(0.1 -0.1)\">\r\n       <use xlink:href=\"#DejaVuSans-2212\"/>\r\n       <use x=\"83.789062\" xlink:href=\"#DejaVuSans-32\"/>\r\n      </g>\r\n     </g>\r\n    </g>\r\n    <g id=\"ytick_6\">\r\n     <g id=\"line2d_93\">\r\n      <path clip-path=\"url(#p57577808ee)\" d=\"M 35.304688 174.079219 \r\nL 578.904687 174.079219 \r\n\" style=\"fill:none;stroke:#b0b0b0;stroke-linecap:square;stroke-opacity:0.5;stroke-width:0.8;\"/>\r\n     </g>\r\n     <g id=\"line2d_94\">\r\n      <g>\r\n       <use style=\"stroke:#000000;stroke-width:0.8;\" x=\"35.304688\" xlink:href=\"#m4a62e29e6c\" y=\"174.079219\"/>\r\n      </g>\r\n     </g>\r\n     <g id=\"text_27\">\r\n      <!-- 0 -->\r\n      <g transform=\"translate(21.942187 177.878437)scale(0.1 -0.1)\">\r\n       <use xlink:href=\"#DejaVuSans-30\"/>\r\n      </g>\r\n     </g>\r\n    </g>\r\n    <g id=\"ytick_7\">\r\n     <g id=\"line2d_95\">\r\n      <path clip-path=\"url(#p57577808ee)\" d=\"M 35.304688 146.899219 \r\nL 578.904687 146.899219 \r\n\" style=\"fill:none;stroke:#b0b0b0;stroke-linecap:square;stroke-opacity:0.5;stroke-width:0.8;\"/>\r\n     </g>\r\n     <g id=\"line2d_96\">\r\n      <g>\r\n       <use style=\"stroke:#000000;stroke-width:0.8;\" x=\"35.304688\" xlink:href=\"#m4a62e29e6c\" y=\"146.899219\"/>\r\n      </g>\r\n     </g>\r\n     <g id=\"text_28\">\r\n      <!-- 2 -->\r\n      <g transform=\"translate(21.942187 150.698437)scale(0.1 -0.1)\">\r\n       <use xlink:href=\"#DejaVuSans-32\"/>\r\n      </g>\r\n     </g>\r\n    </g>\r\n    <g id=\"ytick_8\">\r\n     <g id=\"line2d_97\">\r\n      <path clip-path=\"url(#p57577808ee)\" d=\"M 35.304688 119.719219 \r\nL 578.904687 119.719219 \r\n\" style=\"fill:none;stroke:#b0b0b0;stroke-linecap:square;stroke-opacity:0.5;stroke-width:0.8;\"/>\r\n     </g>\r\n     <g id=\"line2d_98\">\r\n      <g>\r\n       <use style=\"stroke:#000000;stroke-width:0.8;\" x=\"35.304688\" xlink:href=\"#m4a62e29e6c\" y=\"119.719219\"/>\r\n      </g>\r\n     </g>\r\n     <g id=\"text_29\">\r\n      <!-- 4 -->\r\n      <g transform=\"translate(21.942187 123.518437)scale(0.1 -0.1)\">\r\n       <use xlink:href=\"#DejaVuSans-34\"/>\r\n      </g>\r\n     </g>\r\n    </g>\r\n    <g id=\"ytick_9\">\r\n     <g id=\"line2d_99\">\r\n      <path clip-path=\"url(#p57577808ee)\" d=\"M 35.304688 92.539219 \r\nL 578.904687 92.539219 \r\n\" style=\"fill:none;stroke:#b0b0b0;stroke-linecap:square;stroke-opacity:0.5;stroke-width:0.8;\"/>\r\n     </g>\r\n     <g id=\"line2d_100\">\r\n      <g>\r\n       <use style=\"stroke:#000000;stroke-width:0.8;\" x=\"35.304688\" xlink:href=\"#m4a62e29e6c\" y=\"92.539219\"/>\r\n      </g>\r\n     </g>\r\n     <g id=\"text_30\">\r\n      <!-- 6 -->\r\n      <g transform=\"translate(21.942187 96.338437)scale(0.1 -0.1)\">\r\n       <use xlink:href=\"#DejaVuSans-36\"/>\r\n      </g>\r\n     </g>\r\n    </g>\r\n    <g id=\"ytick_10\">\r\n     <g id=\"line2d_101\">\r\n      <path clip-path=\"url(#p57577808ee)\" d=\"M 35.304688 65.359219 \r\nL 578.904687 65.359219 \r\n\" style=\"fill:none;stroke:#b0b0b0;stroke-linecap:square;stroke-opacity:0.5;stroke-width:0.8;\"/>\r\n     </g>\r\n     <g id=\"line2d_102\">\r\n      <g>\r\n       <use style=\"stroke:#000000;stroke-width:0.8;\" x=\"35.304688\" xlink:href=\"#m4a62e29e6c\" y=\"65.359219\"/>\r\n      </g>\r\n     </g>\r\n     <g id=\"text_31\">\r\n      <!-- 8 -->\r\n      <g transform=\"translate(21.942187 69.158437)scale(0.1 -0.1)\">\r\n       <use xlink:href=\"#DejaVuSans-38\"/>\r\n      </g>\r\n     </g>\r\n    </g>\r\n    <g id=\"ytick_11\">\r\n     <g id=\"line2d_103\">\r\n      <path clip-path=\"url(#p57577808ee)\" d=\"M 35.304688 38.179219 \r\nL 578.904687 38.179219 \r\n\" style=\"fill:none;stroke:#b0b0b0;stroke-linecap:square;stroke-opacity:0.5;stroke-width:0.8;\"/>\r\n     </g>\r\n     <g id=\"line2d_104\">\r\n      <g>\r\n       <use style=\"stroke:#000000;stroke-width:0.8;\" x=\"35.304688\" xlink:href=\"#m4a62e29e6c\" y=\"38.179219\"/>\r\n      </g>\r\n     </g>\r\n     <g id=\"text_32\">\r\n      <!-- 10 -->\r\n      <g transform=\"translate(15.579687 41.978438)scale(0.1 -0.1)\">\r\n       <use xlink:href=\"#DejaVuSans-31\"/>\r\n       <use x=\"63.623047\" xlink:href=\"#DejaVuSans-30\"/>\r\n      </g>\r\n     </g>\r\n    </g>\r\n    <g id=\"ytick_12\">\r\n     <g id=\"line2d_105\">\r\n      <path clip-path=\"url(#p57577808ee)\" d=\"M 35.304688 10.999219 \r\nL 578.904687 10.999219 \r\n\" style=\"fill:none;stroke:#b0b0b0;stroke-linecap:square;stroke-opacity:0.5;stroke-width:0.8;\"/>\r\n     </g>\r\n     <g id=\"line2d_106\">\r\n      <g>\r\n       <use style=\"stroke:#000000;stroke-width:0.8;\" x=\"35.304688\" xlink:href=\"#m4a62e29e6c\" y=\"10.999219\"/>\r\n      </g>\r\n     </g>\r\n     <g id=\"text_33\">\r\n      <!-- 12 -->\r\n      <g transform=\"translate(15.579687 14.798437)scale(0.1 -0.1)\">\r\n       <use xlink:href=\"#DejaVuSans-31\"/>\r\n       <use x=\"63.623047\" xlink:href=\"#DejaVuSans-32\"/>\r\n      </g>\r\n     </g>\r\n    </g>\r\n    <g id=\"ytick_13\">\r\n     <g id=\"line2d_107\">\r\n      <path clip-path=\"url(#p57577808ee)\" d=\"M 35.304688 296.389219 \r\nL 578.904687 296.389219 \r\n\" style=\"fill:none;stroke:#b0b0b0;stroke-linecap:square;stroke-opacity:0.1;stroke-width:0.8;\"/>\r\n     </g>\r\n     <g id=\"line2d_108\">\r\n      <defs>\r\n       <path d=\"M 0 0 \r\nL -2 0 \r\n\" id=\"m10007b9d34\" style=\"stroke:#000000;stroke-width:0.6;\"/>\r\n      </defs>\r\n      <g>\r\n       <use style=\"stroke:#000000;stroke-width:0.6;\" x=\"35.304688\" xlink:href=\"#m10007b9d34\" y=\"296.389219\"/>\r\n      </g>\r\n     </g>\r\n    </g>\r\n    <g id=\"ytick_14\">\r\n     <g id=\"line2d_109\">\r\n      <path clip-path=\"url(#p57577808ee)\" d=\"M 35.304688 269.209219 \r\nL 578.904687 269.209219 \r\n\" style=\"fill:none;stroke:#b0b0b0;stroke-linecap:square;stroke-opacity:0.1;stroke-width:0.8;\"/>\r\n     </g>\r\n     <g id=\"line2d_110\">\r\n      <g>\r\n       <use style=\"stroke:#000000;stroke-width:0.6;\" x=\"35.304688\" xlink:href=\"#m10007b9d34\" y=\"269.209219\"/>\r\n      </g>\r\n     </g>\r\n    </g>\r\n    <g id=\"ytick_15\">\r\n     <g id=\"line2d_111\">\r\n      <path clip-path=\"url(#p57577808ee)\" d=\"M 35.304688 242.029219 \r\nL 578.904687 242.029219 \r\n\" style=\"fill:none;stroke:#b0b0b0;stroke-linecap:square;stroke-opacity:0.1;stroke-width:0.8;\"/>\r\n     </g>\r\n     <g id=\"line2d_112\">\r\n      <g>\r\n       <use style=\"stroke:#000000;stroke-width:0.6;\" x=\"35.304688\" xlink:href=\"#m10007b9d34\" y=\"242.029219\"/>\r\n      </g>\r\n     </g>\r\n    </g>\r\n    <g id=\"ytick_16\">\r\n     <g id=\"line2d_113\">\r\n      <path clip-path=\"url(#p57577808ee)\" d=\"M 35.304688 214.849219 \r\nL 578.904687 214.849219 \r\n\" style=\"fill:none;stroke:#b0b0b0;stroke-linecap:square;stroke-opacity:0.1;stroke-width:0.8;\"/>\r\n     </g>\r\n     <g id=\"line2d_114\">\r\n      <g>\r\n       <use style=\"stroke:#000000;stroke-width:0.6;\" x=\"35.304688\" xlink:href=\"#m10007b9d34\" y=\"214.849219\"/>\r\n      </g>\r\n     </g>\r\n    </g>\r\n    <g id=\"ytick_17\">\r\n     <g id=\"line2d_115\">\r\n      <path clip-path=\"url(#p57577808ee)\" d=\"M 35.304688 187.669219 \r\nL 578.904687 187.669219 \r\n\" style=\"fill:none;stroke:#b0b0b0;stroke-linecap:square;stroke-opacity:0.1;stroke-width:0.8;\"/>\r\n     </g>\r\n     <g id=\"line2d_116\">\r\n      <g>\r\n       <use style=\"stroke:#000000;stroke-width:0.6;\" x=\"35.304688\" xlink:href=\"#m10007b9d34\" y=\"187.669219\"/>\r\n      </g>\r\n     </g>\r\n    </g>\r\n    <g id=\"ytick_18\">\r\n     <g id=\"line2d_117\">\r\n      <path clip-path=\"url(#p57577808ee)\" d=\"M 35.304688 160.489219 \r\nL 578.904687 160.489219 \r\n\" style=\"fill:none;stroke:#b0b0b0;stroke-linecap:square;stroke-opacity:0.1;stroke-width:0.8;\"/>\r\n     </g>\r\n     <g id=\"line2d_118\">\r\n      <g>\r\n       <use style=\"stroke:#000000;stroke-width:0.6;\" x=\"35.304688\" xlink:href=\"#m10007b9d34\" y=\"160.489219\"/>\r\n      </g>\r\n     </g>\r\n    </g>\r\n    <g id=\"ytick_19\">\r\n     <g id=\"line2d_119\">\r\n      <path clip-path=\"url(#p57577808ee)\" d=\"M 35.304688 133.309219 \r\nL 578.904687 133.309219 \r\n\" style=\"fill:none;stroke:#b0b0b0;stroke-linecap:square;stroke-opacity:0.1;stroke-width:0.8;\"/>\r\n     </g>\r\n     <g id=\"line2d_120\">\r\n      <g>\r\n       <use style=\"stroke:#000000;stroke-width:0.6;\" x=\"35.304688\" xlink:href=\"#m10007b9d34\" y=\"133.309219\"/>\r\n      </g>\r\n     </g>\r\n    </g>\r\n    <g id=\"ytick_20\">\r\n     <g id=\"line2d_121\">\r\n      <path clip-path=\"url(#p57577808ee)\" d=\"M 35.304688 106.129219 \r\nL 578.904687 106.129219 \r\n\" style=\"fill:none;stroke:#b0b0b0;stroke-linecap:square;stroke-opacity:0.1;stroke-width:0.8;\"/>\r\n     </g>\r\n     <g id=\"line2d_122\">\r\n      <g>\r\n       <use style=\"stroke:#000000;stroke-width:0.6;\" x=\"35.304688\" xlink:href=\"#m10007b9d34\" y=\"106.129219\"/>\r\n      </g>\r\n     </g>\r\n    </g>\r\n    <g id=\"ytick_21\">\r\n     <g id=\"line2d_123\">\r\n      <path clip-path=\"url(#p57577808ee)\" d=\"M 35.304688 78.949219 \r\nL 578.904687 78.949219 \r\n\" style=\"fill:none;stroke:#b0b0b0;stroke-linecap:square;stroke-opacity:0.1;stroke-width:0.8;\"/>\r\n     </g>\r\n     <g id=\"line2d_124\">\r\n      <g>\r\n       <use style=\"stroke:#000000;stroke-width:0.6;\" x=\"35.304688\" xlink:href=\"#m10007b9d34\" y=\"78.949219\"/>\r\n      </g>\r\n     </g>\r\n    </g>\r\n    <g id=\"ytick_22\">\r\n     <g id=\"line2d_125\">\r\n      <path clip-path=\"url(#p57577808ee)\" d=\"M 35.304688 51.769219 \r\nL 578.904687 51.769219 \r\n\" style=\"fill:none;stroke:#b0b0b0;stroke-linecap:square;stroke-opacity:0.1;stroke-width:0.8;\"/>\r\n     </g>\r\n     <g id=\"line2d_126\">\r\n      <g>\r\n       <use style=\"stroke:#000000;stroke-width:0.6;\" x=\"35.304688\" xlink:href=\"#m10007b9d34\" y=\"51.769219\"/>\r\n      </g>\r\n     </g>\r\n    </g>\r\n    <g id=\"ytick_23\">\r\n     <g id=\"line2d_127\">\r\n      <path clip-path=\"url(#p57577808ee)\" d=\"M 35.304688 24.589219 \r\nL 578.904687 24.589219 \r\n\" style=\"fill:none;stroke:#b0b0b0;stroke-linecap:square;stroke-opacity:0.1;stroke-width:0.8;\"/>\r\n     </g>\r\n     <g id=\"line2d_128\">\r\n      <g>\r\n       <use style=\"stroke:#000000;stroke-width:0.6;\" x=\"35.304688\" xlink:href=\"#m10007b9d34\" y=\"24.589219\"/>\r\n      </g>\r\n     </g>\r\n    </g>\r\n   </g>\r\n   <g id=\"line2d_129\">\r\n    <path clip-path=\"url(#p57577808ee)\" d=\"M 103.254687 174.079219 \r\nL 144.024687 174.079219 \r\nM 225.564687 174.079219 \r\nL 388.644687 174.079219 \r\nM 470.184687 174.079219 \r\nL 524.544687 174.079219 \r\nL 531.339687 119.719219 \r\nL 279.924687 65.359219 \r\nL 88.305687 119.719219 \r\nL 89.664687 160.489219 \r\nL 103.254687 174.079219 \r\nL 225.564687 174.079219 \r\nL 225.448624 171.005077 \r\nL 225.101094 167.948437 \r\nL 224.524077 164.926704 \r\nL 223.720857 161.957081 \r\nL 222.696008 159.056477 \r\nL 221.455366 156.241406 \r\nL 220.005993 153.527895 \r\nL 218.356141 150.931395 \r\nL 216.515205 148.466689 \r\nL 214.493666 146.14781 \r\nL 212.303033 143.987961 \r\nL 209.95578 141.999438 \r\nL 207.46527 140.193564 \r\nL 204.845683 138.580621 \r\nL 202.111935 137.169791 \r\nL 199.279589 135.969108 \r\nL 196.364773 134.985408 \r\nL 193.384081 134.224292 \r\nL 190.354485 133.690092 \r\nL 187.293234 133.385851 \r\nL 184.217758 133.313301 \r\nL 181.145566 133.472855 \r\nL 178.09415 133.863604 \r\nL 175.080885 134.483323 \r\nL 172.122926 135.328485 \r\nL 169.237114 136.394277 \r\nL 166.439881 137.674632 \r\nL 163.747152 139.162258 \r\nL 161.174259 140.848687 \r\nL 158.735851 142.724316 \r\nL 156.44581 144.778467 \r\nL 154.317176 146.999444 \r\nL 152.362068 149.374602 \r\nL 150.591618 151.890417 \r\nL 149.015905 154.532566 \r\nL 147.643902 157.286005 \r\nL 146.483419 160.135058 \r\nL 145.541065 163.063502 \r\nL 144.822204 166.054666 \r\nL 144.330929 169.091518 \r\nL 144.070038 172.156768 \r\nL 144.041016 175.232963 \r\nL 144.244027 178.30259 \r\nL 144.677917 181.34817 \r\nL 145.340215 184.352364 \r\nL 146.22715 187.298068 \r\nL 147.333672 190.168508 \r\nL 148.653481 192.947343 \r\nL 150.179063 195.618751 \r\nL 151.901732 198.167522 \r\nL 153.811679 200.579145 \r\nL 155.89803 202.839888 \r\nL 158.148907 204.93688 \r\nL 160.551493 206.858182 \r\nL 163.09211 208.592854 \r\nL 165.756292 210.13102 \r\nL 168.52887 211.463923 \r\nL 171.394059 212.583973 \r\nL 174.335546 213.484793 \r\nL 177.336583 214.161254 \r\nL 180.380082 214.609506 \r\nL 183.448717 214.826995 \r\nL 186.525015 214.812484 \r\nL 189.591462 214.566054 \r\nL 192.630597 214.08911 \r\nL 195.625119 213.384367 \r\nL 198.557976 212.455837 \r\nL 201.412471 211.308806 \r\nL 204.172351 209.949806 \r\nL 206.821904 208.386574 \r\nL 209.346042 206.628011 \r\nL 211.730396 204.684129 \r\nL 213.961389 202.565995 \r\nL 216.026319 200.28567 \r\nL 217.91343 197.856136 \r\nL 219.611977 195.291226 \r\nL 221.112288 192.605545 \r\nL 222.405823 189.814382 \r\nL 223.485216 186.93363 \r\nL 224.344322 183.979691 \r\nL 224.978248 180.969382 \r\nL 225.383387 177.919844 \r\nL 225.55743 174.848439 \r\nL 225.564687 174.079219 \r\nM 470.184687 174.079219 \r\nL 470.068624 171.005077 \r\nL 469.721094 167.948437 \r\nL 469.144077 164.926704 \r\nL 468.340857 161.957081 \r\nL 467.316008 159.056477 \r\nL 466.075366 156.241406 \r\nL 464.625993 153.527895 \r\nL 462.976141 150.931395 \r\nL 461.135205 148.466689 \r\nL 459.113666 146.14781 \r\nL 456.923033 143.987961 \r\nL 454.57578 141.999438 \r\nL 452.08527 140.193564 \r\nL 449.465683 138.580621 \r\nL 446.731935 137.169791 \r\nL 443.899589 135.969108 \r\nL 440.984773 134.985408 \r\nL 438.004081 134.224292 \r\nL 434.974485 133.690092 \r\nL 431.913234 133.385851 \r\nL 428.837758 133.313301 \r\nL 425.765566 133.472855 \r\nL 422.71415 133.863604 \r\nL 419.700885 134.483323 \r\nL 416.742926 135.328485 \r\nL 413.857114 136.394277 \r\nL 411.059881 137.674632 \r\nL 408.367152 139.162258 \r\nL 405.794259 140.848687 \r\nL 403.355851 142.724316 \r\nL 401.06581 144.778467 \r\nL 398.937176 146.999444 \r\nL 396.982068 149.374602 \r\nL 395.211618 151.890417 \r\nL 393.635905 154.532566 \r\nL 392.263902 157.286005 \r\nL 391.103419 160.135058 \r\nL 390.161065 163.063502 \r\nL 389.442204 166.054666 \r\nL 388.950929 169.091518 \r\nL 388.690038 172.156768 \r\nL 388.661016 175.232963 \r\nL 388.864027 178.30259 \r\nL 389.297917 181.34817 \r\nL 389.960215 184.352364 \r\nL 390.84715 187.298068 \r\nL 391.953672 190.168508 \r\nL 393.273481 192.947343 \r\nL 394.799063 195.618751 \r\nL 396.521732 198.167522 \r\nL 398.431679 200.579145 \r\nL 400.51803 202.839888 \r\nL 402.768907 204.93688 \r\nL 405.171493 206.858182 \r\nL 407.71211 208.592854 \r\nL 410.376292 210.13102 \r\nL 413.14887 211.463923 \r\nL 416.014059 212.583973 \r\nL 418.955546 213.484793 \r\nL 421.956583 214.161254 \r\nL 425.000082 214.609506 \r\nL 428.068717 214.826995 \r\nL 431.145015 214.812484 \r\nL 434.211462 214.566054 \r\nL 437.250597 214.08911 \r\nL 440.245119 213.384367 \r\nL 443.177976 212.455837 \r\nL 446.032471 211.308806 \r\nL 448.792351 209.949806 \r\nL 451.441904 208.386574 \r\nL 453.966042 206.628011 \r\nL 456.350396 204.684129 \r\nL 458.581389 202.565995 \r\nL 460.646319 200.28567 \r\nL 462.53343 197.856136 \r\nL 464.231977 195.291226 \r\nL 465.732288 192.605545 \r\nL 467.025823 189.814382 \r\nL 468.105216 186.93363 \r\nL 468.964322 183.979691 \r\nL 469.598248 180.969382 \r\nL 470.003387 177.919844 \r\nL 470.17743 174.848439 \r\nL 470.184687 174.079219 \r\nL 470.184687 174.079219 \r\n\" style=\"fill:none;stroke:#000000;stroke-linecap:square;stroke-width:1.5;\"/>\r\n   </g>\r\n   <g id=\"patch_3\">\r\n    <path d=\"M 35.304688 309.979219 \r\nL 35.304688 10.999219 \r\n\" style=\"fill:none;stroke:#000000;stroke-linecap:square;stroke-linejoin:miter;stroke-width:0.8;\"/>\r\n   </g>\r\n   <g id=\"patch_4\">\r\n    <path d=\"M 578.904687 309.979219 \r\nL 578.904687 10.999219 \r\n\" style=\"fill:none;stroke:#000000;stroke-linecap:square;stroke-linejoin:miter;stroke-width:0.8;\"/>\r\n   </g>\r\n   <g id=\"patch_5\">\r\n    <path d=\"M 35.304688 309.979219 \r\nL 578.904687 309.979219 \r\n\" style=\"fill:none;stroke:#000000;stroke-linecap:square;stroke-linejoin:miter;stroke-width:0.8;\"/>\r\n   </g>\r\n   <g id=\"patch_6\">\r\n    <path d=\"M 35.304688 10.999219 \r\nL 578.904687 10.999219 \r\n\" style=\"fill:none;stroke:#000000;stroke-linecap:square;stroke-linejoin:miter;stroke-width:0.8;\"/>\r\n   </g>\r\n  </g>\r\n </g>\r\n <defs>\r\n  <clipPath id=\"p57577808ee\">\r\n   <rect height=\"298.98\" width=\"543.6\" x=\"35.304688\" y=\"10.999219\"/>\r\n  </clipPath>\r\n </defs>\r\n</svg>\r\n",
      "image/png": "[encoded data removed]"
     },
     "metadata": {
      "needs_background": "light"
     }
    }
   ],
   "source": [
    "x_rad1,y_rad1 = circle(3, -9, 0, 1000)\n",
    "x_rad2,y_rad2 = circle(3, 9, 0, 1000)\n",
    "\n",
    "x = np.concatenate((x, x_rad1, x_rad2))\n",
    "y = np.concatenate((y,y_rad1, y_rad2))\n",
    "\n",
    "draw_plot(x, y, 'k', plot_settings)"
   ]
  },
  {
   "cell_type": "markdown",
   "metadata": {},
   "source": [
    "# Dach\n",
    "Das Dach wird durch eine Parabel, die durch die drei rot markierten Punkte mit den Koordinaten $(-9,5)$, $(0,9)$ und $(12,7)$ geht, beschrieben.\n",
    "Die Parabel kann als Schaubild eines Polynoms vom Grad $2$ in der Form\n",
    "\n",
    "$$\n",
    "\tp(x) = a_0 + a_1 x + a_2 x^2, \\quad x \\in [-9, 12],\n",
    "$$\n",
    "\n",
    "dargestellt werden.\n",
    "Die Koeffizienten $a_0$, $a_1$ und $a_2$ berechnet man mithilfe eines linearen Gleichungssystems.\n",
    "Dazu setzt man die $x$- und $y$-Werte der Punkte in die Gleichung des Polynoms ein und löst das lineare Gleichungssystem in Matrixform:\n",
    "\n",
    "$$\n",
    "\\begin{array}{ccc}\n",
    "\ta_0 + a_1 \\cdot (-9) + a_2 \\cdot (-9)^2 & = & 5 \\\\ \n",
    "\ta_0 + a_1 \\cdot (\\hphantom{-}0) + a_2 \\cdot (\\hphantom{-}0)^2 & = & 9 \\\\ \n",
    "\ta_0 + a_1 \\cdot (\\,12) + a_2 \\cdot (\\,12)^2 & = & 7 \\\\ \n",
    "\\end{array}\n",
    "\\quad \\Longleftrightarrow \\quad\n",
    "\\underbrace{\n",
    "\\left[\n",
    "\t\\begin{array}{ccc}\n",
    "\t\t1 & -9 & (-9)^2 \\\\\n",
    "\t\t1 & \\hphantom{-}0 & (\\hphantom{-}0)^2 \\\\\n",
    "\t\t1 & \\,12 & (\\,12)^2 \\\\\n",
    "\t\\end{array}\n",
    "\\right]\n",
    "}_{\\displaystyle \\mathbf{A}}\n",
    "\\cdot\n",
    "\\underbrace{\n",
    "\\left[\n",
    "\t\\begin{array}{c}\n",
    "\t\ta_0 \\\\\n",
    "\t\ta_1 \\\\\n",
    "\t\ta_2\n",
    "\t\\end{array}\n",
    "\\right]\n",
    "}_{\\displaystyle \\mathbf{a}}\n",
    "=\n",
    "\\underbrace{\n",
    "\\left[\n",
    "\t\\begin{array}{c}\n",
    "\t\t5 \\\\\n",
    "\t\t9 \\\\\n",
    "\t\t7\n",
    "\t\\end{array}\n",
    "\\right]\n",
    "}_{\\displaystyle \\mathbf{y}}\n",
    "$$"
   ]
  },
  {
   "cell_type": "markdown",
   "metadata": {},
   "source": [
    "<div class=\"alert alert-block alert-danger\">\n",
    "    \n",
    "<b>Merke</b>\n",
    "    \n",
    "Informationen zum Lösen linearer Gleichungssysteme mit Python finden Sie in dem Jupyter Notebook `linear_system.ipynb` im Moodle-Kurs Python unter der Rubrik `Examples`. \n",
    "    \n",
    "</div>"
   ]
  },
  {
   "cell_type": "markdown",
   "metadata": {},
   "source": [
    "<div class=\"alert alert-block alert-info\">\n",
    "    \n",
    "### Aufgabe 3\n",
    "\n",
    "Ergänzen Sie die Grafik durch das Dach des Fahrzeugs.   \n",
    "</div>"
   ]
  },
  {
   "cell_type": "code",
   "execution_count": 23,
   "metadata": {},
   "outputs": [
    {
     "output_type": "execute_result",
     "data": {
      "text/plain": [
       "<IPython.lib.display.IFrame at 0x25d6952f730>"
      ],
      "text/html": "\n        <iframe\n            width=\"600\"\n            height=\"330\"\n            src=\"https://www.dropbox.com/s/6ixi5t49bi2wv2c/car3.png?raw=1\"\n            frameborder=\"0\"\n            allowfullscreen\n        ></iframe>\n        "
     },
     "metadata": {},
     "execution_count": 23
    }
   ],
   "source": [
    "IFrame('https://www.dropbox.com/s/6ixi5t49bi2wv2c/car3.png?raw=1', width=600, height=330)"
   ]
  },
  {
   "cell_type": "code",
   "execution_count": 25,
   "metadata": {},
   "outputs": [],
   "source": [
    "#\n",
    "# Ergänzen Sie bitte hier die Python Befehle für Aufgabe 3!\n",
    "#\n",
    "\n",
    "\n"
   ]
  },
  {
   "cell_type": "markdown",
   "metadata": {},
   "source": [
    "# Profilkurve\n",
    "Die Profilkurve ermittelt man im Prinzip genau gleich wie die Parabel für das Dach.\n",
    "Da die Kurve durch sechs Punkte geht, benötigen wir ein Polynom vom Grad $5$\n",
    "\n",
    "$$\n",
    "\tp(x) = b_0 + b_1 x + b_2 x^2 + b_3 x^3 + b_4 x^4 + b_5 x^5, \\quad x \\in [-16, 15].\n",
    "$$\n",
    "\n",
    "Das lineare Gleichungssystem in Matrixform zur Berechnung der Koeffizienten $b_0$, $b_1$, $b_2$, $b_3$, $b_4$ und $b_5$ lautet dann\n",
    "\n",
    "$$\n",
    "\\underbrace{\n",
    "\\left[\n",
    "\t\\begin{array}{cccccc}\n",
    "\t\t1 & x_1 & x_1^2 & x_1^3 & x_1^4 & x_1^5\\\\\n",
    "\t\t1 & x_2 & x_2^2 & x_2^3 & x_2^4 & x_2^5\\\\\n",
    "\t\t1 & x_3 & x_3^2 & x_3^3 & x_3^4 & x_3^5\\\\\n",
    "\t\t1 & x_4 & x_4^2 & x_4^3 & x_4^4 & x_4^5\\\\\n",
    "\t\t1 & x_5 & x_5^2 & x_5^3 & x_5^4 & x_5^5\\\\\n",
    "\t\t1 & x_6 & x_6^2 & x_6^3 & x_6^4 & x_6^5\\\\\n",
    "\t\\end{array}\n",
    "\\right]\n",
    "}_{\\displaystyle \\mathbf{B}}\n",
    "\\cdot\n",
    "\\underbrace{\n",
    "\\left[\n",
    "\t\\begin{array}{c}\n",
    "\t\tb_0 \\\\\n",
    "\t\tb_1 \\\\\n",
    "\t\tb_2 \\\\\n",
    "\t\tb_3 \\\\\n",
    "\t\tb_4 \\\\\n",
    "\t\tb_5\n",
    "\t\\end{array}\n",
    "\\right]\n",
    "}_{\\displaystyle \\mathbf{b}}\n",
    "=\n",
    "\\underbrace{\n",
    "\\left[\n",
    "\t\\begin{array}{c}\n",
    "\t\t0 \\\\\n",
    "\t\t4 \\\\\n",
    "\t\t5 \\\\\n",
    "\t\t4 \\\\\n",
    "\t\t7 \\\\\n",
    "\t\t8\n",
    "\t\\end{array}\n",
    "\\right]\n",
    "}_{\\displaystyle \\mathbf{y}},\n",
    "$$\n",
    "\n",
    "dabei sind $x_1$, $x_2$, $x_3$, $x_4$, $x_5$ und $x_6$ die $x$-Koordinaten der Punkte $(-16,0)$, $(-12,4)$, $(-9,5)$, $(0,4)$, $(12,7)$ und $(15,8)$. \n",
    "Mithilfe eines Spaltenvektors $\\mathbf{x}$, der alle $x$-Koordinaten enthält, kann die Matrix $\\mathbf{B}$ elegant dargestellt werden:\n",
    "\n",
    "$$\n",
    "\t\\mathbf{x} = \n",
    "\t\\left[\n",
    "\t\\begin{array}{c}\n",
    "\t\tx_1 \\\\\n",
    "\t\tx_2 \\\\\n",
    "\t\tx_3 \\\\\n",
    "\t\tx_4 \\\\\n",
    "\t\tx_5 \\\\\n",
    "\t\tx_6\n",
    "\t\\end{array}\n",
    "\t\\right]\n",
    "\t\\quad \\Longrightarrow \\quad\n",
    "\t\\mathbf{B} = \n",
    "\t\\left[\n",
    "\t\\mathbf{x}^0 \\,  \n",
    "\t\\mathbf{x}^1 \\,\n",
    "\t\\mathbf{x}^2 \\,\n",
    "\t\\mathbf{x}^3 \\,\n",
    "\t\\mathbf{x}^4 \\,\n",
    "\t\\mathbf{x}^5\n",
    "\t\\right].\n",
    "$$"
   ]
  },
  {
   "cell_type": "markdown",
   "metadata": {},
   "source": [
    "<div class=\"alert alert-block alert-info\">\n",
    "    \n",
    "### Aufgabe 4\n",
    "\n",
    "Ergänzen Sie die Grafik durch die Profilkurve des Fahrzeugs.   \n",
    "</div>"
   ]
  },
  {
   "cell_type": "code",
   "execution_count": 27,
   "metadata": {},
   "outputs": [
    {
     "output_type": "execute_result",
     "data": {
      "text/plain": [
       "<IPython.lib.display.IFrame at 0x25d6952f5e0>"
      ],
      "text/html": "\n        <iframe\n            width=\"600\"\n            height=\"330\"\n            src=\"https://www.dropbox.com/s/vt61r4n3v5m5wcq/car4.png?raw=1\"\n            frameborder=\"0\"\n            allowfullscreen\n        ></iframe>\n        "
     },
     "metadata": {},
     "execution_count": 27
    }
   ],
   "source": [
    "IFrame('https://www.dropbox.com/s/vt61r4n3v5m5wcq/car4.png?raw=1', width=600, height=330)"
   ]
  },
  {
   "cell_type": "code",
   "execution_count": 29,
   "metadata": {},
   "outputs": [],
   "source": [
    "#\n",
    "# Ergänzen Sie bitte hier die Python Befehle für Aufgabe 4!\n",
    "#\n",
    "\n",
    "\n"
   ]
  },
  {
   "cell_type": "markdown",
   "metadata": {},
   "source": [
    "# Transformation\n",
    "Die rot gestrichelte Grafik entsteht durch eine Rotation der ursprünglichen Grafik um den Winkel $\\alpha=30^0$ im Uhrzeigersinn.\n",
    "Genauer gesagt handelt es sich um eine Rotation um den Ursprung $O(0/0)$, die mathematisch durch Multiplikation mit einer Rotationsmatrix $\\mathbf{R}$ beschrieben werden kann:\n",
    "\n",
    "$$\n",
    "\\underbrace{\n",
    "\\left[\n",
    "\t\\begin{array}{cc}\n",
    "\t\t \\cos{\\alpha} & -\\sin{\\alpha} \\\\\n",
    "\t\t \\sin{\\alpha} &  \\cos{\\alpha} \\\\\n",
    "\t\\end{array}\n",
    "\\right]\n",
    "}_{\\displaystyle \\mathbf{R}}\n",
    "\\cdot\n",
    "\\left[\n",
    "\t\\begin{array}{c}\n",
    "\t\t x\\\\\n",
    "\t\t y\\\\\n",
    "\t\\end{array}\n",
    "\\right]\n",
    "=\n",
    "\\left[\n",
    "\t\\begin{array}{c}\n",
    "\t\t x \\cos{\\alpha} - y \\sin{\\alpha} \\\\\n",
    "\t\t x \\sin{\\alpha} + y \\cos{\\alpha} \\\\\n",
    "\t\\end{array}\n",
    "\\right].\n",
    "$$\n",
    "\n",
    "Dabei ist jedoch zu beachten, dass diese Matrixmultiplikation eine Rotation in mathematisch positiver Richtung, also gegen den Uhrzeigersinn, erzeugt.\n",
    "Die Koordinaten der Punkte der rotierten Grafik können durch eine einzige Matrixmultiplikation berechnet werden.\n",
    "Dazu fasst man alle $x$- und $y$-Koordinaten der Punkte der ursprünglichen Grafik in einer Matrix $\\mathbf{XY}$ zusammen:\n",
    "\n",
    "$$\n",
    "\t\\mathbf{XY} = \n",
    "\t\\left[\n",
    "\t\t\\begin{array}{llllll}\n",
    "\t\t\tx_1 & x_2 & \\ldots & \\verb+np.nan+ & \\ldots & x_n\\\\\n",
    "\t\t\ty_1 & y_2 & \\ldots & \\verb+np.nan+ & \\ldots & y_n\\\\\n",
    "\t\t\\end{array}\n",
    "\t\\right]\n",
    "\t\\quad \\Longrightarrow \\quad\n",
    "\t\\mathbf{R} \\cdot \\mathbf{XY}.\n",
    "$$\n",
    "\n",
    "Um zusätzliche ungewollte Verbindungslinien zu vermeiden, kann man auch hier wieder den Trick mit `numpy.nan` verwenden."
   ]
  },
  {
   "cell_type": "code",
   "execution_count": 31,
   "metadata": {},
   "outputs": [
    {
     "output_type": "execute_result",
     "data": {
      "text/plain": [
       "<IPython.lib.display.IFrame at 0x25d6952fa30>"
      ],
      "text/html": "\n        <iframe\n            width=\"600\"\n            height=\"330\"\n            src=\"https://www.dropbox.com/s/1k9stbmr8mlrwzn/car5.png?raw=1\"\n            frameborder=\"0\"\n            allowfullscreen\n        ></iframe>\n        "
     },
     "metadata": {},
     "execution_count": 31
    }
   ],
   "source": [
    "IFrame('https://www.dropbox.com/s/1k9stbmr8mlrwzn/car5.png?raw=1', width=600, height=330)"
   ]
  },
  {
   "cell_type": "markdown",
   "metadata": {},
   "source": [
    "<div class=\"alert alert-block alert-danger\">\n",
    "    \n",
    "<b>Merke</b>\n",
    "    \n",
    "In `numpy` können Felder durch die Funktion `concatenate()` zusammengefügt werden.\n",
    "    \n",
    "- https://numpy.org/doc/stable/reference/generated/numpy.concatenate.html\n",
    "    \n",
    "</div>"
   ]
  },
  {
   "cell_type": "markdown",
   "metadata": {},
   "source": [
    "<div class=\"alert alert-block alert-info\">\n",
    "    \n",
    "### Aufgabe 5\n",
    "\n",
    "Ergänzen Sie die Grafik durch das rotierte Fahrzeug. \n",
    "</div>"
   ]
  },
  {
   "cell_type": "code",
   "execution_count": 33,
   "metadata": {},
   "outputs": [],
   "source": [
    "#\n",
    "# Ergänzen Sie bitte hier die Python Befehle für Aufgabe 5!\n",
    "#\n",
    "\n",
    "\n"
   ]
  },
  {
   "cell_type": "markdown",
   "metadata": {},
   "source": [
    "# Zusatzaufgabe\n",
    "Das Lösen der Zusatzaufgabe erfordert fundierte Kenntnisse im Umgang mit Python.\n",
    "Die Zusatzaufgabe ist nur für diejenigen gedacht, die aus eigenem Interesse tiefer in die Materie einsteigen wollen!"
   ]
  },
  {
   "cell_type": "code",
   "execution_count": 35,
   "metadata": {},
   "outputs": [],
   "source": [
    "#IFrame('https://www.dropbox.com/s/xe9bigu0yndc7m0/car.gif?raw=1', width=400, height=400)"
   ]
  },
  {
   "cell_type": "markdown",
   "metadata": {},
   "source": [
    "<div class=\"alert alert-block alert-danger\">\n",
    "    \n",
    "<b>Merke</b>\n",
    "    \n",
    "Informationen zu Animationen mit Python finden Sie in dem Jupyter Notebook `animation.ipynb` im Moodle-Kurs Python unter der Rubrik `Examples`. \n",
    "    \n",
    "</div>"
   ]
  },
  {
   "cell_type": "markdown",
   "metadata": {},
   "source": [
    "<div class=\"alert alert-block alert-info\">\n",
    "    \n",
    "### Zusatzaufgabe\n",
    "\n",
    "Erstellen Sie eine Animation, bei der die Grafik des Autos um den Ursprung in kleinen Schritten rotiert.   \n",
    "</div>"
   ]
  },
  {
   "cell_type": "code",
   "execution_count": 36,
   "metadata": {},
   "outputs": [],
   "source": [
    "#\n",
    "# Ergänzen Sie bitte hier die Python Befehle für die Zusatzaufgabe!\n",
    "#\n",
    "\n",
    "\n"
   ]
  }
 ],
 "metadata": {
  "kernelspec": {
   "name": "python392jvsc74a57bd032a62dbe886a7409fffe6942ef01cfad4b4b84ef93da1dd2ddf6443577909378",
   "display_name": "Python 3.9.2 64-bit"
  },
  "language_info": {
   "codemirror_mode": {
    "name": "ipython",
    "version": 3
   },
   "file_extension": ".py",
   "mimetype": "text/x-python",
   "name": "python",
   "nbconvert_exporter": "python",
   "pygments_lexer": "ipython3",
   "version": "3.9.2-final"
  },
  "toc": {
   "base_numbering": 1,
   "nav_menu": {},
   "number_sections": true,
   "sideBar": true,
   "skip_h1_title": true,
   "title_cell": "Projekt \"Car\"",
   "title_sidebar": "Projekt \"Car\"",
   "toc_cell": true,
   "toc_position": {
    "height": "570.4px",
    "left": "35px",
    "top": "136.883px",
    "width": "195.167px"
   },
   "toc_section_display": false,
   "toc_window_display": true
  },
  "metadata": {
   "interpreter": {
    "hash": "32a62dbe886a7409fffe6942ef01cfad4b4b84ef93da1dd2ddf6443577909378"
   }
  }
 },
 "nbformat": 4,
 "nbformat_minor": 2
}