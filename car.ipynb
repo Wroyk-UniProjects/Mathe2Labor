{
 "cells": [
  {
   "cell_type": "markdown",
   "metadata": {
    "toc": true
   },
   "source": [
    "<h1>Projekt \"Car\"<span class=\"tocSkip\"></span></h1>\n",
    "<div class=\"toc\"><ul class=\"toc-item\"><li><span><a href=\"#Aufgabe-1\" data-toc-modified-id=\"Aufgabe-1-1\"><span class=\"toc-item-num\">1&nbsp;&nbsp;</span>Aufgabe 1</a></span></li><li><span><a href=\"#Aufgabe-2\" data-toc-modified-id=\"Aufgabe-2-2\"><span class=\"toc-item-num\">2&nbsp;&nbsp;</span>Aufgabe 2</a></span></li><li><span><a href=\"#Aufgabe-3\" data-toc-modified-id=\"Aufgabe-3-3\"><span class=\"toc-item-num\">3&nbsp;&nbsp;</span>Aufgabe 3</a></span></li><li><span><a href=\"#Aufgabe-4\" data-toc-modified-id=\"Aufgabe-4-4\"><span class=\"toc-item-num\">4&nbsp;&nbsp;</span>Aufgabe 4</a></span></li><li><span><a href=\"#Aufgabe-5\" data-toc-modified-id=\"Aufgabe-5-5\"><span class=\"toc-item-num\">5&nbsp;&nbsp;</span>Aufgabe 5</a></span></li><li><span><a href=\"#Zusatzaufgabe\" data-toc-modified-id=\"Zusatzaufgabe-6\"><span class=\"toc-item-num\">6&nbsp;&nbsp;</span>Zusatzaufgabe</a></span></li></ul></div>"
   ]
  },
  {
   "cell_type": "markdown",
   "metadata": {},
   "source": [
    "# Lernziele\n",
    "Die Studierenden lernen\n",
    "- Grafikbefehle anzuwenden\n",
    "- Schaubilder von Funktionen und parametrisierten Kurven zu erstellen\n",
    "- Vektoren und Matrizen zu erzeugen und damit zu rechnen\n",
    "- Lineare Gleichungssysteme zu lösen\n",
    "- Interpolationspolynome durch vorgegebene Punkte zu ermitteln\n",
    "- Transformationsmatrizen in der Ebene anzuwenden"
   ]
  },
  {
   "cell_type": "markdown",
   "metadata": {},
   "source": [
    "# Aufgabenstellung\n",
    "Die abgebildete Grafik soll erstellt werden."
   ]
  },
  {
   "cell_type": "code",
   "execution_count": null,
   "metadata": {},
   "outputs": [],
   "source": [
    "from IPython.display import IFrame\n",
    "IFrame('https://www.dropbox.com/s/1k9stbmr8mlrwzn/car5.png?raw=1', width=600, height=330)"
   ]
  },
  {
   "cell_type": "markdown",
   "metadata": {},
   "source": [
    "# Vorgehensweise\n",
    "Die Vorgehensweise kann in den folgenden Schritten erfolgen:\n",
    "- Grafik mit Gitterlinien\n",
    "- Linien für Boden und Heck\n",
    "- Räder\n",
    "- Dach\n",
    "- Profilkurve\n",
    "- Transformation\n",
    "- Animation (optional)"
   ]
  },
  {
   "cell_type": "markdown",
   "metadata": {},
   "source": [
    "# Bibliotheken\n",
    "Für die Berechnungen wird die Bibliothek `numpy` verwendet.\n",
    "Das Erstellen der Grafiken erfolgt mit der Bibliothek `matplotlib` und `pyplot`.\n",
    "Für `pyplot` verwendet man üblicherweise die Abkürzung `plt`."
   ]
  },
  {
   "cell_type": "code",
   "execution_count": null,
   "metadata": {},
   "outputs": [],
   "source": [
    "import numpy as np\n",
    "import matplotlib.pyplot as plt"
   ]
  },
  {
   "cell_type": "markdown",
   "metadata": {},
   "source": [
    "# Grafik mit Gitterlinien\n",
    "Zunächst werden die Werte für den Bereich der $x$- und $y$-Werte festgelegt.\n",
    "Dabei kann man in Python die Mehrfachzuweisung mit durch Kommata getrennten Elementen verwenden.   "
   ]
  },
  {
   "cell_type": "code",
   "execution_count": null,
   "metadata": {},
   "outputs": [],
   "source": [
    "x_min, x_max, y_min, y_max = -20.0, 20.0, -10.0, 12.0"
   ]
  },
  {
   "cell_type": "markdown",
   "metadata": {},
   "source": [
    "Nun wird ein Fenster vom Typ `figure` und darin ein Achsenkreuz vom Typ `axes` erzeugt.\n",
    "Die Größe des Fensters wird auf den Bereich der $x$- und $y$-Werte angepasst.\n",
    "Mit der Funktion `subplots()` ist es auch möglich, mehrere Achsenkreuze in einem Fenster zu platzieren."
   ]
  },
  {
   "cell_type": "code",
   "execution_count": null,
   "metadata": {},
   "outputs": [],
   "source": [
    "fig, ax = plt.subplots(figsize=((x_max-x_min)/4,(y_max-y_min)/4))"
   ]
  },
  {
   "cell_type": "markdown",
   "metadata": {},
   "source": [
    "Die Funktion `set_aspect('equal')` stellt sicher, dass die Skalierung der $x$- und $y$-Werte im Verhältnis $1:1$ erfolgt.\n",
    "Dadurch werden die Räder später als Kreis und nicht als Ellipse dargestellt."
   ]
  },
  {
   "cell_type": "code",
   "execution_count": null,
   "metadata": {},
   "outputs": [],
   "source": [
    "ax.set_aspect('equal')\n",
    "display(fig)"
   ]
  },
  {
   "cell_type": "markdown",
   "metadata": {},
   "source": [
    "Standardmäßig verläuft der Bereich der $x$- und $y$-Werte zwischen $0.0$ und $1.0$.\n",
    "Er kann durch die Funktion `axis()` angepasst werden.\n",
    "Die Funktion `display()` zeigt das veränderte Fenster an."
   ]
  },
  {
   "cell_type": "code",
   "execution_count": null,
   "metadata": {},
   "outputs": [],
   "source": [
    "ax.axis([x_min,x_max,y_min,y_max])\n",
    "display(fig)"
   ]
  },
  {
   "cell_type": "markdown",
   "metadata": {},
   "source": [
    "Die Beschriftung der Achsen wird durch die Funktionen `set_xticks()` und `set_yticks()` angepasst.\n",
    "Die Zahlenwerte für die Positionen der Achsenbeschriftungen werden durch einen `numpy`-Vektor festgelegt.\n",
    "Die Vektoren werden durch die Funktion `arange()` erzeugt."
   ]
  },
  {
   "cell_type": "markdown",
   "metadata": {},
   "source": [
    "<div class=\"alert alert-block alert-danger\">\n",
    "    \n",
    "<b>Merke</b>\n",
    "    \n",
    "Mit der Funktion `arange(start,stop,step)` aus der Bibliothek `numpy` lassen sich Sequenzen von Zahlen, die bei `start` beginnen, vor `stop` enden und eine Schrittweite `step` besitzen erzeugen.\n",
    "Ähnliche Möglichkeiten bietet die Funktion `linspace(start,stop,num)`.\n",
    "    \n",
    "\n",
    "- https://numpy.org/devdocs/reference/generated/numpy.arange.html\n",
    "- https://numpy.org/devdocs/reference/generated/numpy.linspace.html"
   ]
  },
  {
   "cell_type": "code",
   "execution_count": null,
   "metadata": {},
   "outputs": [],
   "source": [
    "x_ticks = np.arange(x_min,x_max+1,2)\n",
    "print('x_ticks = ',x_ticks)\n",
    "ax.set_xticks(x_ticks)\n",
    "y_ticks = np.arange(y_min,y_max+1,2)\n",
    "print('y_ticks = ',y_ticks)\n",
    "ax.set_yticks(y_ticks)\n",
    "display(fig)"
   ]
  },
  {
   "cell_type": "markdown",
   "metadata": {},
   "source": [
    "Die Gitterlinien können durch die Funktion `grid()` eingeblendet werden."
   ]
  },
  {
   "cell_type": "code",
   "execution_count": null,
   "metadata": {},
   "outputs": [],
   "source": [
    "ax.grid(True)\n",
    "display(fig)"
   ]
  },
  {
   "cell_type": "markdown",
   "metadata": {},
   "source": [
    "Eine bessere optische Wirkung lässt sich erzielen, in dem man zusätzlich zu dem sogenannten `major` Gitter auch noch das sogenannte `minor` Gitter, mit geringeren Farbintensitäten, einblendet. "
   ]
  },
  {
   "cell_type": "code",
   "execution_count": null,
   "metadata": {},
   "outputs": [],
   "source": [
    "ax.set_xticks(np.arange(x_min,x_max+1),minor=True)\n",
    "ax.set_yticks(np.arange(y_min,y_max+1),minor=True)\n",
    "ax.grid(which='minor', alpha=0.1)\n",
    "ax.grid(which='major', alpha=0.5)\n",
    "display(fig)"
   ]
  },
  {
   "cell_type": "markdown",
   "metadata": {},
   "source": [
    "# Linien für Boden und Heck"
   ]
  },
  {
   "cell_type": "markdown",
   "metadata": {},
   "source": [
    "<div class=\"alert alert-block alert-info\">\n",
    "    \n",
    "### Aufgabe 1\n",
    "\n",
    "Ergänzen Sie die Grafik durch die Linien für Boden und Heck des Fahrzeugs.   \n",
    "</div>"
   ]
  },
  {
   "cell_type": "code",
   "execution_count": null,
   "metadata": {},
   "outputs": [],
   "source": [
    "IFrame('https://www.dropbox.com/s/s3aoi2pur59gbuo/car1.png?raw=1', width=600, height=330)"
   ]
  },
  {
   "cell_type": "markdown",
   "metadata": {},
   "source": [
    "<div class=\"alert alert-block alert-danger\">\n",
    "    \n",
    "<b>Merke</b>\n",
    "    \n",
    "Mit der Funktion `plot(x,y,...)` aus der Bibliothek `matplotlib` lassen sich die Punkte mit den $x$- und $y$-Koordinaten grafisch darstellen.\n",
    "Die Punkte werden entweder durch gerade Linien verbunden oder einzeln durch Symbole dargestellt.\n",
    "Unterbrochene Linien lassen sich durch Einfügen von `numpy.nan` erzeugen.\n",
    "\n",
    "- https://matplotlib.org/api/_as_gen/matplotlib.pyplot.plot.html#matplotlib.pyplot.plot\n",
    "    \n",
    "</div>"
   ]
  },
  {
   "cell_type": "code",
   "execution_count": null,
   "metadata": {},
   "outputs": [],
   "source": [
    "#\n",
    "# Ergänzen Sie bitte hier die Python Befehle für Aufgabe 1!\n",
    "#"
   ]
  },
  {
   "cell_type": "markdown",
   "metadata": {},
   "source": [
    "# Räder\n",
    "Die Räder werden durch zwei Kreise mit Radius $r=3$ dargestellt.\n",
    "Ein Kreis um den Ursprung mit Radius $r$ besitzt die mathematische Darstellung\n",
    "\n",
    "$$\n",
    "\t\\mathbf{c}(t) =\n",
    "\t\\left(\n",
    "\t\t\\begin{array}{c}\n",
    "\t\t\tr \\cos (t) \\\\\n",
    "\t\t\tr \\sin (t) \\\\\n",
    "\t\t\\end{array}\n",
    "\t\\right),\n",
    "\t\\quad\n",
    "\tt \\in [0, 2 \\pi].\n",
    "$$\n",
    "\n",
    "Wenn das Intervall $[0, 2 \\pi]$ gleichmäßig in $n$ Abschnitte unterteilt wird\n",
    "\n",
    "$$\n",
    "\tt_0 = 0, \\quad t_1 = \\frac{2 \\pi}{n}, \\quad \\ldots, \\quad t_n = 2 \\pi\n",
    "$$\n",
    "\n",
    "und die entsprechenden Punkte durch gerade Strecken verbunden werden, dann entsteht ein $n$-Eck.\n",
    "Für genügend groß gewähles $n$ wirkt das $n$-Eck in der grafischen Darstellung wie ein Kreis.\n",
    "Zur Darstellung der beiden Räder muss das $n$-Eck entsprechend in $x$-Richtung verschoben werden."
   ]
  },
  {
   "cell_type": "markdown",
   "metadata": {},
   "source": [
    "<div class=\"alert alert-block alert-info\">\n",
    "    \n",
    "### Aufgabe 2\n",
    "\n",
    "Ergänzen Sie die Grafik durch die Rädes des Fahrzeugs.   \n",
    "</div>"
   ]
  },
  {
   "cell_type": "code",
   "execution_count": null,
   "metadata": {},
   "outputs": [],
   "source": [
    "IFrame('https://www.dropbox.com/s/49hkutb3vut614q/car2.png?raw=1', width=600, height=330)"
   ]
  },
  {
   "cell_type": "code",
   "execution_count": null,
   "metadata": {},
   "outputs": [],
   "source": [
    "#\n",
    "# Ergänzen Sie bitte hier die Python Befehle für Aufgabe 2!\n",
    "#\n",
    "\n",
    "\n"
   ]
  },
  {
   "cell_type": "markdown",
   "metadata": {},
   "source": [
    "# Dach\n",
    "Das Dach wird durch eine Parabel, die durch die drei rot markierten Punkte mit den Koordinaten $(-9,5)$, $(0,9)$ und $(12,7)$ geht, beschrieben.\n",
    "Die Parabel kann als Schaubild eines Polynoms vom Grad $2$ in der Form\n",
    "\n",
    "$$\n",
    "\tp(x) = a_0 + a_1 x + a_2 x^2, \\quad x \\in [-9, 12],\n",
    "$$\n",
    "\n",
    "dargestellt werden.\n",
    "Die Koeffizienten $a_0$, $a_1$ und $a_2$ berechnet man mithilfe eines linearen Gleichungssystems.\n",
    "Dazu setzt man die $x$- und $y$-Werte der Punkte in die Gleichung des Polynoms ein und löst das lineare Gleichungssystem in Matrixform:\n",
    "\n",
    "$$\n",
    "\\begin{array}{ccc}\n",
    "\ta_0 + a_1 \\cdot (-9) + a_2 \\cdot (-9)^2 & = & 5 \\\\ \n",
    "\ta_0 + a_1 \\cdot (\\hphantom{-}0) + a_2 \\cdot (\\hphantom{-}0)^2 & = & 9 \\\\ \n",
    "\ta_0 + a_1 \\cdot (\\,12) + a_2 \\cdot (\\,12)^2 & = & 7 \\\\ \n",
    "\\end{array}\n",
    "\\quad \\Longleftrightarrow \\quad\n",
    "\\underbrace{\n",
    "\\left[\n",
    "\t\\begin{array}{ccc}\n",
    "\t\t1 & -9 & (-9)^2 \\\\\n",
    "\t\t1 & \\hphantom{-}0 & (\\hphantom{-}0)^2 \\\\\n",
    "\t\t1 & \\,12 & (\\,12)^2 \\\\\n",
    "\t\\end{array}\n",
    "\\right]\n",
    "}_{\\displaystyle \\mathbf{A}}\n",
    "\\cdot\n",
    "\\underbrace{\n",
    "\\left[\n",
    "\t\\begin{array}{c}\n",
    "\t\ta_0 \\\\\n",
    "\t\ta_1 \\\\\n",
    "\t\ta_2\n",
    "\t\\end{array}\n",
    "\\right]\n",
    "}_{\\displaystyle \\mathbf{a}}\n",
    "=\n",
    "\\underbrace{\n",
    "\\left[\n",
    "\t\\begin{array}{c}\n",
    "\t\t5 \\\\\n",
    "\t\t9 \\\\\n",
    "\t\t7\n",
    "\t\\end{array}\n",
    "\\right]\n",
    "}_{\\displaystyle \\mathbf{y}}\n",
    "$$"
   ]
  },
  {
   "cell_type": "markdown",
   "metadata": {},
   "source": [
    "<div class=\"alert alert-block alert-danger\">\n",
    "    \n",
    "<b>Merke</b>\n",
    "    \n",
    "Informationen zum Lösen linearer Gleichungssysteme mit Python finden Sie in dem Jupyter Notebook `linear_system.ipynb` im Moodle-Kurs Python unter der Rubrik `Examples`. \n",
    "    \n",
    "</div>"
   ]
  },
  {
   "cell_type": "markdown",
   "metadata": {},
   "source": [
    "<div class=\"alert alert-block alert-info\">\n",
    "    \n",
    "### Aufgabe 3\n",
    "\n",
    "Ergänzen Sie die Grafik durch das Dach des Fahrzeugs.   \n",
    "</div>"
   ]
  },
  {
   "cell_type": "code",
   "execution_count": null,
   "metadata": {},
   "outputs": [],
   "source": [
    "IFrame('https://www.dropbox.com/s/6ixi5t49bi2wv2c/car3.png?raw=1', width=600, height=330)"
   ]
  },
  {
   "cell_type": "code",
   "execution_count": null,
   "metadata": {},
   "outputs": [],
   "source": [
    "#\n",
    "# Ergänzen Sie bitte hier die Python Befehle für Aufgabe 3!\n",
    "#\n",
    "\n",
    "\n"
   ]
  },
  {
   "cell_type": "markdown",
   "metadata": {},
   "source": [
    "# Profilkurve\n",
    "Die Profilkurve ermittelt man im Prinzip genau gleich wie die Parabel für das Dach.\n",
    "Da die Kurve durch sechs Punkte geht, benötigen wir ein Polynom vom Grad $5$\n",
    "\n",
    "$$\n",
    "\tp(x) = b_0 + b_1 x + b_2 x^2 + b_3 x^3 + b_4 x^4 + b_5 x^5, \\quad x \\in [-16, 15].\n",
    "$$\n",
    "\n",
    "Das lineare Gleichungssystem in Matrixform zur Berechnung der Koeffizienten $b_0$, $b_1$, $b_2$, $b_3$, $b_4$ und $b_5$ lautet dann\n",
    "\n",
    "$$\n",
    "\\underbrace{\n",
    "\\left[\n",
    "\t\\begin{array}{cccccc}\n",
    "\t\t1 & x_1 & x_1^2 & x_1^3 & x_1^4 & x_1^5\\\\\n",
    "\t\t1 & x_2 & x_2^2 & x_2^3 & x_2^4 & x_2^5\\\\\n",
    "\t\t1 & x_3 & x_3^2 & x_3^3 & x_3^4 & x_3^5\\\\\n",
    "\t\t1 & x_4 & x_4^2 & x_4^3 & x_4^4 & x_4^5\\\\\n",
    "\t\t1 & x_5 & x_5^2 & x_5^3 & x_5^4 & x_5^5\\\\\n",
    "\t\t1 & x_6 & x_6^2 & x_6^3 & x_6^4 & x_6^5\\\\\n",
    "\t\\end{array}\n",
    "\\right]\n",
    "}_{\\displaystyle \\mathbf{B}}\n",
    "\\cdot\n",
    "\\underbrace{\n",
    "\\left[\n",
    "\t\\begin{array}{c}\n",
    "\t\tb_0 \\\\\n",
    "\t\tb_1 \\\\\n",
    "\t\tb_2 \\\\\n",
    "\t\tb_3 \\\\\n",
    "\t\tb_4 \\\\\n",
    "\t\tb_5\n",
    "\t\\end{array}\n",
    "\\right]\n",
    "}_{\\displaystyle \\mathbf{b}}\n",
    "=\n",
    "\\underbrace{\n",
    "\\left[\n",
    "\t\\begin{array}{c}\n",
    "\t\t0 \\\\\n",
    "\t\t4 \\\\\n",
    "\t\t5 \\\\\n",
    "\t\t4 \\\\\n",
    "\t\t7 \\\\\n",
    "\t\t8\n",
    "\t\\end{array}\n",
    "\\right]\n",
    "}_{\\displaystyle \\mathbf{y}},\n",
    "$$\n",
    "\n",
    "dabei sind $x_1$, $x_2$, $x_3$, $x_4$, $x_5$ und $x_6$ die $x$-Koordinaten der Punkte $(-16,0)$, $(-12,4)$, $(-9,5)$, $(0,4)$, $(12,7)$ und $(15,8)$. \n",
    "Mithilfe eines Spaltenvektors $\\mathbf{x}$, der alle $x$-Koordinaten enthält, kann die Matrix $\\mathbf{B}$ elegant dargestellt werden:\n",
    "\n",
    "$$\n",
    "\t\\mathbf{x} = \n",
    "\t\\left[\n",
    "\t\\begin{array}{c}\n",
    "\t\tx_1 \\\\\n",
    "\t\tx_2 \\\\\n",
    "\t\tx_3 \\\\\n",
    "\t\tx_4 \\\\\n",
    "\t\tx_5 \\\\\n",
    "\t\tx_6\n",
    "\t\\end{array}\n",
    "\t\\right]\n",
    "\t\\quad \\Longrightarrow \\quad\n",
    "\t\\mathbf{B} = \n",
    "\t\\left[\n",
    "\t\\mathbf{x}^0 \\,  \n",
    "\t\\mathbf{x}^1 \\,\n",
    "\t\\mathbf{x}^2 \\,\n",
    "\t\\mathbf{x}^3 \\,\n",
    "\t\\mathbf{x}^4 \\,\n",
    "\t\\mathbf{x}^5\n",
    "\t\\right].\n",
    "$$"
   ]
  },
  {
   "cell_type": "markdown",
   "metadata": {},
   "source": [
    "<div class=\"alert alert-block alert-info\">\n",
    "    \n",
    "### Aufgabe 4\n",
    "\n",
    "Ergänzen Sie die Grafik durch die Profilkurve des Fahrzeugs.   \n",
    "</div>"
   ]
  },
  {
   "cell_type": "code",
   "execution_count": null,
   "metadata": {},
   "outputs": [],
   "source": [
    "IFrame('https://www.dropbox.com/s/vt61r4n3v5m5wcq/car4.png?raw=1', width=600, height=330)"
   ]
  },
  {
   "cell_type": "code",
   "execution_count": null,
   "metadata": {},
   "outputs": [],
   "source": [
    "#\n",
    "# Ergänzen Sie bitte hier die Python Befehle für Aufgabe 4!\n",
    "#\n",
    "\n",
    "\n"
   ]
  },
  {
   "cell_type": "markdown",
   "metadata": {},
   "source": [
    "# Transformation\n",
    "Die rot gestrichelte Grafik entsteht durch eine Rotation der ursprünglichen Grafik um den Winkel $\\alpha=30^0$ im Uhrzeigersinn.\n",
    "Genauer gesagt handelt es sich um eine Rotation um den Ursprung $O(0/0)$, die mathematisch durch Multiplikation mit einer Rotationsmatrix $\\mathbf{R}$ beschrieben werden kann:\n",
    "\n",
    "$$\n",
    "\\underbrace{\n",
    "\\left[\n",
    "\t\\begin{array}{cc}\n",
    "\t\t \\cos{\\alpha} & -\\sin{\\alpha} \\\\\n",
    "\t\t \\sin{\\alpha} &  \\cos{\\alpha} \\\\\n",
    "\t\\end{array}\n",
    "\\right]\n",
    "}_{\\displaystyle \\mathbf{R}}\n",
    "\\cdot\n",
    "\\left[\n",
    "\t\\begin{array}{c}\n",
    "\t\t x\\\\\n",
    "\t\t y\\\\\n",
    "\t\\end{array}\n",
    "\\right]\n",
    "=\n",
    "\\left[\n",
    "\t\\begin{array}{c}\n",
    "\t\t x \\cos{\\alpha} - y \\sin{\\alpha} \\\\\n",
    "\t\t x \\sin{\\alpha} + y \\cos{\\alpha} \\\\\n",
    "\t\\end{array}\n",
    "\\right].\n",
    "$$\n",
    "\n",
    "Dabei ist jedoch zu beachten, dass diese Matrixmultiplikation eine Rotation in mathematisch positiver Richtung, also gegen den Uhrzeigersinn, erzeugt.\n",
    "Die Koordinaten der Punkte der rotierten Grafik können durch eine einzige Matrixmultiplikation berechnet werden.\n",
    "Dazu fasst man alle $x$- und $y$-Koordinaten der Punkte der ursprünglichen Grafik in einer Matrix $\\mathbf{XY}$ zusammen:\n",
    "\n",
    "$$\n",
    "\t\\mathbf{XY} = \n",
    "\t\\left[\n",
    "\t\t\\begin{array}{llllll}\n",
    "\t\t\tx_1 & x_2 & \\ldots & \\verb+np.nan+ & \\ldots & x_n\\\\\n",
    "\t\t\ty_1 & y_2 & \\ldots & \\verb+np.nan+ & \\ldots & y_n\\\\\n",
    "\t\t\\end{array}\n",
    "\t\\right]\n",
    "\t\\quad \\Longrightarrow \\quad\n",
    "\t\\mathbf{R} \\cdot \\mathbf{XY}.\n",
    "$$\n",
    "\n",
    "Um zusätzliche ungewollte Verbindungslinien zu vermeiden, kann man auch hier wieder den Trick mit `numpy.nan` verwenden."
   ]
  },
  {
   "cell_type": "code",
   "execution_count": null,
   "metadata": {},
   "outputs": [],
   "source": [
    "IFrame('https://www.dropbox.com/s/1k9stbmr8mlrwzn/car5.png?raw=1', width=600, height=330)"
   ]
  },
  {
   "cell_type": "markdown",
   "metadata": {},
   "source": [
    "<div class=\"alert alert-block alert-danger\">\n",
    "    \n",
    "<b>Merke</b>\n",
    "    \n",
    "In `numpy` können Felder durch die Funktion `concatenate()` zusammengefügt werden.\n",
    "    \n",
    "- https://numpy.org/doc/stable/reference/generated/numpy.concatenate.html\n",
    "    \n",
    "</div>"
   ]
  },
  {
   "cell_type": "markdown",
   "metadata": {},
   "source": [
    "<div class=\"alert alert-block alert-info\">\n",
    "    \n",
    "### Aufgabe 5\n",
    "\n",
    "Ergänzen Sie die Grafik durch das rotierte Fahrzeug. \n",
    "</div>"
   ]
  },
  {
   "cell_type": "code",
   "execution_count": null,
   "metadata": {},
   "outputs": [],
   "source": [
    "#\n",
    "# Ergänzen Sie bitte hier die Python Befehle für Aufgabe 5!\n",
    "#\n",
    "\n",
    "\n"
   ]
  },
  {
   "cell_type": "markdown",
   "metadata": {},
   "source": [
    "# Zusatzaufgabe\n",
    "Das Lösen der Zusatzaufgabe erfordert fundierte Kenntnisse im Umgang mit Python.\n",
    "Die Zusatzaufgabe ist nur für diejenigen gedacht, die aus eigenem Interesse tiefer in die Materie einsteigen wollen!"
   ]
  },
  {
   "cell_type": "code",
   "execution_count": null,
   "metadata": {},
   "outputs": [],
   "source": [
    "#IFrame('https://www.dropbox.com/s/xe9bigu0yndc7m0/car.gif?raw=1', width=400, height=400)"
   ]
  },
  {
   "cell_type": "markdown",
   "metadata": {},
   "source": [
    "<div class=\"alert alert-block alert-danger\">\n",
    "    \n",
    "<b>Merke</b>\n",
    "    \n",
    "Informationen zu Animationen mit Python finden Sie in dem Jupyter Notebook `animation.ipynb` im Moodle-Kurs Python unter der Rubrik `Examples`. \n",
    "    \n",
    "</div>"
   ]
  },
  {
   "cell_type": "markdown",
   "metadata": {},
   "source": [
    "<div class=\"alert alert-block alert-info\">\n",
    "    \n",
    "### Zusatzaufgabe\n",
    "\n",
    "Erstellen Sie eine Animation, bei der die Grafik des Autos um den Ursprung in kleinen Schritten rotiert.   \n",
    "</div>"
   ]
  },
  {
   "cell_type": "code",
   "execution_count": null,
   "metadata": {},
   "outputs": [],
   "source": [
    "#\n",
    "# Ergänzen Sie bitte hier die Python Befehle für die Zusatzaufgabe!\n",
    "#\n",
    "\n",
    "\n"
   ]
  }
 ],
 "metadata": {
  "kernelspec": {
   "display_name": "Python 3",
   "language": "python",
   "name": "python3"
  },
  "language_info": {
   "codemirror_mode": {
    "name": "ipython",
    "version": 3
   },
   "file_extension": ".py",
   "mimetype": "text/x-python",
   "name": "python",
   "nbconvert_exporter": "python",
   "pygments_lexer": "ipython3",
   "version": "3.8.3"
  },
  "toc": {
   "base_numbering": 1,
   "nav_menu": {},
   "number_sections": true,
   "sideBar": true,
   "skip_h1_title": true,
   "title_cell": "Projekt \"Car\"",
   "title_sidebar": "Projekt \"Car\"",
   "toc_cell": true,
   "toc_position": {
    "height": "570.4px",
    "left": "35px",
    "top": "136.883px",
    "width": "195.167px"
   },
   "toc_section_display": false,
   "toc_window_display": true
  }
 },
 "nbformat": 4,
 "nbformat_minor": 2
}
