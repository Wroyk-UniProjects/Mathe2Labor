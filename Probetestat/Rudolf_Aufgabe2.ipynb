{
 "cells": [
  {
   "cell_type": "code",
   "execution_count": 8,
   "metadata": {},
   "outputs": [],
   "source": [
    "import numpy as np\r\n",
    "import matplotlib.pyplot as plt\r\n",
    "from sympy import *"
   ]
  },
  {
   "cell_type": "markdown",
   "metadata": {},
   "source": [
    "###### Plot Zeugs"
   ]
  },
  {
   "cell_type": "code",
   "execution_count": 9,
   "metadata": {},
   "outputs": [],
   "source": [
    "def new_plot(settings):\r\n",
    "    if settings != None and settings != {}:\r\n",
    "        \r\n",
    "\r\n",
    "        if \"figsize\" in settings:\r\n",
    "            figsize_multiplier = settings[\"figsize\"]\r\n",
    "        else:\r\n",
    "            figsize_multiplier = 1\r\n",
    "\r\n",
    "        if \"axis\" in settings and \"subplots\" in settings:\r\n",
    "            fig, axs = plt.subplots( settings[\"subplots\"][\"rows\"], settings[\"subplots\"][\"cols\"], figsize=( (settings[\"axis\"][\"x\"][1] - settings[\"axis\"][\"x\"][0]) * figsize_multiplier, ( settings[\"axis\"][\"y\"][1] - settings[\"axis\"][\"y\"][0]) * figsize_multiplier ))\r\n",
    "        elif \"axis\" in settings and not(\"subplots\" in settings):\r\n",
    "            fig, axs = plt.subplots( figsize=( (settings[\"axis\"][\"x\"][1] - settings[\"axis\"][\"x\"][0]) * figsize_multiplier, ( settings[\"axis\"][\"y\"][1] - settings[\"axis\"][\"y\"][0]) * figsize_multiplier ))\r\n",
    "        elif not(\"axis\" in settings) and \"subplots\" in settings and not(\"figsize\" in settings):\r\n",
    "            fig, axs = plt.subplots( settings[\"subplots\"][\"rows\"], settings[\"subplots\"][\"cols\"])\r\n",
    "        elif not(\"axis\" in settings) and \"subplots\" in settings and \"figsize\" in settings:\r\n",
    "            fig, axs = plt.subplots( settings[\"subplots\"][\"rows\"], settings[\"subplots\"][\"cols\"], figsize=(figsize_multiplier,figsize_multiplier))    \r\n",
    "        elif not(\"axis\" in settings) and not(\"subplots\" in settings) and \"figsize\" in settings:\r\n",
    "            fig, axs = plt.subplots(figsize=(figsize_multiplier,figsize_multiplier))\r\n",
    "        else:\r\n",
    "            fig, axs = plt.subplots()\r\n",
    " \r\n",
    "        if(np.size(axs) == 1):\r\n",
    "            axs = [axs]\r\n",
    "\r\n",
    "        for ax in axs:\r\n",
    "        #Achsen Skala\r\n",
    "            if \"lock_axis\" in settings and settings[\"lock_axis\"] and \"axis\" in settings:\r\n",
    "                ax.axis([settings[\"axis\"][\"x\"][0],settings[\"axis\"][\"x\"][1],settings[\"axis\"][\"y\"][0],settings[\"axis\"][\"y\"][1]])\r\n",
    "\r\n",
    "            #Achsen Beschriftunge\r\n",
    "            if \"axis_label_steps\" in settings and \"axis\" in settings:\r\n",
    "                ax.set_xticks( np.arange(settings[\"axis\"][\"x\"][0], settings[\"axis\"][\"x\"][1] +1, settings[\"axis_label_steps\"][\"x\"]))\r\n",
    "                ax.set_yticks( np.arange(settings[\"axis\"][\"y\"][0], settings[\"axis\"][\"y\"][1] +1, settings[\"axis_label_steps\"][\"y\"]))\r\n",
    "            \r\n",
    "\r\n",
    "            #Gitter\r\n",
    "            if \"grid\" in settings:\r\n",
    "                if \"axis\" in settings and \"minor_steps\" in settings[\"grid\"]:\r\n",
    "                    ax.set_xticks(np.arange(settings[\"axis\"][\"x\"][0], settings[\"axis\"][\"x\"][1] +1, settings[\"grid\"][\"minor_steps\"][\"x\"]),minor=True)\r\n",
    "                    ax.set_yticks(np.arange(settings[\"axis\"][\"y\"][0], settings[\"axis\"][\"y\"][1] +1, settings[\"grid\"][\"minor_steps\"][\"y\"]),minor=True)\r\n",
    "\r\n",
    "                elif \"axis\" in settings and not(\"minor_steps\" in settings[\"grid\"]):\r\n",
    "                    ax.set_xticks(np.arange(settings[\"axis\"][\"x\"][0], settings[\"axis\"][\"x\"][1] +1),minor=True)\r\n",
    "                    ax.set_yticks(np.arange(settings[\"axis\"][\"y\"][0], settings[\"axis\"][\"y\"][1] +1),minor=True)\r\n",
    "                    \r\n",
    "                else:\r\n",
    "                    ax.minorticks_on()\r\n",
    "\r\n",
    "                ax.grid(which='minor', alpha=settings[\"grid\"][\"minor_alpha\"])\r\n",
    "                ax.grid(which='major', alpha=settings[\"grid\"][\"major_alpha\"])\r\n",
    "\r\n",
    "            #Achsen Verhältings\r\n",
    "            if \"aspect\" in settings:\r\n",
    "                ax.set_aspect(settings[\"aspect\"])\r\n",
    "\r\n",
    "        if(np.size(axs) == 1):\r\n",
    "            axs = axs[0]\r\n",
    "\r\n",
    "    else:\r\n",
    "        fig, axs = plt.subplots()\r\n",
    "    \r\n",
    "    return fig, axs"
   ]
  },
  {
   "cell_type": "code",
   "execution_count": 10,
   "metadata": {},
   "outputs": [],
   "source": [
    "def draw_plot(x,y,color,settings=None,subplot=(None,None)):\r\n",
    "\r\n",
    "    if subplot == (None,None):\r\n",
    "        fig, ax = new_plot(settings)\r\n",
    "    else:\r\n",
    "        fig, ax = subplot\r\n",
    " \r\n",
    "    if np.size(ax) > 1:\r\n",
    "        for i in range(0, np.size(ax)):\r\n",
    "            ax[i].plot(x[i], y[i], color[i])\r\n",
    "    else:\r\n",
    "        ax.plot(x, y, color)\r\n",
    "    \r\n",
    "    return fig, ax"
   ]
  },
  {
   "cell_type": "markdown",
   "metadata": {},
   "source": [
    "# Aufgabe "
   ]
  },
  {
   "cell_type": "markdown",
   "metadata": {},
   "source": [
    "### Direkte Lösung"
   ]
  },
  {
   "cell_type": "code",
   "execution_count": 25,
   "metadata": {},
   "outputs": [
    {
     "data": {
      "text/plain": "Text(0, 1, '$f(t)$')"
     },
     "execution_count": 25,
     "metadata": {},
     "output_type": "execute_result"
    },
    {
     "data": {
      "image/png": "[encoded data removed]",
      "text/plain": "<Figure size 432x288 with 1 Axes>"
     },
     "metadata": {
      "needs_background": "light"
     },
     "output_type": "display_data"
    }
   ],
   "source": [
    "\r\n",
    "t0, t1 = 0.0, 10.0\r\n",
    "h = 0.1\r\n",
    "t = np.arange(t0,t1+h,h)\r\n",
    "\r\n",
    "y = (np.sin(t)/5) - (3*np.cos(t)/5) + 2*np.exp(-t) - (7*np.exp(-2*t)/5)\r\n",
    "\r\n",
    "\r\n",
    "fig, ax = draw_plot(t, y, 'b')\r\n",
    "\r\n",
    "ax.spines['left'].set_position(('data', 0))\r\n",
    "ax.spines['bottom'].set_position(('data', 0))\r\n",
    "ax.spines['top'].set_visible(False)\r\n",
    "ax.spines['right'].set_visible(False)\r\n",
    "ax.set_xlabel('$t$', loc='right')\r\n",
    "ax.set_ylabel('$f(t)$', loc='top')"
   ]
  },
  {
   "cell_type": "markdown",
   "metadata": {},
   "source": [
    "### Sybolische Lösung"
   ]
  },
  {
   "cell_type": "code",
   "execution_count": 26,
   "metadata": {},
   "outputs": [
    {
     "data": {
      "image/png": "[encoded data removed]",
      "text/plain": "<Figure size 432x288 with 1 Axes>"
     },
     "metadata": {
      "needs_background": "light"
     },
     "output_type": "display_data"
    },
    {
     "data": {
      "text/plain": "<sympy.plotting.plot.Plot at 0x1741565b408>"
     },
     "execution_count": 26,
     "metadata": {},
     "output_type": "execute_result"
    }
   ],
   "source": [
    "x0 = 0.0\r\n",
    "xp0 = 1.0\r\n",
    "\r\n",
    "t0, t1 = 0.0, 10.0\r\n",
    "\r\n",
    "\r\n",
    "t =  Symbol('t')\r\n",
    "x = Function('x')(t)\r\n",
    "\r\n",
    "xp = Derivative(x)\r\n",
    "xpp = Derivative(xp)\r\n",
    "\r\n",
    "ode = Eq( xpp + 3*xp + 2*x , 2 * sin(t))\r\n",
    "\r\n",
    "initconds = {x.subs(t, 0): x0, xp.subs(t, 0): xp0}\r\n",
    "\r\n",
    "\r\n",
    "solf = dsolve(ode , ics=initconds)\r\n",
    "\r\n",
    "#print(latex(solf))\r\n",
    "plot (solf.rhs, (t, t0, t1))"
   ]
  }
 ],
 "metadata": {
  "kernelspec": {
   "display_name": "Python 3.7.8 64-bit ('.env': venv)",
   "name": "pythonjvsc74a57bd034439084feb7807680e8c45c1c18886aa662588cfd0da68ab1846e2c632ecaf5"
  },
  "language_info": {
   "codemirror_mode": {
    "name": "ipython",
    "version": 3
   },
   "file_extension": ".py",
   "mimetype": "text/x-python",
   "name": "python",
   "nbconvert_exporter": "python",
   "pygments_lexer": "ipython3",
   "version": "3.7.8"
  },
  "metadata": {
   "interpreter": {
    "hash": "34439084feb7807680e8c45c1c18886aa662588cfd0da68ab1846e2c632ecaf5"
   }
  },
  "orig_nbformat": 3
 },
 "nbformat": 4,
 "nbformat_minor": 2
}