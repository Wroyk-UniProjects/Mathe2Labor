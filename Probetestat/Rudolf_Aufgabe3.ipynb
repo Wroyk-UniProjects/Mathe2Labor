{
 "cells": [
  {
   "cell_type": "code",
   "execution_count": 1,
   "metadata": {},
   "outputs": [],
   "source": [
    "import numpy as np\r\n",
    "import matplotlib.pyplot as plt"
   ]
  },
  {
   "cell_type": "markdown",
   "metadata": {},
   "source": [
    "###### Plot Zeugs"
   ]
  },
  {
   "cell_type": "code",
   "execution_count": 2,
   "metadata": {},
   "outputs": [],
   "source": [
    "def new_plot(settings):\r\n",
    "    if settings != None and settings != {}:\r\n",
    "        \r\n",
    "\r\n",
    "        if \"figsize\" in settings:\r\n",
    "            figsize_multiplier = settings[\"figsize\"]\r\n",
    "        else:\r\n",
    "            figsize_multiplier = 1\r\n",
    "\r\n",
    "        if \"axis\" in settings and \"subplots\" in settings:\r\n",
    "            fig, axs = plt.subplots( settings[\"subplots\"][\"rows\"], settings[\"subplots\"][\"cols\"], figsize=( (settings[\"axis\"][\"x\"][1] - settings[\"axis\"][\"x\"][0]) * figsize_multiplier, ( settings[\"axis\"][\"y\"][1] - settings[\"axis\"][\"y\"][0]) * figsize_multiplier ))\r\n",
    "        elif \"axis\" in settings and not(\"subplots\" in settings):\r\n",
    "            fig, axs = plt.subplots( figsize=( (settings[\"axis\"][\"x\"][1] - settings[\"axis\"][\"x\"][0]) * figsize_multiplier, ( settings[\"axis\"][\"y\"][1] - settings[\"axis\"][\"y\"][0]) * figsize_multiplier ))\r\n",
    "        elif not(\"axis\" in settings) and \"subplots\" in settings and not(\"figsize\" in settings):\r\n",
    "            fig, axs = plt.subplots( settings[\"subplots\"][\"rows\"], settings[\"subplots\"][\"cols\"])\r\n",
    "        elif not(\"axis\" in settings) and \"subplots\" in settings and \"figsize\" in settings:\r\n",
    "            fig, axs = plt.subplots( settings[\"subplots\"][\"rows\"], settings[\"subplots\"][\"cols\"], figsize=(figsize_multiplier,figsize_multiplier))    \r\n",
    "        elif not(\"axis\" in settings) and not(\"subplots\" in settings) and \"figsize\" in settings:\r\n",
    "            fig, axs = plt.subplots(figsize=(figsize_multiplier,figsize_multiplier))\r\n",
    "        else:\r\n",
    "            fig, axs = plt.subplots()\r\n",
    " \r\n",
    "        if(np.size(axs) == 1):\r\n",
    "            axs = [axs]\r\n",
    "\r\n",
    "        for ax in axs:\r\n",
    "        #Achsen Skala\r\n",
    "            if \"lock_axis\" in settings and settings[\"lock_axis\"] and \"axis\" in settings:\r\n",
    "                ax.axis([settings[\"axis\"][\"x\"][0],settings[\"axis\"][\"x\"][1],settings[\"axis\"][\"y\"][0],settings[\"axis\"][\"y\"][1]])\r\n",
    "\r\n",
    "            #Achsen Beschriftunge\r\n",
    "            if \"axis_label_steps\" in settings and \"axis\" in settings:\r\n",
    "                ax.set_xticks( np.arange(settings[\"axis\"][\"x\"][0], settings[\"axis\"][\"x\"][1] +1, settings[\"axis_label_steps\"][\"x\"]))\r\n",
    "                ax.set_yticks( np.arange(settings[\"axis\"][\"y\"][0], settings[\"axis\"][\"y\"][1] +1, settings[\"axis_label_steps\"][\"y\"]))\r\n",
    "            \r\n",
    "\r\n",
    "            #Gitter\r\n",
    "            if \"grid\" in settings:\r\n",
    "                if \"axis\" in settings and \"minor_steps\" in settings[\"grid\"]:\r\n",
    "                    ax.set_xticks(np.arange(settings[\"axis\"][\"x\"][0], settings[\"axis\"][\"x\"][1] +1, settings[\"grid\"][\"minor_steps\"][\"x\"]),minor=True)\r\n",
    "                    ax.set_yticks(np.arange(settings[\"axis\"][\"y\"][0], settings[\"axis\"][\"y\"][1] +1, settings[\"grid\"][\"minor_steps\"][\"y\"]),minor=True)\r\n",
    "\r\n",
    "                elif \"axis\" in settings and not(\"minor_steps\" in settings[\"grid\"]):\r\n",
    "                    ax.set_xticks(np.arange(settings[\"axis\"][\"x\"][0], settings[\"axis\"][\"x\"][1] +1),minor=True)\r\n",
    "                    ax.set_yticks(np.arange(settings[\"axis\"][\"y\"][0], settings[\"axis\"][\"y\"][1] +1),minor=True)\r\n",
    "                    \r\n",
    "                else:\r\n",
    "                    ax.minorticks_on()\r\n",
    "\r\n",
    "                ax.grid(which='minor', alpha=settings[\"grid\"][\"minor_alpha\"])\r\n",
    "                ax.grid(which='major', alpha=settings[\"grid\"][\"major_alpha\"])\r\n",
    "\r\n",
    "            #Achsen Verhältings\r\n",
    "            if \"aspect\" in settings:\r\n",
    "                ax.set_aspect(settings[\"aspect\"])\r\n",
    "\r\n",
    "        if(np.size(axs) == 1):\r\n",
    "            axs = axs[0]\r\n",
    "\r\n",
    "    else:\r\n",
    "        fig, axs = plt.subplots()\r\n",
    "    \r\n",
    "    return fig, axs"
   ]
  },
  {
   "cell_type": "code",
   "execution_count": 3,
   "metadata": {},
   "outputs": [],
   "source": [
    "def draw_plot(x,y,color,settings=None,subplot=(None,None)):\r\n",
    "\r\n",
    "    if subplot == (None,None):\r\n",
    "        fig, ax = new_plot(settings)\r\n",
    "    else:\r\n",
    "        fig, ax = subplot\r\n",
    " \r\n",
    "    if np.size(ax) > 1:\r\n",
    "        for i in range(0, np.size(ax)):\r\n",
    "            ax[i].plot(x[i], y[i], color[i])\r\n",
    "    else:\r\n",
    "        ax.plot(x, y, color)\r\n",
    "    \r\n",
    "    return fig, ax"
   ]
  },
  {
   "cell_type": "markdown",
   "metadata": {},
   "source": [
    "# Aufgabe "
   ]
  },
  {
   "cell_type": "markdown",
   "metadata": {},
   "source": [
    "##### plot_settings"
   ]
  },
  {
   "cell_type": "code",
   "execution_count": 4,
   "metadata": {},
   "outputs": [],
   "source": [
    "plot_settings={\r\n",
    "    \"axis\":{\r\n",
    "        \"x\": (0,6),\r\n",
    "        \"y\": (-1,3)\r\n",
    "    },\r\n",
    "    \"aspect\": 'equal',\r\n",
    "    \"axis_label_steps\":{\r\n",
    "        \"x\": 1,\r\n",
    "        \"y\": 1,\r\n",
    "    },\r\n",
    "    \"lock_axis\": True,\r\n",
    "    \"grid\":{\r\n",
    "        \"minor_alpha\": 0.2,\r\n",
    "        \"major_alpha\": 0.8,\r\n",
    "        \"minor_steps\":{\r\n",
    "            \"x\": 0.5,\r\n",
    "            \"y\": 0.5\r\n",
    "        }\r\n",
    "    }\r\n",
    "}"
   ]
  },
  {
   "cell_type": "markdown",
   "metadata": {},
   "source": [
    "#### Lösung"
   ]
  },
  {
   "cell_type": "code",
   "execution_count": 5,
   "metadata": {},
   "outputs": [],
   "source": [
    "def polynominterpolation_VmM(points):\r\n",
    "    X = [] # Vandermonde-Matrix\r\n",
    "    f = [] # Funktionswerte\r\n",
    "\r\n",
    "    # Generiren der Vandermonde-Matrix und Funktionswerte aus übergeben Punkten\r\n",
    "    for  x, y in points:\r\n",
    "        X_row = [1, x] #X_row ist eine Zeile der Vandermonde-Matrix\r\n",
    "        for i in range(2, len(points)):  #\r\n",
    "            X_row.append(np.power(x, i)) # [1, x, ..., x^(n-1)], n: Anzahl der Punkte(len(points))\r\n",
    "\r\n",
    "        X.append(X_row)\r\n",
    "        f.append(y)\r\n",
    "\r\n",
    "    a = np.linalg.solve(X,f) # Bestimen der Koeffizienten\r\n",
    "\r\n",
    "    return a"
   ]
  },
  {
   "cell_type": "code",
   "execution_count": 6,
   "metadata": {},
   "outputs": [],
   "source": [
    "def curve_through(points, start, ende, resolution = 1):\r\n",
    "\r\n",
    "    # Polynominterpolation mit Vandermonde-Matrix\r\n",
    "    # Ergebnis ist ein Polinom n-Grades wo n der Anzahl von punkten entspricht\r\n",
    "    a = polynominterpolation_VmM(points)# a: Koeffizienten des Polinom durch die Punkte\r\n",
    "\r\n",
    "    #x = sorted(x)\r\n",
    "    #x = np.linspace(x[0], x[-1], resolution)\r\n",
    "\r\n",
    "    #Den kleinsten x- und grösten x-Wert nemen (es wird erwartet das die punkt entlang der x-Achse sortitrt sind)\r\n",
    "    x_out = np.arange(start, ende +resolution, resolution)# x_out Lister aller x zwischen kleinsten x- und grösten x-Wert mit der Schrittweite 1\r\n",
    "    y_out = []\r\n",
    "\r\n",
    "    # x in das Polynom einsetzen\r\n",
    "    for x in x_out:\r\n",
    "        y = a[0] + a[1]*x            # ----|\r\n",
    "        for i in range(2,a.size):    #    \\/\r\n",
    "           y += a[i] * np.power(x, i)# a0 + a1*x + ... + an*x^n  , n: Anzal der Koeffizienten(a.size)\r\n",
    "        \r\n",
    "        y_out.append(y)\r\n",
    "\r\n",
    "    x_out = np.append(x_out, np.nan)\r\n",
    "    y_out = np.append(y_out, np.nan)\r\n",
    "    return x_out, y_out"
   ]
  },
  {
   "cell_type": "code",
   "execution_count": 7,
   "metadata": {},
   "outputs": [],
   "source": [
    "p_x = [1, 2, 3, 4, 5]\r\n",
    "p_y = [0, 0, 1, 0, 0]\r\n",
    "\r\n",
    "x, y = curve_through([(1,0), (2,0), (3,1), (4,0), (5,0)], 0, 7, 0.01) "
   ]
  },
  {
   "cell_type": "markdown",
   "metadata": {},
   "source": [
    "##### Plot"
   ]
  },
  {
   "cell_type": "code",
   "execution_count": 8,
   "metadata": {},
   "outputs": [
    {
     "data": {
      "text/plain": "(<Figure size 432x288 with 1 Axes>, <AxesSubplot:>)"
     },
     "execution_count": 8,
     "metadata": {},
     "output_type": "execute_result"
    },
    {
     "data": {
      "image/png": "[encoded data removed]",
      "text/plain": "<Figure size 432x288 with 1 Axes>"
     },
     "metadata": {
      "needs_background": "light"
     },
     "output_type": "display_data"
    }
   ],
   "source": [
    "subplot = draw_plot(x,y,'b', plot_settings)\r\n",
    "draw_plot(p_x,p_y,'r*', subplot=subplot)\r\n"
   ]
  }
 ],
 "metadata": {
  "kernelspec": {
   "display_name": "Python 3.7.8 64-bit ('.env': venv)",
   "name": "pythonjvsc74a57bd034439084feb7807680e8c45c1c18886aa662588cfd0da68ab1846e2c632ecaf5"
  },
  "language_info": {
   "codemirror_mode": {
    "name": "ipython",
    "version": 3
   },
   "file_extension": ".py",
   "mimetype": "text/x-python",
   "name": "python",
   "nbconvert_exporter": "python",
   "pygments_lexer": "ipython3",
   "version": "3.7.8"
  },
  "metadata": {
   "interpreter": {
    "hash": "34439084feb7807680e8c45c1c18886aa662588cfd0da68ab1846e2c632ecaf5"
   }
  },
  "orig_nbformat": 3
 },
 "nbformat": 4,
 "nbformat_minor": 2
}