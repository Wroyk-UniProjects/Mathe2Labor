{
 "cells": [
  {
   "cell_type": "code",
   "execution_count": 1,
   "metadata": {},
   "outputs": [],
   "source": [
    "import numpy as np\r\n",
    "import matplotlib.pyplot as plt"
   ]
  },
  {
   "cell_type": "markdown",
   "metadata": {},
   "source": [
    "###### Plot Zeugs"
   ]
  },
  {
   "cell_type": "code",
   "execution_count": 2,
   "metadata": {},
   "outputs": [],
   "source": [
    "def new_plot(settings):\r\n",
    "    if settings != None and settings != {}:\r\n",
    "        \r\n",
    "\r\n",
    "        if \"figsize\" in settings:\r\n",
    "            figsize_multiplier = settings[\"figsize\"]\r\n",
    "        else:\r\n",
    "            figsize_multiplier = 1\r\n",
    "\r\n",
    "        if \"axis\" in settings and \"subplots\" in settings:\r\n",
    "            fig, axs = plt.subplots( settings[\"subplots\"][\"rows\"], settings[\"subplots\"][\"cols\"], figsize=( (settings[\"axis\"][\"x\"][1] - settings[\"axis\"][\"x\"][0]) * figsize_multiplier, ( settings[\"axis\"][\"y\"][1] - settings[\"axis\"][\"y\"][0]) * figsize_multiplier ))\r\n",
    "        elif \"axis\" in settings and not(\"subplots\" in settings):\r\n",
    "            fig, axs = plt.subplots( figsize=( (settings[\"axis\"][\"x\"][1] - settings[\"axis\"][\"x\"][0]) * figsize_multiplier, ( settings[\"axis\"][\"y\"][1] - settings[\"axis\"][\"y\"][0]) * figsize_multiplier ))\r\n",
    "        elif not(\"axis\" in settings) and \"subplots\" in settings and not(\"figsize\" in settings):\r\n",
    "            fig, axs = plt.subplots( settings[\"subplots\"][\"rows\"], settings[\"subplots\"][\"cols\"])\r\n",
    "        elif not(\"axis\" in settings) and \"subplots\" in settings and \"figsize\" in settings:\r\n",
    "            fig, axs = plt.subplots( settings[\"subplots\"][\"rows\"], settings[\"subplots\"][\"cols\"], figsize=(figsize_multiplier,figsize_multiplier))    \r\n",
    "        elif not(\"axis\" in settings) and not(\"subplots\" in settings) and \"figsize\" in settings:\r\n",
    "            fig, axs = plt.subplots(figsize=(figsize_multiplier,figsize_multiplier))\r\n",
    "        else:\r\n",
    "            fig, axs = plt.subplots()\r\n",
    " \r\n",
    "        if(np.size(axs) == 1):\r\n",
    "            axs = [axs]\r\n",
    "\r\n",
    "        for ax in axs:\r\n",
    "        #Achsen Skala\r\n",
    "            if \"lock_axis\" in settings and settings[\"lock_axis\"] and \"axis\" in settings:\r\n",
    "                ax.axis([settings[\"axis\"][\"x\"][0],settings[\"axis\"][\"x\"][1],settings[\"axis\"][\"y\"][0],settings[\"axis\"][\"y\"][1]])\r\n",
    "\r\n",
    "            #Achsen Beschriftunge\r\n",
    "            if \"axis_label_steps\" in settings and \"axis\" in settings:\r\n",
    "                ax.set_xticks( np.arange(settings[\"axis\"][\"x\"][0], settings[\"axis\"][\"x\"][1] +1, settings[\"axis_label_steps\"][\"x\"]))\r\n",
    "                ax.set_yticks( np.arange(settings[\"axis\"][\"y\"][0], settings[\"axis\"][\"y\"][1] +1, settings[\"axis_label_steps\"][\"y\"]))\r\n",
    "            \r\n",
    "\r\n",
    "            #Gitter\r\n",
    "            if \"grid\" in settings:\r\n",
    "                if \"axis\" in settings and \"minor_steps\" in settings[\"grid\"]:\r\n",
    "                    ax.set_xticks(np.arange(settings[\"axis\"][\"x\"][0], settings[\"axis\"][\"x\"][1] +1, settings[\"grid\"][\"minor_steps\"][\"x\"]),minor=True)\r\n",
    "                    ax.set_yticks(np.arange(settings[\"axis\"][\"y\"][0], settings[\"axis\"][\"y\"][1] +1, settings[\"grid\"][\"minor_steps\"][\"y\"]),minor=True)\r\n",
    "\r\n",
    "                elif \"axis\" in settings and not(\"minor_steps\" in settings[\"grid\"]):\r\n",
    "                    ax.set_xticks(np.arange(settings[\"axis\"][\"x\"][0], settings[\"axis\"][\"x\"][1] +1),minor=True)\r\n",
    "                    ax.set_yticks(np.arange(settings[\"axis\"][\"y\"][0], settings[\"axis\"][\"y\"][1] +1),minor=True)\r\n",
    "                    \r\n",
    "                else:\r\n",
    "                    ax.minorticks_on()\r\n",
    "\r\n",
    "                ax.grid(which='minor', alpha=settings[\"grid\"][\"minor_alpha\"])\r\n",
    "                ax.grid(which='major', alpha=settings[\"grid\"][\"major_alpha\"])\r\n",
    "\r\n",
    "            #Achsen Verhältings\r\n",
    "            if \"aspect\" in settings:\r\n",
    "                ax.set_aspect(settings[\"aspect\"])\r\n",
    "\r\n",
    "        if(np.size(axs) == 1):\r\n",
    "            axs = axs[0]\r\n",
    "\r\n",
    "    else:\r\n",
    "        fig, axs = plt.subplots()\r\n",
    "    \r\n",
    "    return fig, axs"
   ]
  },
  {
   "cell_type": "code",
   "execution_count": 3,
   "metadata": {},
   "outputs": [],
   "source": [
    "def draw_plot(x,y,color,settings=None,subplot=(None,None)):\r\n",
    "\r\n",
    "    if subplot == (None,None):\r\n",
    "        fig, ax = new_plot(settings)\r\n",
    "    else:\r\n",
    "        fig, ax = subplot\r\n",
    " \r\n",
    "    if np.size(ax) > 1:\r\n",
    "        for i in range(0, np.size(ax)):\r\n",
    "            ax[i].plot(x[i], y[i], color[i])\r\n",
    "    else:\r\n",
    "        ax.plot(x, y, color)\r\n",
    "    \r\n",
    "    return fig, ax"
   ]
  },
  {
   "cell_type": "markdown",
   "metadata": {},
   "source": [
    "# Aufgabe "
   ]
  },
  {
   "cell_type": "markdown",
   "metadata": {},
   "source": [
    "#### plot_settings:"
   ]
  },
  {
   "cell_type": "markdown",
   "metadata": {},
   "source": [
    "#### Euler"
   ]
  },
  {
   "cell_type": "code",
   "execution_count": 4,
   "metadata": {},
   "outputs": [],
   "source": [
    "def euler(t0, t1, h, x0, funktion):\r\n",
    "    t = np.arange(t0,t1+h,h)\r\n",
    "    n = np.size(t)# Anzahl an t\r\n",
    "    o = np.size(x0)# \r\n",
    "    x = np.zeros([o,n])# Array mit Nullen mit der selben Grösse wie t\r\n",
    "\r\n",
    "    x[:,0] = x0\r\n",
    "    for k in range(n-1):\r\n",
    "        x[:, k+1] = x[:,k] + h * funktion(t[k],x[:,k])\r\n",
    "    \r\n",
    "    if o <= 1:\r\n",
    "        x = x[0]\r\n",
    "\r\n",
    "    return t, x"
   ]
  },
  {
   "cell_type": "code",
   "execution_count": 5,
   "metadata": {},
   "outputs": [],
   "source": [
    "def ode(t, z):\r\n",
    "    B = 1.0\r\n",
    "    L0 = 0.5\r\n",
    "\r\n",
    "    f = np.array([z[1],-100 * (z[1]*(z[0]**2) - B*z[1] + z[0] -L0) ])\r\n",
    "    return f\r\n",
    "\r\n",
    "x0 = 0.6\r\n",
    "xp0 = 0.0\r\n",
    "\r\n",
    "z0 = np.array([x0, xp0])\r\n",
    "\r\n",
    "h = 0.001\r\n",
    "t0, t1 = 0.0, 10.0"
   ]
  },
  {
   "cell_type": "code",
   "execution_count": 6,
   "metadata": {},
   "outputs": [],
   "source": [
    "t, z = euler(t0, t1, h, z0, ode)"
   ]
  },
  {
   "cell_type": "markdown",
   "metadata": {},
   "source": [
    "#### Plots"
   ]
  },
  {
   "cell_type": "code",
   "execution_count": 7,
   "metadata": {},
   "outputs": [
    {
     "data": {
      "text/plain": "[Text(0.5, 0, '$t$'), Text(0, 0.5, '$x$')]"
     },
     "execution_count": 7,
     "metadata": {},
     "output_type": "execute_result"
    },
    {
     "data": {
      "image/png": "[encoded data removed]",
      "text/plain": "<Figure size 432x288 with 1 Axes>"
     },
     "metadata": {
      "needs_background": "light"
     },
     "output_type": "display_data"
    }
   ],
   "source": [
    "fig, ax = draw_plot(t, z[0], 'b')\r\n",
    "ax.set(xlabel='$t$', ylabel='$x$')"
   ]
  },
  {
   "cell_type": "code",
   "execution_count": 8,
   "metadata": {},
   "outputs": [
    {
     "data": {
      "text/plain": "[Text(0.5, 0, '$t$'), Text(0, 0.5, '$\\\\dot{x}$')]"
     },
     "execution_count": 8,
     "metadata": {},
     "output_type": "execute_result"
    },
    {
     "data": {
      "image/png": "[encoded data removed]",
      "text/plain": "<Figure size 432x288 with 1 Axes>"
     },
     "metadata": {
      "needs_background": "light"
     },
     "output_type": "display_data"
    }
   ],
   "source": [
    "fig, ax = draw_plot(z[0], z[1], 'b')\r\n",
    "ax.set(xlabel='$t$', ylabel='$\\dot{x}$')"
   ]
  }
 ],
 "metadata": {
  "kernelspec": {
   "display_name": "Python 3.7.8 64-bit ('.env': venv)",
   "name": "pythonjvsc74a57bd034439084feb7807680e8c45c1c18886aa662588cfd0da68ab1846e2c632ecaf5"
  },
  "language_info": {
   "name": "python",
   "version": ""
  },
  "metadata": {
   "interpreter": {
    "hash": "34439084feb7807680e8c45c1c18886aa662588cfd0da68ab1846e2c632ecaf5"
   }
  },
  "orig_nbformat": 3
 },
 "nbformat": 4,
 "nbformat_minor": 2
}