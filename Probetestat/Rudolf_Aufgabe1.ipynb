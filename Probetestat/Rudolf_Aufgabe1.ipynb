{
 "cells": [
  {
   "cell_type": "code",
   "execution_count": null,
   "metadata": {},
   "outputs": [],
   "source": [
    "import numpy as np\r\n",
    "import matplotlib.pyplot as plt\r\n",
    "from sympy import *"
   ]
  },
  {
   "cell_type": "markdown",
   "metadata": {},
   "source": [
    "###### Plot Zeugs"
   ]
  },
  {
   "cell_type": "code",
   "execution_count": null,
   "metadata": {},
   "outputs": [],
   "source": [
    "def new_plot(settings):\r\n",
    "    if settings != None and settings != {}:\r\n",
    "        \r\n",
    "\r\n",
    "        if \"figsize\" in settings:\r\n",
    "            figsize_multiplier = settings[\"figsize\"]\r\n",
    "        else:\r\n",
    "            figsize_multiplier = 1\r\n",
    "\r\n",
    "        if \"axis\" in settings and \"subplots\" in settings:\r\n",
    "            fig, axs = plt.subplots( settings[\"subplots\"][\"rows\"], settings[\"subplots\"][\"cols\"], figsize=( (settings[\"axis\"][\"x\"][1] - settings[\"axis\"][\"x\"][0]) * figsize_multiplier, ( settings[\"axis\"][\"y\"][1] - settings[\"axis\"][\"y\"][0]) * figsize_multiplier ))\r\n",
    "        elif \"axis\" in settings and not(\"subplots\" in settings):\r\n",
    "            fig, axs = plt.subplots( figsize=( (settings[\"axis\"][\"x\"][1] - settings[\"axis\"][\"x\"][0]) * figsize_multiplier, ( settings[\"axis\"][\"y\"][1] - settings[\"axis\"][\"y\"][0]) * figsize_multiplier ))\r\n",
    "        elif not(\"axis\" in settings) and \"subplots\" in settings and not(\"figsize\" in settings):\r\n",
    "            fig, axs = plt.subplots( settings[\"subplots\"][\"rows\"], settings[\"subplots\"][\"cols\"])\r\n",
    "        elif not(\"axis\" in settings) and \"subplots\" in settings and \"figsize\" in settings:\r\n",
    "            fig, axs = plt.subplots( settings[\"subplots\"][\"rows\"], settings[\"subplots\"][\"cols\"], figsize=(figsize_multiplier,figsize_multiplier))    \r\n",
    "        elif not(\"axis\" in settings) and not(\"subplots\" in settings) and \"figsize\" in settings:\r\n",
    "            fig, axs = plt.subplots(figsize=(figsize_multiplier,figsize_multiplier))\r\n",
    "        else:\r\n",
    "            fig, axs = plt.subplots()\r\n",
    " \r\n",
    "        if(np.size(axs) == 1):\r\n",
    "            axs = [axs]\r\n",
    "\r\n",
    "        for ax in axs:\r\n",
    "        #Achsen Skala\r\n",
    "            if \"lock_axis\" in settings and settings[\"lock_axis\"] and \"axis\" in settings:\r\n",
    "                ax.axis([settings[\"axis\"][\"x\"][0],settings[\"axis\"][\"x\"][1],settings[\"axis\"][\"y\"][0],settings[\"axis\"][\"y\"][1]])\r\n",
    "\r\n",
    "            #Achsen Beschriftunge\r\n",
    "            if \"axis_label_steps\" in settings and \"axis\" in settings:\r\n",
    "                ax.set_xticks( np.arange(settings[\"axis\"][\"x\"][0], settings[\"axis\"][\"x\"][1] +1, settings[\"axis_label_steps\"][\"x\"]))\r\n",
    "                ax.set_yticks( np.arange(settings[\"axis\"][\"y\"][0], settings[\"axis\"][\"y\"][1] +1, settings[\"axis_label_steps\"][\"y\"]))\r\n",
    "            \r\n",
    "\r\n",
    "            #Gitter\r\n",
    "            if \"grid\" in settings:\r\n",
    "                if \"axis\" in settings and \"minor_steps\" in settings[\"grid\"]:\r\n",
    "                    ax.set_xticks(np.arange(settings[\"axis\"][\"x\"][0], settings[\"axis\"][\"x\"][1] +1, settings[\"grid\"][\"minor_steps\"][\"x\"]),minor=True)\r\n",
    "                    ax.set_yticks(np.arange(settings[\"axis\"][\"y\"][0], settings[\"axis\"][\"y\"][1] +1, settings[\"grid\"][\"minor_steps\"][\"y\"]),minor=True)\r\n",
    "\r\n",
    "                elif \"axis\" in settings and not(\"minor_steps\" in settings[\"grid\"]):\r\n",
    "                    ax.set_xticks(np.arange(settings[\"axis\"][\"x\"][0], settings[\"axis\"][\"x\"][1] +1),minor=True)\r\n",
    "                    ax.set_yticks(np.arange(settings[\"axis\"][\"y\"][0], settings[\"axis\"][\"y\"][1] +1),minor=True)\r\n",
    "                    \r\n",
    "                else:\r\n",
    "                    ax.minorticks_on()\r\n",
    "\r\n",
    "                ax.grid(which='minor', alpha=settings[\"grid\"][\"minor_alpha\"])\r\n",
    "                ax.grid(which='major', alpha=settings[\"grid\"][\"major_alpha\"])\r\n",
    "\r\n",
    "            #Achsen Verhältings\r\n",
    "            if \"aspect\" in settings:\r\n",
    "                ax.set_aspect(settings[\"aspect\"])\r\n",
    "\r\n",
    "        if(np.size(axs) == 1):\r\n",
    "            axs = axs[0]\r\n",
    "\r\n",
    "    else:\r\n",
    "        fig, axs = plt.subplots()\r\n",
    "    \r\n",
    "    return fig, axs"
   ]
  },
  {
   "cell_type": "code",
   "execution_count": null,
   "metadata": {},
   "outputs": [],
   "source": [
    "def draw_plot(x,y,color,settings=None,subplot=(None,None)):\r\n",
    "\r\n",
    "    if subplot == (None,None):\r\n",
    "        fig, ax = new_plot(settings)\r\n",
    "    else:\r\n",
    "        fig, ax = subplot\r\n",
    " \r\n",
    "    if np.size(ax) > 1:\r\n",
    "        for i in range(0, np.size(ax)):\r\n",
    "            ax[i].plot(x[i], y[i], color[i])\r\n",
    "    else:\r\n",
    "        ax.plot(x, y, color)\r\n",
    "    \r\n",
    "    return fig, ax"
   ]
  },
  {
   "cell_type": "markdown",
   "metadata": {},
   "source": [
    "# Aufgabe 1"
   ]
  },
  {
   "cell_type": "code",
   "execution_count": null,
   "metadata": {},
   "outputs": [],
   "source": [
    "B = 1.0\r\n",
    "L0 = 0.5\r\n",
    "\r\n",
    "x0 = "
   ]
  }
 ],
 "metadata": {
  "language_info": {},
  "orig_nbformat": 3
 },
 "nbformat": 4,
 "nbformat_minor": 2
}